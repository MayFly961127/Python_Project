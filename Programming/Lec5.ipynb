{
 "cells": [
  {
   "cell_type": "code",
   "execution_count": 1,
   "metadata": {
    "collapsed": true
   },
   "outputs": [
    {
     "data": {
      "text/plain": "True"
     },
     "execution_count": 1,
     "metadata": {},
     "output_type": "execute_result"
    }
   ],
   "source": [
    "#List Comprehension\n",
    "from collections import deque\n",
    "r1 = [1,2,3,4,5]\n",
    "r2 = []\n",
    "r3 = []\n",
    "for x in r1:\n",
    "    r2.append(x*2)\n",
    "\n",
    "[r3.append(x*2) for x in r1]\n",
    "r2 == r3"
   ]
  },
  {
   "cell_type": "code",
   "execution_count": 8,
   "outputs": [
    {
     "data": {
      "text/plain": "[2, 4, 6, 8, 10]"
     },
     "execution_count": 8,
     "metadata": {},
     "output_type": "execute_result"
    }
   ],
   "source": [
    "import numpy as np\n",
    "num = np.arange(1,11,1)\n",
    "even = []\n",
    "# for i in num:\n",
    "#     if i % 2 == 0:\n",
    "#         even.append(i)\n",
    "even = [i for i in num if i % 2 == 0]\n",
    "even"
   ],
   "metadata": {
    "collapsed": false,
    "pycharm": {
     "name": "#%%\n"
    }
   }
  },
  {
   "cell_type": "code",
   "execution_count": 14,
   "outputs": [
    {
     "name": "stdout",
     "output_type": "stream",
     "text": [
      "[['1*1 = 1', '1*2 = 2', '1*3 = 3', '1*4 = 4', '1*5 = 5', '1*6 = 6', '1*7 = 7', '1*8 = 8', '1*9 = 9'], ['2*1 = 2', '2*2 = 4', '2*3 = 6', '2*4 = 8', '2*5 = 10', '2*6 = 12', '2*7 = 14', '2*8 = 16', '2*9 = 18'], ['3*1 = 3', '3*2 = 6', '3*3 = 9', '3*4 = 12', '3*5 = 15', '3*6 = 18', '3*7 = 21', '3*8 = 24', '3*9 = 27'], ['4*1 = 4', '4*2 = 8', '4*3 = 12', '4*4 = 16', '4*5 = 20', '4*6 = 24', '4*7 = 28', '4*8 = 32', '4*9 = 36'], ['5*1 = 5', '5*2 = 10', '5*3 = 15', '5*4 = 20', '5*5 = 25', '5*6 = 30', '5*7 = 35', '5*8 = 40', '5*9 = 45'], ['6*1 = 6', '6*2 = 12', '6*3 = 18', '6*4 = 24', '6*5 = 30', '6*6 = 36', '6*7 = 42', '6*8 = 48', '6*9 = 54'], ['7*1 = 7', '7*2 = 14', '7*3 = 21', '7*4 = 28', '7*5 = 35', '7*6 = 42', '7*7 = 49', '7*8 = 56', '7*9 = 63'], ['8*1 = 8', '8*2 = 16', '8*3 = 24', '8*4 = 32', '8*5 = 40', '8*6 = 48', '8*7 = 56', '8*8 = 64', '8*9 = 72'], ['9*1 = 9', '9*2 = 18', '9*3 = 27', '9*4 = 36', '9*5 = 45', '9*6 = 54', '9*7 = 63', '9*8 = 72', '9*9 = 81']]\n"
     ]
    }
   ],
   "source": [
    "num = np.arange(1,10,1)\n",
    "mul = [[f'{i}*{j} = {i*j}'for j in num] for i in num ]\n",
    "print(mul)"
   ],
   "metadata": {
    "collapsed": false,
    "pycharm": {
     "name": "#%%\n"
    }
   }
  },
  {
   "cell_type": "code",
   "execution_count": 37,
   "outputs": [
    {
     "name": "stdout",
     "output_type": "stream",
     "text": [
      "1 is one  2s two  3s three  4s four  5s five\n"
     ]
    }
   ],
   "source": [
    "tupple = 1,2,3,4,5\n",
    "print(\"%.d is one %  is two %  is three %  is four %  is five\" % tupple)"
   ],
   "metadata": {
    "collapsed": false,
    "pycharm": {
     "name": "#%%\n"
    }
   }
  },
  {
   "cell_type": "code",
   "execution_count": 131,
   "outputs": [
    {
     "ename": "ValueError",
     "evalue": "invalid literal for int() with base 10: ''",
     "output_type": "error",
     "traceback": [
      "\u001B[0;31m---------------------------------------------------------------------------\u001B[0m",
      "\u001B[0;31mValueError\u001B[0m                                Traceback (most recent call last)",
      "Input \u001B[0;32mIn [131]\u001B[0m, in \u001B[0;36m<cell line: 26>\u001B[0;34m()\u001B[0m\n\u001B[1;32m     24\u001B[0m \u001B[38;5;28;01mimport\u001B[39;00m \u001B[38;5;21;01mpandas\u001B[39;00m \u001B[38;5;28;01mas\u001B[39;00m \u001B[38;5;21;01mpd\u001B[39;00m\n\u001B[1;32m     25\u001B[0m \u001B[38;5;124;03m\"\"\"For better looking I chose pandas dataframe\"\"\"\u001B[39;00m\n\u001B[0;32m---> 26\u001B[0m trial \u001B[38;5;241m=\u001B[39m \u001B[38;5;28;43mint\u001B[39;49m\u001B[43m(\u001B[49m\u001B[38;5;28;43minput\u001B[39;49m\u001B[43m(\u001B[49m\u001B[38;5;124;43m\"\u001B[39;49m\u001B[38;5;124;43mInput how many items that you will sell\u001B[39;49m\u001B[38;5;124;43m\"\u001B[39;49m\u001B[43m)\u001B[49m\u001B[43m)\u001B[49m\n\u001B[1;32m     27\u001B[0m my_menu \u001B[38;5;241m=\u001B[39m Build_menu(trial)\n\u001B[1;32m     28\u001B[0m pd\u001B[38;5;241m.\u001B[39mDataFrame({\u001B[38;5;124m'\u001B[39m\u001B[38;5;124mItems\u001B[39m\u001B[38;5;124m'\u001B[39m: my_menu[\u001B[38;5;241m0\u001B[39m], \u001B[38;5;124m'\u001B[39m\u001B[38;5;124mPrices\u001B[39m\u001B[38;5;124m'\u001B[39m: my_menu[\u001B[38;5;241m1\u001B[39m]})\n",
      "\u001B[0;31mValueError\u001B[0m: invalid literal for int() with base 10: ''"
     ]
    }
   ],
   "source": [
    "def Build_menu(num):\n",
    "    \"\"\"Please input the number items you will sell then following processes will begin soon.\n",
    "    Don't worry about the difficulty it has very straightforward and intuitive processes\"\"\"\n",
    "    import pandas as pd\n",
    "    menu = [[],[]] #0th row is menu, and 1th is price\n",
    "    for i in range(num):\n",
    "        product = input(\"Input item you will sell \")\n",
    "        price = int(input(f\"Input price of '{product}' \")) #prices are int\n",
    "        menu[0].append(product)\n",
    "        menu[1].append(price)\n",
    "    menu[1].sort() #Sorting by the given prices\n",
    "    ask = input('You want to add more menu? [y]/n')\n",
    "    if ask == 'y':\n",
    "        ask_num = int(input('How many items you want to add more? '))\n",
    "        added_menu = Build_menu(ask_num)\n",
    "        print('Added menu is', added_menu)\n",
    "        menu[0].extend(added_menu[0])\n",
    "        menu[1].extend(added_menu[1])\n",
    "        menu[1].sort() #Sorting by the given prices\n",
    "        return menu\n",
    "    else:\n",
    "        return menu\n",
    "\n",
    "import pandas as pd\n",
    "\"\"\"For better looking I chose pandas dataframe\"\"\"\n",
    "trial = int(input(\"Input how many items that you will sell\"))\n",
    "my_menu = Build_menu(trial)\n",
    "pd.DataFrame({'Items': my_menu[0], 'Prices': my_menu[1]})"
   ],
   "metadata": {
    "collapsed": false,
    "pycharm": {
     "name": "#%%\n"
    }
   }
  },
  {
   "cell_type": "code",
   "execution_count": 1,
   "outputs": [
    {
     "name": "stdout",
     "output_type": "stream",
     "text": [
      "/Users/seunghwankim/PycharmProjects/Python_Project/Programming/HW\n"
     ]
    }
   ],
   "source": [
    "cd HW"
   ],
   "metadata": {
    "collapsed": false,
    "pycharm": {
     "name": "#%%\n"
    }
   }
  },
  {
   "cell_type": "code",
   "execution_count": 137,
   "outputs": [
    {
     "name": "stdout",
     "output_type": "stream",
     "text": [
      "Currently added Menu is  [['maki', 'ame'], [3000, 1000]]\n",
      "Currently added Menu is  [['latte', 'ame_small'], [2000, 500]]\n"
     ]
    },
    {
     "data": {
      "text/plain": "       Items  Prices\n0  ame_small     500\n1        ame    1000\n2      latte    2000\n3       maki    3000",
      "text/html": "<div>\n<style scoped>\n    .dataframe tbody tr th:only-of-type {\n        vertical-align: middle;\n    }\n\n    .dataframe tbody tr th {\n        vertical-align: top;\n    }\n\n    .dataframe thead th {\n        text-align: right;\n    }\n</style>\n<table border=\"1\" class=\"dataframe\">\n  <thead>\n    <tr style=\"text-align: right;\">\n      <th></th>\n      <th>Items</th>\n      <th>Prices</th>\n    </tr>\n  </thead>\n  <tbody>\n    <tr>\n      <th>0</th>\n      <td>ame_small</td>\n      <td>500</td>\n    </tr>\n    <tr>\n      <th>1</th>\n      <td>ame</td>\n      <td>1000</td>\n    </tr>\n    <tr>\n      <th>2</th>\n      <td>latte</td>\n      <td>2000</td>\n    </tr>\n    <tr>\n      <th>3</th>\n      <td>maki</td>\n      <td>3000</td>\n    </tr>\n  </tbody>\n</table>\n</div>"
     },
     "metadata": {},
     "output_type": "display_data"
    }
   ],
   "source": [
    "%run Menu_2018550031.py"
   ],
   "metadata": {
    "collapsed": false,
    "pycharm": {
     "name": "#%%\n"
    }
   }
  },
  {
   "cell_type": "code",
   "execution_count": 128,
   "outputs": [
    {
     "data": {
      "text/plain": "[[1, 2, 3, 4], ['a', 'b', 'c', 'd']]"
     },
     "execution_count": 128,
     "metadata": {},
     "output_type": "execute_result"
    }
   ],
   "source": [
    "a = [1,2,3,4]\n",
    "b = ['d','c','b','a']\n",
    "c = [a,b]\n",
    "c[1].sort()\n",
    "c"
   ],
   "metadata": {
    "collapsed": false,
    "pycharm": {
     "name": "#%%\n"
    }
   }
  },
  {
   "cell_type": "code",
   "execution_count": 140,
   "outputs": [
    {
     "data": {
      "text/plain": "[(1, 3), (2, 4), (3, 5)]"
     },
     "execution_count": 140,
     "metadata": {},
     "output_type": "execute_result"
    }
   ],
   "source": [
    "a = [1,2,3]\n",
    "b = [3,4,5]\n",
    "list(zip(a,b))"
   ],
   "metadata": {
    "collapsed": false,
    "pycharm": {
     "name": "#%%\n"
    }
   }
  },
  {
   "cell_type": "code",
   "execution_count": 41,
   "outputs": [
    {
     "name": "stdout",
     "output_type": "stream",
     "text": [
      "Currently added Menu is  [['ame', 'maki', 'late'], [1000, 3000, 2000]]\n"
     ]
    },
    {
     "data": {
      "text/plain": "  Items  Prices\n0   ame    1000\n1  late    2000\n2  maki    3000",
      "text/html": "<div>\n<style scoped>\n    .dataframe tbody tr th:only-of-type {\n        vertical-align: middle;\n    }\n\n    .dataframe tbody tr th {\n        vertical-align: top;\n    }\n\n    .dataframe thead th {\n        text-align: right;\n    }\n</style>\n<table border=\"1\" class=\"dataframe\">\n  <thead>\n    <tr style=\"text-align: right;\">\n      <th></th>\n      <th>Items</th>\n      <th>Prices</th>\n    </tr>\n  </thead>\n  <tbody>\n    <tr>\n      <th>0</th>\n      <td>ame</td>\n      <td>1000</td>\n    </tr>\n    <tr>\n      <th>1</th>\n      <td>late</td>\n      <td>2000</td>\n    </tr>\n    <tr>\n      <th>2</th>\n      <td>maki</td>\n      <td>3000</td>\n    </tr>\n  </tbody>\n</table>\n</div>"
     },
     "metadata": {},
     "output_type": "display_data"
    },
    {
     "name": "stdout",
     "output_type": "stream",
     "text": [
      "*Important: if you want to eidt or update your menu please call 'edit_menu'\n"
     ]
    }
   ],
   "source": [
    "def sort_menu(menu):\n",
    "    \"\"\"I found a problem in sorting list matrix cuz there is no key in list.\n",
    "    So I decided to make a dictionary for sorting.\"\"\"\n",
    "    menu_mapping = {}\n",
    "    for i in range(len(menu[0])):\n",
    "        menu_mapping[menu[1][i]] = menu[0][i]  # I make prices keys cuz it will be sorted by prices\n",
    "    sorted_menu = sorted(menu_mapping.items())  # sort menu by price which is key in the dictionary\n",
    "    menu_item = []\n",
    "    menu_price = []\n",
    "    for i, j in sorted_menu:\n",
    "        menu_price.append(i)\n",
    "        menu_item.append(j)\n",
    "    menu = [menu_item, menu_price]\n",
    "    return menu\n",
    "\n",
    "def edit_menu(menu):\n",
    "    \"\"\"I think editing menu is as much important as building menu\"\"\"\n",
    "    import pandas as pd\n",
    "    print('Current menu is following')\n",
    "    display(menu)\n",
    "    ask = int(input('Which row do you want to change 0 to n (n is integer)'))\n",
    "    item = menu.Items[ask]\n",
    "    ask_item = input(f'Change the name of {item}')\n",
    "    ask_price = input(f'Change the price of {ask_item}')\n",
    "    menu.iloc[ask] = {'Items': ask_item, 'Prices': ask_price}\n",
    "    print('Your menu is updated')\n",
    "    return menu\n",
    "\n",
    "def Build_menu(num):\n",
    "    \"\"\"Please input the number items you will sell then following processes will begin soon.\n",
    "    Don't worry about the difficulty it has very straightforward and intuitive processes\"\"\"\n",
    "    menu = [[], []]  # 0th row is menu, and 1th is price\n",
    "    for i in range(num):\n",
    "        product = input(\"Input item you will sell \")\n",
    "        price = int(input(f\"Input price of '{product}' \"))  # prices are int\n",
    "        menu[0].append(product)\n",
    "        menu[1].append(price)\n",
    "    print('Currently added Menu is ', menu)\n",
    "    ask = input('You want to add more menu? [y]/n ')\n",
    "    if ask.lower() == 'y':\n",
    "        ask_num = int(input('How many items you want to add more? '))\n",
    "        added_menu = Build_menu(ask_num)\n",
    "        menu[0].extend(added_menu[0])\n",
    "        menu[1].extend(added_menu[1])\n",
    "        return menu\n",
    "    elif ask.lower() == 'n':\n",
    "        return menu\n",
    "\n",
    "import pandas as pd\n",
    "\"\"\"For better looking I chose pandas dataframe\n",
    "Surely if I use a built-function in pandas i can easily sort the data\n",
    " but I believe that is not your purpose of this assignment so I took the detour (dictionary)\"\"\"\n",
    "trial = int(input(\"Input how many items that you will sell \"))\n",
    "my_menu = Build_menu(trial)\n",
    "my_menu = sort_menu(my_menu)\n",
    "my_menu = pd.DataFrame({'Items': my_menu[0], 'Prices': my_menu[1]})\n",
    "display(my_menu)\n",
    "print(\"*Important: if you want to eidt or update your menu please call 'edit_menu'\")"
   ],
   "metadata": {
    "collapsed": false,
    "pycharm": {
     "name": "#%%\n"
    }
   }
  },
  {
   "cell_type": "code",
   "execution_count": 44,
   "outputs": [
    {
     "name": "stdout",
     "output_type": "stream",
     "text": [
      "Current menu is following\n"
     ]
    },
    {
     "data": {
      "text/plain": "       Items Prices\n0  americano   1000\n1       late   2000\n2       maki   3000",
      "text/html": "<div>\n<style scoped>\n    .dataframe tbody tr th:only-of-type {\n        vertical-align: middle;\n    }\n\n    .dataframe tbody tr th {\n        vertical-align: top;\n    }\n\n    .dataframe thead th {\n        text-align: right;\n    }\n</style>\n<table border=\"1\" class=\"dataframe\">\n  <thead>\n    <tr style=\"text-align: right;\">\n      <th></th>\n      <th>Items</th>\n      <th>Prices</th>\n    </tr>\n  </thead>\n  <tbody>\n    <tr>\n      <th>0</th>\n      <td>americano</td>\n      <td>1000</td>\n    </tr>\n    <tr>\n      <th>1</th>\n      <td>late</td>\n      <td>2000</td>\n    </tr>\n    <tr>\n      <th>2</th>\n      <td>maki</td>\n      <td>3000</td>\n    </tr>\n  </tbody>\n</table>\n</div>"
     },
     "metadata": {},
     "output_type": "display_data"
    },
    {
     "name": "stdout",
     "output_type": "stream",
     "text": [
      "Your menu is updated\n"
     ]
    },
    {
     "data": {
      "text/plain": "       Items Prices\n0  americano   1000\n1      Latte   2000\n2       maki   3000",
      "text/html": "<div>\n<style scoped>\n    .dataframe tbody tr th:only-of-type {\n        vertical-align: middle;\n    }\n\n    .dataframe tbody tr th {\n        vertical-align: top;\n    }\n\n    .dataframe thead th {\n        text-align: right;\n    }\n</style>\n<table border=\"1\" class=\"dataframe\">\n  <thead>\n    <tr style=\"text-align: right;\">\n      <th></th>\n      <th>Items</th>\n      <th>Prices</th>\n    </tr>\n  </thead>\n  <tbody>\n    <tr>\n      <th>0</th>\n      <td>americano</td>\n      <td>1000</td>\n    </tr>\n    <tr>\n      <th>1</th>\n      <td>Latte</td>\n      <td>2000</td>\n    </tr>\n    <tr>\n      <th>2</th>\n      <td>maki</td>\n      <td>3000</td>\n    </tr>\n  </tbody>\n</table>\n</div>"
     },
     "execution_count": 44,
     "metadata": {},
     "output_type": "execute_result"
    }
   ],
   "source": [
    "edit_menu(my_menu)"
   ],
   "metadata": {
    "collapsed": false,
    "pycharm": {
     "name": "#%%\n"
    }
   }
  },
  {
   "cell_type": "code",
   "execution_count": null,
   "outputs": [],
   "source": [],
   "metadata": {
    "collapsed": false,
    "pycharm": {
     "name": "#%%\n"
    }
   }
  }
 ],
 "metadata": {
  "kernelspec": {
   "display_name": "Python 3",
   "language": "python",
   "name": "python3"
  },
  "language_info": {
   "codemirror_mode": {
    "name": "ipython",
    "version": 2
   },
   "file_extension": ".py",
   "mimetype": "text/x-python",
   "name": "python",
   "nbconvert_exporter": "python",
   "pygments_lexer": "ipython2",
   "version": "2.7.6"
  }
 },
 "nbformat": 4,
 "nbformat_minor": 0
}
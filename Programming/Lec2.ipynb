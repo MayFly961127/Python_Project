{
 "cells": [
  {
   "cell_type": "code",
   "execution_count": null,
   "metadata": {
    "collapsed": true
   },
   "outputs": [],
   "source": [
    "n = 100\n",
    "for i in range(n):\n",
    "    for j in range(m):\n",
    "        if i % j == 0:\n",
    "            break\n"
   ]
  },
  {
   "cell_type": "code",
   "execution_count": 136,
   "outputs": [
    {
     "name": "stdout",
     "output_type": "stream",
     "text": [
      "3\n",
      "Your guess: 50 is too high\n",
      "Hint: the Average between the answer and your guess is 26\n",
      "-------------------------\n",
      "You lost all your chances. Just get a hint next time\n",
      "You gave up, din't ya? you asshole\n",
      ",or you might typed wrong types of class such as string or blank\n"
     ]
    }
   ],
   "source": [
    "# 1에서 100 사이에 숫자를 guess 하는 게임\n",
    "# n번의 기회를 이용, 처음 입력으로 받음\n",
    "# 맞추면 \"You won\"\n",
    "# 틀리면 \"___is too high\" 또는 \"___is too low\"를 출력\n",
    "# n번의 기회를 다 사용하면 \"You Lose\"\n",
    "# guessing_학번.py\n",
    "\n",
    "\"\"\"Before you try this game, it would be better to know several rules\n",
    "Rule\n",
    "0. Do not ask me the answer. It is totally random so I don't even know it\n",
    "1. input the number of chanses do you wanna get\n",
    "2. input your guess\n",
    "3. if you are wrong, then input y or n. if it is y, you can see the average of your guess and answer\n",
    "4. Becareful!! if you get a hint at the last chance you should try again\n",
    "5. If you type wrong class or give up, you can get a sarcastic sentense. Sorry in advance\"\"\"\n",
    "import numpy as np\n",
    "\n",
    "def try_again(answer):\n",
    "    import numpy as np\n",
    "    \"\"\"This is try_again module that asks whether you wanna try agaign or not when you lose your all chances\"\"\"\n",
    "    if answer == 'y':\n",
    "        try:\n",
    "            answer = np.random.randint(0,100)\n",
    "            n_trial = int(input(\"How many times do you want to try\"))\n",
    "            for i in range(n_trial):\n",
    "                guess = int(input(\"Please type from 0 to 100\"))\n",
    "                avg = int((guess + answer)/2)\n",
    "                if guess == answer:\n",
    "                    print(\"You won\")\n",
    "                    print('-------------------')\n",
    "                    answer = input(\"Congrats!! Do you want to try again?\")\n",
    "                    break\n",
    "                elif guess > answer:\n",
    "                    if guess > 2*answer:\n",
    "                        print(\"Your guess:\" + str(guess) + \" is too high\")\n",
    "                        ask = input(\"You are wrong, do you want a hint?? y/n\")\n",
    "                        if ask.lower() == 'y':\n",
    "                            print(\"Hint: the Average between the answer and your guess is\", avg)\n",
    "                            if i == n_trial - 1:\n",
    "                                print('-------------------------------------------------------')\n",
    "                                print(\"Bruh... It was your last chance, the hint is meaningless\")\n",
    "                                break\n",
    "                    else:\n",
    "                        print(\"You are wrong. It is a bit high\")\n",
    "                elif guess < answer:\n",
    "                    print(\"Your guess:\" + str(guess) + \" is too low\")\n",
    "                    if guess < answer/2:\n",
    "                        ask = input(\"You are wrong, do you want a hint?? y/n\")\n",
    "                        if ask.lower() == 'y':\n",
    "                            print(\"Hint: the Average between the answer and your guess is\", avg)\n",
    "                            if i == n_trial - 1:\n",
    "                                print('-------------------------------------------------------')\n",
    "                                print(\"Bruh... It was your last chance, the hint is meaningless\")\n",
    "                                break\n",
    "                    else:\n",
    "                        print(\"You are wrong. It is a bit low\")\n",
    "            print('-------------------------')\n",
    "            print('You lost all your chances. Just get a hint next time')\n",
    "            answer = input(\"Do you want to try again?\")\n",
    "            try_again(answer.lower())\n",
    "        except ValueError:\n",
    "            sarcastic = ('idiot', 'moron', 'dumb', 'stupid', 'asshole', 'fool', 'twit')\n",
    "            j = np.random.randint(0,len(sarcastic))\n",
    "            print(\"You gave up, din't ya? you\", sarcastic[j])\n",
    "            print(\",or you might typed wrong types of class such as string or blank\")\n",
    "        print('Did you read the rules? Please read the rule')\n",
    "\n",
    "answer = np.random.randint(0,100)\n",
    "print(answer)\n",
    "try:\n",
    "    n_trial = int(input(\"How many times do you want to try\"))\n",
    "    for i in range(n_trial):\n",
    "        guess = int(input(\"Please type from 0 to 100\"))\n",
    "        avg = int((guess + answer)/2)\n",
    "        if guess == answer:\n",
    "            print(\"You won\")\n",
    "            print('-------------------')\n",
    "            answer = input(\"Congrats!! Do you want to try again?\")\n",
    "            try_again(answer.lower())\n",
    "            break\n",
    "        else:\n",
    "            if guess > answer:\n",
    "                if guess > 2*answer:\n",
    "                    print(\"Your guess: \" + str(guess) + \" is too high\")\n",
    "                    ask = input(\"You are wrong, do you want a hint?? y/n\")\n",
    "                    if ask.lower() == 'y':\n",
    "                        if i == n_trial -1:\n",
    "                            print('-------------------------------------------------------')\n",
    "                            print(\"Bruh... It was your last chance, the hint is meaningless\")\n",
    "                            break\n",
    "                        print(\"Hint: the Average between the answer and your guess is\", avg)\n",
    "                else:\n",
    "                    print(\"You are wrong. It is a bit high\")\n",
    "                    continue\n",
    "            elif guess < answer:\n",
    "                if guess < answer/2:\n",
    "                    print(\"Your guess: \" + str(guess) + \" is too low\")\n",
    "                    ask = input(\"You are wrong, do you want a hint?? y/n\")\n",
    "                    if ask.lower() == 'y':\n",
    "                        if i == n_trial -1:\n",
    "                            print('-------------------------------------------------------')\n",
    "                            print(\"Bruh... It was your last chance, the hint is meaningless\")\n",
    "                            break\n",
    "                        print(\"Hint: the Average between the answer and your guess is\", avg)\n",
    "                else:\n",
    "                    print(\"You are wrong. It is a bit low\")\n",
    "                    continue\n",
    "            print('-------------------------')\n",
    "            print('You lost all your chances. Just get a hint next time')\n",
    "            answer = input(\"Do you want to try again?\")\n",
    "            try_again(answer.lower())\n",
    "except ValueError:\n",
    "    sarcastic = ('idiot', 'moron', 'dumb', 'stupid', 'asshole', 'fool', 'twit')\n",
    "    j = np.random.randint(0,len(sarcastic))\n",
    "    print(\"You gave up, din't ya? you\", sarcastic[j])\n",
    "    print(\",or you might typed wrong types of class such as string or blank\")"
   ],
   "metadata": {
    "collapsed": false,
    "pycharm": {
     "name": "#%%\n"
    }
   }
  },
  {
   "cell_type": "code",
   "execution_count": 114,
   "outputs": [],
   "source": [
    "np.random.randint??"
   ],
   "metadata": {
    "collapsed": false,
    "pycharm": {
     "name": "#%%\n"
    }
   }
  },
  {
   "cell_type": "code",
   "execution_count": 137,
   "outputs": [
    {
     "name": "stdout",
     "output_type": "stream",
     "text": [
      "Your guess:5 is too low\n",
      "Hint: the Average between the answer and your guess is 8\n",
      "You are wrong. It is a bit low\n",
      "You are wrong. It is a bit high\n",
      "-------------------------\n",
      "You lost all your chances. Just get a hint next time\n"
     ]
    }
   ],
   "source": [
    "%run guessing_2018550031.py"
   ],
   "metadata": {
    "collapsed": false,
    "pycharm": {
     "name": "#%%\n"
    }
   }
  },
  {
   "cell_type": "code",
   "execution_count": 141,
   "outputs": [
    {
     "name": "stdout",
     "output_type": "stream",
     "text": [
      "You gave up, din't ya? you idiot\n",
      ",or you might typed wrong types of class such as string or blank\n"
     ]
    }
   ],
   "source": [
    "# 1에서 100 사이에 숫자를 guess 하는 게임\n",
    "# n번의 기회를 이용, 처음 입력으로 받음\n",
    "# 맞추면 \"You won\"\n",
    "# 틀리면 \"___is too high\" 또는 \"___is too low\"를 출력\n",
    "# n번의 기회를 다 사용하면 \"You Lose\"\n",
    "# guessing_학번.py\n",
    "\n",
    "\"\"\"Before you try this game, it would be better to know several rules\n",
    "Rule\n",
    "0. Do not ask me the answer. It is totally random so I don't even know it\n",
    "1. input the number of chanses do you wanna get\n",
    "2. input your guess\n",
    "3. if you are wrong, then input y or n. if it is y, you can see the average of your guess and answer\n",
    "4. Becareful!! if you get a hint at the last chance you should try again\n",
    "5. If you type wrong class or give up, you can get a sarcastic sentense. Sorry in advance\"\"\"\n",
    "import numpy as np\n",
    "def try_again(answer):\n",
    "    import numpy as np\n",
    "    \"\"\"This is try_again module that asks whether you wanna try agaign or not when you lose your all chances\"\"\"\n",
    "    if answer == 'y':\n",
    "        try:\n",
    "            answer = np.random.randint(0,100)\n",
    "            n_trial = int(input(\"How many times do you want to try\"))\n",
    "            for i in range(n_trial):\n",
    "                guess = int(input(\"Please type from 0 to 100: \"))\n",
    "                avg = int((guess + answer)/2)\n",
    "                if guess == answer:\n",
    "                    print(\"You won\")\n",
    "                    break\n",
    "                elif guess > answer:\n",
    "                    if guess > 2*answer:\n",
    "                        print(\"Your guess:\" + str(guess) + \" is too high\")\n",
    "                        ask = input(\"You are wrong, do you want a hint?? y/n\")\n",
    "                        if ask.lower() == 'y':\n",
    "                            print(\"Hint: the Average between the answer and your guess is\", avg)\n",
    "                            if i == n_trial - 1:\n",
    "                                print('-------------------------------------------------------')\n",
    "                                print(\"Bruh... It was your last chance, the hint is meaningless\")\n",
    "                                break\n",
    "                    else:\n",
    "                        print(\"You are wrong. It is a bit high\")\n",
    "                elif guess < answer:\n",
    "                    print(\"Your guess:\" + str(guess) + \" is too low\")\n",
    "                    if guess < answer/2:\n",
    "                        ask = input(\"You are wrong, do you want a hint?? y/n\")\n",
    "                        if ask.lower() == 'y':\n",
    "                            print(\"Hint: the Average between the answer and your guess is\", avg)\n",
    "                            if i == n_trial - 1:\n",
    "                                print('-------------------------------------------------------')\n",
    "                                print(\"Bruh... It was your last chance, the hint is meaningless\")\n",
    "                                break\n",
    "                    else:\n",
    "                        print(\"You are wrong. It is a bit low\")\n",
    "            print('-------------------------')\n",
    "            print('You lost all your chances. Just get a hint next time')\n",
    "            answer = input(\"Do you want to try again?\")\n",
    "            try_again(answer.lower())\n",
    "        except ValueError:\n",
    "            sarcastic = ('idiot', 'moron', 'dumb', 'stupid', 'asshole', 'fool', 'twit')\n",
    "            j = np.random.randint(0,len(sarcastic))\n",
    "            print(\"You gave up, din't ya? you\", sarcastic[j])\n",
    "            print(\",or you might typed wrong types of class such as string or blank\")\n",
    "        print('Did you read the rules? Please read the rule')\n",
    "\n",
    "try:\n",
    "    answer = np.random.randint(0,100)\n",
    "    n_trial = int(input(\"How many times do you want to try\"))\n",
    "    for i in range(n_trial):\n",
    "        guess = int(input(\"Please type from 0 to 100\"))\n",
    "        avg = int((guess + answer)/2)\n",
    "        if guess == answer:\n",
    "            print(\"You won\")\n",
    "            break\n",
    "        elif guess > answer:\n",
    "            if guess > 2*answer:\n",
    "                print(\"Your guess:\" + str(guess) + \" is too high\")\n",
    "                ask = input(\"You are wrong, do you want a hint?? y/n\")\n",
    "                if ask.lower() == 'y':\n",
    "                    if i == n_trial -1:\n",
    "                        print('-------------------------------------------------------')\n",
    "                        print(\"Bruh... It was your last chance, the hint is meaningless\")\n",
    "                        break\n",
    "                    print(\"Hint: the Average between the answer and your guess is\", avg)\n",
    "            else:\n",
    "                print(\"You are wrong. It is a bit high\")\n",
    "        elif guess < answer:\n",
    "            if guess < answer/2:\n",
    "                print(\"Your guess:\" + str(guess) + \" is too low\")\n",
    "                ask = input(\"You are wrong, do you want a hint?? y/n\")\n",
    "                if ask.lower() == 'y':\n",
    "                    if i == n_trial -1:\n",
    "                        print('-------------------------------------------------------')\n",
    "                        print(\"Bruh... It was your last chance, the hint is meaningless\")\n",
    "                        break\n",
    "                    print(\"Hint: the Average between the answer and your guess is\", avg)\n",
    "            else:\n",
    "                print(\"You are wrong. It is a bit low\")\n",
    "    print('-------------------------')\n",
    "    print('You lost all your chances. Just get a hint next time')\n",
    "    answer = input(\"Do you want to try again?\")\n",
    "    try_again(answer.lower())\n",
    "except ValueError:\n",
    "    sarcastic = ('idiot', 'moron', 'dumb', 'stupid', 'asshole', 'fool', 'twit')\n",
    "    j = np.random.randint(0,len(sarcastic))\n",
    "    print(\"You gave up, din't ya? you\", sarcastic[j])\n",
    "    print(\",or you might typed wrong types of class such as string or blank\")"
   ],
   "metadata": {
    "collapsed": false,
    "pycharm": {
     "name": "#%%\n"
    }
   }
  },
  {
   "cell_type": "code",
   "source": [],
   "metadata": {
    "collapsed": false,
    "pycharm": {
     "name": "#%%\n"
    }
   },
   "execution_count": null,
   "outputs": []
  }
 ],
 "metadata": {
  "kernelspec": {
   "display_name": "Python 3",
   "language": "python",
   "name": "python3"
  },
  "language_info": {
   "codemirror_mode": {
    "name": "ipython",
    "version": 2
   },
   "file_extension": ".py",
   "mimetype": "text/x-python",
   "name": "python",
   "nbconvert_exporter": "python",
   "pygments_lexer": "ipython2",
   "version": "2.7.6"
  }
 },
 "nbformat": 4,
 "nbformat_minor": 0
}
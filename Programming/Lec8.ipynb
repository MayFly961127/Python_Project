{
 "cells": [
  {
   "cell_type": "code",
   "execution_count": 1,
   "metadata": {
    "collapsed": true
   },
   "outputs": [
    {
     "name": "stdout",
     "output_type": "stream",
     "text": [
      "/Users/seunghwankim/PycharmProjects/Python_Project/Programming/HW\n"
     ]
    }
   ],
   "source": [
    "cd /Users/seunghwankim/PycharmProjects/Python_Project/Programming/HW"
   ]
  },
  {
   "cell_type": "code",
   "execution_count": 6,
   "outputs": [
    {
     "name": "stdout",
     "output_type": "stream",
     "text": [
      "(BMI는 20.3) 저체중입니다. 더 열심히 드세요.\n"
     ]
    }
   ],
   "source": [
    "%run BMI_2018550031"
   ],
   "metadata": {
    "collapsed": false,
    "pycharm": {
     "name": "#%%\n"
    }
   }
  },
  {
   "cell_type": "code",
   "execution_count": 23,
   "outputs": [
    {
     "data": {
      "text/plain": "{'a': ['abd', 'asdf'], 'b': ['bbd', 'bdfadf'], 'c': ['ccdwd', 'cdfs']}"
     },
     "execution_count": 23,
     "metadata": {},
     "output_type": "execute_result"
    }
   ],
   "source": [
    "from collections import defaultdict\n",
    "import itertools\n",
    "first_letter = lambda x: x[0]\n",
    "a = defaultdict(list)\n",
    "b = {}\n",
    "c = {}\n",
    "string = ['abd', 'bbd','cdfs', 'asdf', 'bdfadf', 'ccdwd']\n",
    "for x in string:\n",
    "    a[x[0]].append(x)\n",
    "    b.setdefault(x[0], []).append(x)\n",
    "for letter, word in itertools.groupby(sorted(string), first_letter):\n",
    "    c[letter] = list(word)\n",
    "c"
   ],
   "metadata": {
    "collapsed": false,
    "pycharm": {
     "name": "#%%\n"
    }
   }
  },
  {
   "cell_type": "code",
   "execution_count": 32,
   "outputs": [
    {
     "data": {
      "text/plain": "50"
     },
     "execution_count": 32,
     "metadata": {},
     "output_type": "execute_result"
    }
   ],
   "source": [
    "from functools import partial\n",
    "circle = lambda x,y: x**2 + y**2\n",
    "circle_x = lambda y: circle(5,y)\n",
    "circle_x_partial = partial(circle, 5)\n",
    "circle_x_partial(5)"
   ],
   "metadata": {
    "collapsed": false,
    "pycharm": {
     "name": "#%%\n"
    }
   }
  },
  {
   "cell_type": "code",
   "execution_count": 33,
   "outputs": [],
   "source": [
    "a = \"hello world\""
   ],
   "metadata": {
    "collapsed": false,
    "pycharm": {
     "name": "#%%\n"
    }
   }
  },
  {
   "cell_type": "code",
   "execution_count": 66,
   "outputs": [
    {
     "name": "stdout",
     "output_type": "stream",
     "text": [
      "I am 1st\n",
      "I am 2nd\n",
      "I am 3rd\n"
     ]
    }
   ],
   "source": [
    "for i in range(3):\n",
    "    if i == 0:\n",
    "        print(f'I am {i+1}st')\n",
    "    elif i == 1:\n",
    "        print(f'I am {i+1}nd')\n",
    "    else:\n",
    "        print(f'I am {i+1}rd')"
   ],
   "metadata": {
    "collapsed": false,
    "pycharm": {
     "name": "#%%\n"
    }
   }
  },
  {
   "cell_type": "code",
   "execution_count": 51,
   "outputs": [
    {
     "name": "stdout",
     "output_type": "stream",
     "text": [
      "3\n"
     ]
    }
   ],
   "source": [
    "print(2) if 1 == 2 else print(3)"
   ],
   "metadata": {
    "collapsed": false,
    "pycharm": {
     "name": "#%%\n"
    }
   }
  },
  {
   "cell_type": "code",
   "execution_count": 52,
   "outputs": [
    {
     "data": {
      "text/plain": "'3.10.0'"
     },
     "execution_count": 52,
     "metadata": {},
     "output_type": "execute_result"
    }
   ],
   "source": [
    "from platform import python_version\n",
    "python_version()"
   ],
   "metadata": {
    "collapsed": false,
    "pycharm": {
     "name": "#%%\n"
    }
   }
  },
  {
   "cell_type": "code",
   "execution_count": 59,
   "outputs": [
    {
     "name": "stdout",
     "output_type": "stream",
     "text": [
      "한 사람 당 3 원씩\n",
      "저는 감사\n"
     ]
    }
   ],
   "source": [
    "try:\n",
    "    n_person = int(input(\"인원\"))\n",
    "    total = int(input(\"금액\"))\n",
    "    result = int(total/n_person)\n",
    "except ZeroDivisionError:\n",
    "    print(\"인원 1명 이상\")\n",
    "else:\n",
    "    print(\"한 사람 당\", result, \"원씩\")\n",
    "finally:\n",
    "    print(\"저는 감사\")"
   ],
   "metadata": {
    "collapsed": false,
    "pycharm": {
     "name": "#%%\n"
    }
   }
  },
  {
   "cell_type": "code",
   "execution_count": 68,
   "outputs": [
    {
     "name": "stdout",
     "output_type": "stream",
     "text": [
      "hello\n"
     ]
    }
   ],
   "source": [
    "print('hello')"
   ],
   "metadata": {
    "collapsed": false,
    "pycharm": {
     "name": "#%%\n"
    }
   }
  },
  {
   "cell_type": "code",
   "execution_count": 76,
   "outputs": [
    {
     "data": {
      "text/plain": "['a', 'b', 'c', 'd', 'e', 'f', 'g', 'h', 'i', 'j', 'k']"
     },
     "execution_count": 76,
     "metadata": {},
     "output_type": "execute_result"
    }
   ],
   "source": [
    "list('abcdefghijk')"
   ],
   "metadata": {
    "collapsed": false,
    "pycharm": {
     "name": "#%%\n"
    }
   }
  },
  {
   "cell_type": "code",
   "execution_count": 86,
   "outputs": [
    {
     "data": {
      "text/plain": "[False, False, False, False, False, False, True, True, True, True, False]"
     },
     "execution_count": 86,
     "metadata": {},
     "output_type": "execute_result"
    }
   ],
   "source": [
    "llen = lambda x: x > 5 and x <10\n",
    "sequence = range(11)\n",
    "result = [x for x in map(llen, sequence)]\n",
    "result"
   ],
   "metadata": {
    "collapsed": false,
    "pycharm": {
     "name": "#%%\n"
    }
   }
  },
  {
   "cell_type": "code",
   "execution_count": 151,
   "outputs": [
    {
     "name": "stdout",
     "output_type": "stream",
     "text": [
      "No Prize\n",
      "3rd prize: 1,500,000 won\n",
      "2nd prize: 50,000,000 won\n",
      "1st prize: 3,000,000,000 won! Give me some\n"
     ]
    }
   ],
   "source": [
    "#로또게임\n",
    "from collections import deque\n",
    "import numpy as np\n",
    "num = [[4, 29, 7, 1, 13, 44], [15,23, 29, 40, 21, 34], [15, 23, 29, 34, 40, 20], [15, 23, 29, 34, 40, 44]]\n",
    "# num = []\n",
    "win = [15,23,29,34,40,44]\n",
    "bonus = 20\n",
    "# for i in range(6):\n",
    "#     ask = int(input(f\"Please input {i+1}th number \"))\n",
    "#     num.append(ask)\n",
    "# print(num)\n",
    "\n",
    "def how_many(num, win):\n",
    "    num = set(num)\n",
    "    win = set(win)\n",
    "    corr = num & win\n",
    "    n_yougot = len(corr)\n",
    "    return n_yougot\n",
    "\n",
    "def check_win(num, win, bonus):\n",
    "    n_yougot = how_many(num, win)\n",
    "    if n_yougot <= 2:\n",
    "        print('No Prize')\n",
    "    else:\n",
    "        if n_yougot == 3:\n",
    "            print('5th prize: 5,000 won')\n",
    "        elif n_yougot == 4:\n",
    "            print('4th prize: 50,000 won')\n",
    "        elif n_yougot == 5:\n",
    "            try:\n",
    "                num.remove(bonus)\n",
    "                print('2nd prize: 50,000,000 won')\n",
    "            except ValueError:\n",
    "                print('3rd prize: 1,500,000 won')\n",
    "        elif n_yougot == 6:\n",
    "            print('1st prize: 3,000,000,000 won! Give me some')\n",
    "\n",
    "for x in num:\n",
    "    check_win(x, win, bonus)"
   ],
   "metadata": {
    "collapsed": false,
    "pycharm": {
     "name": "#%%\n"
    }
   }
  },
  {
   "cell_type": "code",
   "execution_count": 108,
   "outputs": [
    {
     "data": {
      "text/plain": "{1, 3, 4, 5, 6}"
     },
     "execution_count": 108,
     "metadata": {},
     "output_type": "execute_result"
    }
   ],
   "source": [
    "4\n",
    "5s = [1,3,4,5]\n",
    "s.append(6)\n",
    "set(s)"
   ],
   "metadata": {
    "collapsed": false,
    "pycharm": {
     "name": "#%%\n"
    }
   }
  },
  {
   "cell_type": "code",
   "execution_count": 138,
   "outputs": [
    {
     "data": {
      "text/plain": "['1', '2', '3', '4', '5']"
     },
     "execution_count": 138,
     "metadata": {},
     "output_type": "execute_result"
    }
   ],
   "source": [
    "a = input(\"\")\n",
    "a.split(',')"
   ],
   "metadata": {
    "collapsed": false,
    "pycharm": {
     "name": "#%%\n"
    }
   }
  },
  {
   "cell_type": "code",
   "execution_count": 139,
   "outputs": [
    {
     "name": "stderr",
     "output_type": "stream",
     "text": [
      "/var/folders/l9/glqlxsms6kg26pc8n2s189hw0000gn/T/ipykernel_3832/2313406423.py:1: DeprecationWarning: `np.int` is a deprecated alias for the builtin `int`. To silence this warning, use `int` by itself. Doing this will not modify any behavior and is safe. When replacing `np.int`, you may wish to use e.g. `np.int64` or `np.int32` to specify the precision. If you wish to review your current use, check the release note link for additional information.\n",
      "Deprecated in NumPy 1.20; for more details and guidance: https://numpy.org/devdocs/release/1.20.0-notes.html#deprecations\n",
      "  np.int(a)\n"
     ]
    },
    {
     "ename": "ValueError",
     "evalue": "invalid literal for int() with base 10: '1,2,3,4,5'",
     "output_type": "error",
     "traceback": [
      "\u001B[0;31m---------------------------------------------------------------------------\u001B[0m",
      "\u001B[0;31mValueError\u001B[0m                                Traceback (most recent call last)",
      "Input \u001B[0;32mIn [139]\u001B[0m, in \u001B[0;36m<cell line: 1>\u001B[0;34m()\u001B[0m\n\u001B[0;32m----> 1\u001B[0m \u001B[43mnp\u001B[49m\u001B[38;5;241;43m.\u001B[39;49m\u001B[43mint\u001B[49m\u001B[43m(\u001B[49m\u001B[43ma\u001B[49m\u001B[43m)\u001B[49m\n",
      "\u001B[0;31mValueError\u001B[0m: invalid literal for int() with base 10: '1,2,3,4,5'"
     ]
    }
   ],
   "source": [],
   "metadata": {
    "collapsed": false,
    "pycharm": {
     "name": "#%%\n"
    }
   }
  },
  {
   "cell_type": "code",
   "execution_count": null,
   "outputs": [],
   "source": [],
   "metadata": {
    "collapsed": false,
    "pycharm": {
     "name": "#%%\n"
    }
   }
  }
 ],
 "metadata": {
  "kernelspec": {
   "name": "python3",
   "language": "python",
   "display_name": "Python 3 (ipykernel)"
  },
  "language_info": {
   "codemirror_mode": {
    "name": "ipython",
    "version": 2
   },
   "file_extension": ".py",
   "mimetype": "text/x-python",
   "name": "python",
   "nbconvert_exporter": "python",
   "pygments_lexer": "ipython2",
   "version": "2.7.6"
  }
 },
 "nbformat": 4,
 "nbformat_minor": 0
}
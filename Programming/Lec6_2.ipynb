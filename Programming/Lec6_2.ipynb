{
 "cells": [
  {
   "cell_type": "code",
   "execution_count": 2,
   "outputs": [
    {
     "name": "stdout",
     "output_type": "stream",
     "text": [
      "{'a': 1, 'b': 2, 'c': 3}\n"
     ]
    }
   ],
   "source": [
    "key_list = ['a', 'b', 'c']\n",
    "value_list = [1,2,3]\n",
    "mapping = {}\n",
    "for key, value in zip(key_list, value_list):\n",
    "    mapping[key] = value\n",
    "print(mapping)"
   ],
   "metadata": {
    "collapsed": false,
    "pycharm": {
     "name": "#%%\n"
    }
   }
  },
  {
   "cell_type": "code",
   "execution_count": 18,
   "outputs": [
    {
     "data": {
      "text/plain": "{'a': ['apple', 'atom'], 'b': ['bat', 'bar', 'book']}"
     },
     "execution_count": 18,
     "metadata": {},
     "output_type": "execute_result"
    }
   ],
   "source": [
    "\n",
    "words = ['apple','bat', 'bar', 'atom', 'book']\n",
    "mapping = {}\n",
    "for word in words:\n",
    "    first_letter = word[0]\n",
    "    #mapping[first_letter] = [word] if first_letter not in mapping else mapping[first_letter].append(word)\n",
    "    if first_letter not in mapping:\n",
    "        mapping[first_letter] = [word]\n",
    "    else:\n",
    "        mapping[first_letter].append(word)\n",
    "mapping"
   ],
   "metadata": {
    "collapsed": false,
    "pycharm": {
     "name": "#%%\n"
    }
   }
  },
  {
   "cell_type": "code",
   "execution_count": 29,
   "outputs": [
    {
     "name": "stdout",
     "output_type": "stream",
     "text": [
      "6 is more or less than I expected\n"
     ]
    }
   ],
   "source": [
    "num = {'1': 'One', '2': 'Two', '3': 'Three', '4': 'Four'}\n",
    "ask_num = input('Type from 1 to 4 ')\n",
    "if ask_num in num:\n",
    "    print(num[ask_num])\n",
    "else:\n",
    "    print(f'{ask_num} is more or less than I expected')"
   ],
   "metadata": {
    "collapsed": false,
    "pycharm": {
     "name": "#%%\n"
    }
   }
  },
  {
   "cell_type": "code",
   "execution_count": 22,
   "outputs": [
    {
     "data": {
      "text/plain": "{'a': ['apple', 'atom'], 'b': ['bat', 'bar', 'book']}"
     },
     "execution_count": 22,
     "metadata": {},
     "output_type": "execute_result"
    }
   ],
   "source": [
    "words = ['apple','bat', 'bar', 'atom', 'book']\n",
    "by_letter = {}\n",
    "for word in words:\n",
    "    letter = word[0]\n",
    "    if letter not in by_letter:\n",
    "        by_letter[letter] = [word]\n",
    "    else:\n",
    "        by_letter[letter].append(word)\n",
    "by_letter"
   ],
   "metadata": {
    "collapsed": false,
    "pycharm": {
     "name": "#%%\n"
    }
   }
  },
  {
   "cell_type": "code",
   "execution_count": 24,
   "outputs": [
    {
     "data": {
      "text/plain": "{'a': ['apple', 'atom'], 'b': ['bat', 'bar', 'book']}"
     },
     "execution_count": 24,
     "metadata": {},
     "output_type": "execute_result"
    }
   ],
   "source": [
    "by_letter = {}\n",
    "for word in words:\n",
    "    by_letter.setdefault(word[0], []).append(word)\n",
    "by_letter"
   ],
   "metadata": {
    "collapsed": false,
    "pycharm": {
     "name": "#%%\n"
    }
   }
  },
  {
   "cell_type": "code",
   "execution_count": 35,
   "outputs": [
    {
     "data": {
      "text/plain": "['bat', 'bar', 'book']"
     },
     "execution_count": 35,
     "metadata": {},
     "output_type": "execute_result"
    }
   ],
   "source": [
    "from collections import defaultdict\n",
    "by_letter = defaultdict(list)\n",
    "for word in words:\n",
    "    by_letter[word[0]].append(word)\n",
    "by_letter.get('b')"
   ],
   "metadata": {
    "collapsed": false,
    "pycharm": {
     "name": "#%%\n"
    }
   }
  },
  {
   "cell_type": "code",
   "execution_count": 49,
   "outputs": [
    {
     "data": {
      "text/plain": "{1, 2, 7, 8}"
     },
     "execution_count": 49,
     "metadata": {},
     "output_type": "execute_result"
    }
   ],
   "source": [
    "a = set([1,2,3,4])\n",
    "b = set([3,4,7,8])\n",
    "c = a|b # a.union(b)\n",
    "d = a&b # a.intersection(b)\n",
    "e = a-b #a.difference(b)\n",
    "f = a^b #a.symmetric diference\n"
   ],
   "metadata": {
    "collapsed": false,
    "pycharm": {
     "name": "#%%\n"
    }
   }
  },
  {
   "cell_type": "code",
   "execution_count": 61,
   "outputs": [
    {
     "name": "stdout",
     "output_type": "stream",
     "text": [
      "May 05 , 2022\n"
     ]
    }
   ],
   "source": [
    "ask_date = input('Please Enter date and split year, month, and date with - ')\n",
    "date_list = ask_date.split('-')\n",
    "month_name = ['January', 'February', 'March', 'April', 'May', 'June', 'July', 'August', 'September', 'October', 'November', 'December']\n",
    "month_num = int(date_list[1])\n",
    "print(month_name[month_num], date_list[2], ',', date_list[0])"
   ],
   "metadata": {
    "collapsed": false,
    "pycharm": {
     "name": "#%%\n"
    }
   }
  },
  {
   "cell_type": "code",
   "execution_count": 114,
   "outputs": [],
   "source": [
    "def remove_space(value):\n",
    "    value = value.strip()\n",
    "    value_list = list(value)\n",
    "    if value_list.count(' ') >= 1:\n",
    "        while value_list.count(' ') != 0:\n",
    "            value_list.remove(' ')\n",
    "        value_cleaned = ''\n",
    "        for j in value_list:\n",
    "            value_cleaned += j\n",
    "        return value_cleaned\n",
    "    else:\n",
    "        value_cleaned = ''\n",
    "        for j in value_list:\n",
    "            value_cleaned += j\n",
    "        return value_cleaned"
   ],
   "metadata": {
    "collapsed": false,
    "pycharm": {
     "name": "#%%\n"
    }
   }
  },
  {
   "cell_type": "code",
   "execution_count": 115,
   "outputs": [
    {
     "name": "stdout",
     "output_type": "stream",
     "text": [
      "20220403\n",
      "May 03, 2022\n"
     ]
    }
   ],
   "source": [
    "import re\n",
    "ask_date = str(input('Enter date whatever type u like'))\n",
    "\n",
    "ask_date = re.sub('[년월일]','',ask_date)\n",
    "ask_date = re.sub('[-/]','',ask_date)\n",
    "ask_date = remove_space(ask_date)\n",
    "print(ask_date)\n",
    "date_mapping = {}\n",
    "for i, month in enumerate(month_name):\n",
    "    date_mapping[i] = month\n",
    "\n",
    "year = ask_date[0:4]\n",
    "month_num = ask_date[4:6]\n",
    "date = ask_date[6:8]\n",
    "print(date_mapping[int(month_num)] + ' ' + date + ', ' + year)"
   ],
   "metadata": {
    "collapsed": false,
    "pycharm": {
     "name": "#%%\n"
    }
   }
  },
  {
   "cell_type": "code",
   "execution_count": 101,
   "outputs": [
    {
     "data": {
      "text/plain": "'20220305'"
     },
     "execution_count": 101,
     "metadata": {},
     "output_type": "execute_result"
    }
   ],
   "source": [
    "import re\n",
    "a = '2022년03월05일'\n",
    "re.sub('[년월일]','',a)"
   ],
   "metadata": {
    "collapsed": false,
    "pycharm": {
     "name": "#%%\n"
    }
   }
  },
  {
   "cell_type": "code",
   "execution_count": 82,
   "outputs": [],
   "source": [],
   "metadata": {
    "collapsed": false,
    "pycharm": {
     "name": "#%%\n"
    }
   }
  },
  {
   "cell_type": "code",
   "execution_count": null,
   "outputs": [],
   "source": [],
   "metadata": {
    "collapsed": false,
    "pycharm": {
     "name": "#%%\n"
    }
   }
  }
 ],
 "metadata": {
  "kernelspec": {
   "name": "python3",
   "language": "python",
   "display_name": "Python 3 (ipykernel)"
  },
  "language_info": {
   "codemirror_mode": {
    "name": "ipython",
    "version": 2
   },
   "file_extension": ".py",
   "mimetype": "text/x-python",
   "name": "python",
   "nbconvert_exporter": "python",
   "pygments_lexer": "ipython2",
   "version": "2.7.6"
  }
 },
 "nbformat": 4,
 "nbformat_minor": 0
}
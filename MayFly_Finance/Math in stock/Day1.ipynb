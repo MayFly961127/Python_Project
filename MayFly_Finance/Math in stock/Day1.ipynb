{
 "cells": [
  {
   "cell_type": "markdown",
   "source": [
    "1. the decision as to how much profit you expect (or how much loss ou will accept)\n",
    "2. deciding how to compute the cotcome"
   ],
   "metadata": {
    "collapsed": false
   }
  },
  {
   "cell_type": "code",
   "execution_count": 130,
   "metadata": {
    "collapsed": true
   },
   "outputs": [
    {
     "name": "stdout",
     "output_type": "stream",
     "text": [
      "Simple return is\n",
      "-6.76%\n",
      "Margin return is\n",
      "87.12%\n",
      "margin_return considering cost(interes)\n",
      "84.12%\n",
      "net invest with net cost\n",
      "84.59%\n",
      "Total return with dividends is\n",
      "85.99%\n"
     ]
    }
   ],
   "source": [
    "def Simple_return():\n",
    "    P = 9.663\n",
    "    S = 9.01\n",
    "    print('Simple return is')\n",
    "    return print(str(round((S - P)*100/P,2)) + '%')\n",
    "def margin_return():\n",
    "    S = 9.01*76\n",
    "    P = 9.63*76\n",
    "    I = P*0.5 #50% buy on margin\n",
    "    print('Margin return is')\n",
    "    return print(str(round(((S-I)/I)*100,2)) + '%')\n",
    "\n",
    "def net_invest():\n",
    "    P = 9.63*76\n",
    "    S = 9.01*76\n",
    "    I = P*0.5\n",
    "    C = I*0.03 #margin interest\n",
    "    print('margin_return considering cost(interes)')\n",
    "    R = round((S - I - C)*100/I,2)\n",
    "    return print(str(R) + '%')\n",
    "def net_invest_net_cost():\n",
    "    P = 9.63*76\n",
    "    S = 9.01*76\n",
    "    I = P*0.5\n",
    "    C = I*0.03 #margin interest\n",
    "    print('net invest with net cost')\n",
    "    R = round((S-I)*100/(I+C),2)\n",
    "    return print(str(R) + '%')\n",
    "def total_return_dividends():\n",
    "    print('Total return with dividends is')\n",
    "    P = 9.63*76\n",
    "    S = 9.01*76\n",
    "    I = P*0.5\n",
    "    C = I*0.03 #margin interest\n",
    "    D = 9.01*0.01*76\n",
    "    R = (S - I - C)*100/I\n",
    "    R_di = R + (D*100)/I\n",
    "    return print(str(round(R_di,2)) + '%')\n",
    "\n",
    "\n",
    "functions = [Simple_return , margin_return, net_invest, net_invest_net_cost, total_return_dividends]\n",
    "for func in functions:\n",
    "    func()"
   ]
  },
  {
   "cell_type": "code",
   "execution_count": 12,
   "outputs": [
    {
     "data": {
      "text/plain": "datetime.datetime(2022, 3, 27, 12, 54, 26, 934461)"
     },
     "execution_count": 12,
     "metadata": {},
     "output_type": "execute_result"
    }
   ],
   "source": [
    "datetime.datetime.now() - datetime.timedelta(days = 1)"
   ],
   "metadata": {
    "collapsed": false,
    "pycharm": {
     "name": "#%%\n"
    }
   }
  },
  {
   "cell_type": "code",
   "execution_count": 86,
   "outputs": [
    {
     "data": {
      "text/plain": "{'a': 0    c\n Name: a, dtype: object,\n 'b': 0    d\n Name: b, dtype: object}"
     },
     "execution_count": 86,
     "metadata": {},
     "output_type": "execute_result"
    }
   ],
   "source": [
    "a = pd.DataFrame([{'a': 'c','b': 'd'}])\n",
    "dict(a)"
   ],
   "metadata": {
    "collapsed": false,
    "pycharm": {
     "name": "#%%\n"
    }
   }
  },
  {
   "cell_type": "code",
   "execution_count": null,
   "outputs": [],
   "source": [],
   "metadata": {
    "collapsed": false,
    "pycharm": {
     "name": "#%%\n"
    }
   }
  },
  {
   "cell_type": "code",
   "execution_count": 10,
   "outputs": [
    {
     "data": {
      "text/plain": "array([  20., -470., -130.], dtype=float32)"
     },
     "execution_count": 10,
     "metadata": {},
     "output_type": "execute_result"
    }
   ],
   "source": [
    "#Simple Return\n",
    "#return on equity\n",
    "import numpy as np\n",
    "def return_equity(Profit,Equity):\n",
    "    \"\"\"How efficiently the compony generate profits\"\"\"\n",
    "    #One Year Profits\n",
    "    #Shareholders' equity\n",
    "    return np.round(Profit*100/Equity,-1)\n",
    "Profit = np.array([984.8, 565.52, 442.66], dtype = np.float32)\n",
    "Equity = np.array([4377.33, -120.12, -339.06], dtype = np.float32)\n",
    "return_equity(Profit, Equity)"
   ],
   "metadata": {
    "collapsed": false,
    "pycharm": {
     "name": "#%%\n"
    }
   }
  },
  {
   "cell_type": "code",
   "execution_count": 11,
   "outputs": [],
   "source": [
    "def return_total_capitalization(P,I,E,B):\n",
    "    \"\"\"It shows how a company balance well between equity and debt\"\"\"\n",
    "    return (P + I)*100/(E + B)\n",
    "\n",
    "P = Profit\n",
    "E = Equity\n"
   ],
   "metadata": {
    "collapsed": false,
    "pycharm": {
     "name": "#%%\n"
    }
   }
  },
  {
   "cell_type": "code",
   "execution_count": null,
   "outputs": [],
   "source": [],
   "metadata": {
    "collapsed": false,
    "pycharm": {
     "name": "#%%\n"
    }
   }
  }
 ],
 "metadata": {
  "kernelspec": {
   "name": "python3",
   "language": "python",
   "display_name": "Python 3 (ipykernel)"
  },
  "language_info": {
   "codemirror_mode": {
    "name": "ipython",
    "version": 2
   },
   "file_extension": ".py",
   "mimetype": "text/x-python",
   "name": "python",
   "nbconvert_exporter": "python",
   "pygments_lexer": "ipython2",
   "version": "2.7.6"
  }
 },
 "nbformat": 4,
 "nbformat_minor": 0
}
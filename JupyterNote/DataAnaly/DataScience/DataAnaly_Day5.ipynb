{
 "cells": [
  {
   "cell_type": "code",
   "execution_count": 1,
   "metadata": {
    "collapsed": true
   },
   "outputs": [
    {
     "name": "stdout",
     "output_type": "stream",
     "text": [
      "True\n"
     ]
    }
   ],
   "source": [
    "#Lambda\n",
    "#Anonymous function\n",
    "def short_function(x):\n",
    "    return x**2\n",
    "shortest_function = lambda x: x**2\n",
    "print(shortest_function(2) == short_function(2))"
   ]
  },
  {
   "cell_type": "code",
   "execution_count": 2,
   "outputs": [
    {
     "data": {
      "text/plain": "[16, 0, 1, 25, 36]"
     },
     "execution_count": 2,
     "metadata": {},
     "output_type": "execute_result"
    }
   ],
   "source": [
    "def apply_to_list(some_list, f):\n",
    "    return [f(x) for x in some_list]\n",
    "ints = [4, 0, 1, 5, 6]\n",
    "apply_to_list(ints, lambda x: x**2)"
   ],
   "metadata": {
    "collapsed": false,
    "pycharm": {
     "name": "#%%\n"
    }
   }
  },
  {
   "cell_type": "code",
   "execution_count": 14,
   "outputs": [
    {
     "data": {
      "text/plain": "[{'a'}, {'f', 'o'}, {'a', 'b'}, {'a', 'b', 'r'}, {'a', 'c', 'd', 'r'}]"
     },
     "execution_count": 14,
     "metadata": {},
     "output_type": "execute_result"
    }
   ],
   "source": [
    "#Sorting keyfucntion with lambda\n",
    "strings = ['foo', 'card', 'bar', 'aaa', 'abab']\n",
    "strings.sort(key = lambda x: len(set(list(x))))\n",
    "strings_2 = sorted(strings, key = lambda x: len(list(x)))\n",
    "string_test = [set(list(x)) for x in strings]\n",
    "string_test"
   ],
   "metadata": {
    "collapsed": false,
    "pycharm": {
     "name": "#%%\n"
    }
   }
  },
  {
   "cell_type": "code",
   "execution_count": 15,
   "outputs": [
    {
     "data": {
      "text/plain": "{'a', 'b', 'c', 'd', 'e', 'f', 'g', 'h'}"
     },
     "execution_count": 15,
     "metadata": {},
     "output_type": "execute_result"
    }
   ],
   "source": [
    "#Set extract key values only\n",
    "set('aaabbbcccdddeeefffggghhh')"
   ],
   "metadata": {
    "collapsed": false,
    "pycharm": {
     "name": "#%%\n"
    }
   }
  },
  {
   "cell_type": "code",
   "execution_count": 19,
   "outputs": [
    {
     "data": {
      "text/plain": "6"
     },
     "execution_count": 19,
     "metadata": {},
     "output_type": "execute_result"
    }
   ],
   "source": [
    "#Currying: partial argument application\n",
    "#Derive new fucntions from existing ones by partial argument application\n",
    "def add_number(x,y):\n",
    "    return x+y\n",
    "#by lambda\n",
    "add_five = lambda y: add_number(5, y)\n",
    "add_five(1)\n",
    "#by functools\n",
    "from functools import partial\n",
    "add_five = partial(add_number, 5)\n",
    "add_five(1)"
   ],
   "metadata": {
    "collapsed": false,
    "pycharm": {
     "name": "#%%\n"
    }
   }
  },
  {
   "cell_type": "code",
   "execution_count": 38,
   "outputs": [
    {
     "data": {
      "text/plain": "<Figure size 432x288 with 1 Axes>",
      "image/png": "[encoded data removed]"
     },
     "metadata": {
      "needs_background": "light"
     },
     "output_type": "display_data"
    },
    {
     "data": {
      "text/plain": "<Figure size 432x288 with 1 Axes>",
      "image/png": "[encoded data removed]"
     },
     "metadata": {
      "needs_background": "light"
     },
     "output_type": "display_data"
    }
   ],
   "source": [
    "import matplotlib.pyplot as plt\n",
    "import numpy as np\n",
    "from functools import partial\n",
    "x = np.random.randint(0,10, size = 10)\n",
    "y = np.random.randint(0,10, size = 10)\n",
    "def circle(x,y):\n",
    "    from collections import deque\n",
    "    import matplotlib.pyplot as plt\n",
    "    x_circle = deque()\n",
    "    y_circle = deque()\n",
    "    for i in range(10):\n",
    "        x_circle.append(x[i]**2)\n",
    "        y_circle.append(y[i]**2)\n",
    "    plt.plot(x_circle,y_circle)\n",
    "    plt.show()\n",
    "circle_x  = lambda y: circle([1,2,3,4,5,6,7,8,9,10],y)\n",
    "circle_x(y)\n",
    "from functools import partial\n",
    "circle_y = partial(circle, [1,2,3,4,5,6,7,8,9,10])\n",
    "circle_y(x)"
   ],
   "metadata": {
    "collapsed": false,
    "pycharm": {
     "name": "#%%\n"
    }
   }
  },
  {
   "cell_type": "code",
   "execution_count": 42,
   "outputs": [
    {
     "name": "stdout",
     "output_type": "stream",
     "text": [
      "a\n",
      "b\n",
      "c\n",
      "d\n"
     ]
    },
    {
     "data": {
      "text/plain": "<dict_keyiterator at 0x7fb768d074c0>"
     },
     "execution_count": 42,
     "metadata": {},
     "output_type": "execute_result"
    }
   ],
   "source": [
    "#Generator\n",
    "#Interator protocool\n",
    "some_dict = {'a': 1, 'b': 2, 'c': 3, 'd': 4}\n",
    "for key in some_dict:\n",
    "    print(key)\n",
    "\n",
    "dict_iterator = iter(some_dict)\n",
    "dict_iterator"
   ],
   "metadata": {
    "collapsed": false,
    "pycharm": {
     "name": "#%%\n"
    }
   }
  },
  {
   "cell_type": "code",
   "execution_count": 48,
   "outputs": [
    {
     "name": "stdout",
     "output_type": "stream",
     "text": [
      "Generating squareds from 1 to 100\n",
      "1  \n",
      "4  \n",
      "9  \n",
      "16  \n",
      "25  \n",
      "36  \n",
      "49  \n",
      "64  \n",
      "81  \n",
      "100  \n"
     ]
    }
   ],
   "source": [
    "#Normal fucntions execute and return a single result at a time, generator return a sequence of multiple return lazily,\n",
    "#pausing after each one until the next one is requested\n",
    "#Create generator by yield\n",
    "def squared(n=10):\n",
    "    print(f'Generating squareds from 1 to {n**2}')\n",
    "    for i in range(1, n+1):\n",
    "        yield i**2\n",
    "gen = squared()\n",
    "for i in gen:\n",
    "    print(i, ' ')"
   ],
   "metadata": {
    "collapsed": false,
    "pycharm": {
     "name": "#%%\n"
    }
   }
  },
  {
   "cell_type": "code",
   "execution_count": 62,
   "outputs": [
    {
     "data": {
      "text/plain": "[0,\n 1,\n 4,\n 9,\n 16,\n 25,\n 36,\n 49,\n 64,\n 81,\n 100,\n 121,\n 144,\n 169,\n 196,\n 225,\n 256,\n 289,\n 324,\n 361,\n 400,\n 441,\n 484,\n 529,\n 576,\n 625,\n 676,\n 729,\n 784,\n 841,\n 900,\n 961,\n 1024,\n 1089,\n 1156,\n 1225,\n 1296,\n 1369,\n 1444,\n 1521,\n 1600,\n 1681,\n 1764,\n 1849,\n 1936,\n 2025,\n 2116,\n 2209,\n 2304,\n 2401,\n 2500,\n 2601,\n 2704,\n 2809,\n 2916,\n 3025,\n 3136,\n 3249,\n 3364,\n 3481,\n 3600,\n 3721,\n 3844,\n 3969,\n 4096,\n 4225,\n 4356,\n 4489,\n 4624,\n 4761,\n 4900,\n 5041,\n 5184,\n 5329,\n 5476,\n 5625,\n 5776,\n 5929,\n 6084,\n 6241,\n 6400,\n 6561,\n 6724,\n 6889,\n 7056,\n 7225,\n 7396,\n 7569,\n 7744,\n 7921,\n 8100,\n 8281,\n 8464,\n 8649,\n 8836,\n 9025,\n 9216,\n 9409,\n 9604,\n 9801]"
     },
     "execution_count": 62,
     "metadata": {},
     "output_type": "execute_result"
    }
   ],
   "source": [
    "#Generator expressions\n",
    "gen = (x**2 for x in range(100))\n",
    "\n",
    "def squred_2():\n",
    "    for x in range(100):\n",
    "        yield x**2\n",
    "list(squred_2())"
   ],
   "metadata": {
    "collapsed": false,
    "pycharm": {
     "name": "#%%\n"
    }
   }
  },
  {
   "cell_type": "code",
   "execution_count": 66,
   "outputs": [
    {
     "data": {
      "text/plain": "{0: 0, 1: 1, 2: 4, 3: 9, 4: 16}"
     },
     "execution_count": 66,
     "metadata": {},
     "output_type": "execute_result"
    }
   ],
   "source": [
    "#Generator expressions can be used instead of list comprehession\n",
    "sum(x**2 for x in range(100))\n",
    "dict((i, i**2) for i in range(5))\n",
    "a_dict = {i: i**2 for i in range(5)}"
   ],
   "metadata": {
    "collapsed": false,
    "pycharm": {
     "name": "#%%\n"
    }
   }
  },
  {
   "cell_type": "code",
   "execution_count": 105,
   "outputs": [
    {
     "name": "stdout",
     "output_type": "stream",
     "text": [
      "A ['Adam', 'Alan', 'Alexando']\n",
      "E ['Elbert']\n",
      "S ['Steven']\n",
      "W ['Wes', 'Will']\n"
     ]
    }
   ],
   "source": [
    "#Itertools module\n",
    "import itertools\n",
    "first_letter = lambda x: x[0]\n",
    "names = ['Alan', 'Adam','Wes', 'Will', 'Elbert', 'Steven', 'Alexando']\n",
    "for letter, names in itertools.groupby(sorted(names), first_letter):\n",
    "    print(letter, list(names))"
   ],
   "metadata": {
    "collapsed": false,
    "pycharm": {
     "name": "#%%\n"
    }
   }
  },
  {
   "cell_type": "code",
   "execution_count": 115,
   "outputs": [
    {
     "data": {
      "text/plain": "{'A': ['Adam', 'Alan', 'Alexando'],\n 'E': ['Elbert'],\n 'S': ['Steven'],\n 'W': ['Wes', 'Will']}"
     },
     "execution_count": 115,
     "metadata": {},
     "output_type": "execute_result"
    }
   ],
   "source": [
    "#Itertools Combinations\n",
    "import itertools\n",
    "num = list(range(10))\n",
    "combi = itertools.combinations(num, 3)\n",
    "#Intertools Permutations\n",
    "permu = itertools.permutations(num,3)\n",
    "\n",
    "#Intertools groupby\n",
    "import itertools\n",
    "import numpy as np\n",
    "names = ['Alan', 'Adam','Wes', 'Will', 'Elbert', 'Steven', 'Alexando']\n",
    "names.sort()\n",
    "dict_name = {}\n",
    "for letter, name in itertools.groupby(names, lambda x: x[0]):\n",
    "    dict_name[letter] = list(name)\n",
    "dict_name"
   ],
   "metadata": {
    "collapsed": false,
    "pycharm": {
     "name": "#%%\n"
    }
   }
  },
  {
   "cell_type": "code",
   "execution_count": 141,
   "outputs": [
    {
     "data": {
      "text/plain": "[('John', 'Emily', 'Michael'),\n ('John', 'Emily', 'Mary'),\n ('John', 'Emily', 'Steven'),\n ('John', 'Michael', 'Mary'),\n ('John', 'Michael', 'Steven'),\n ('John', 'Mary', 'Steven'),\n ('Emily', 'Michael', 'Mary'),\n ('Emily', 'Michael', 'Steven'),\n ('Emily', 'Mary', 'Steven'),\n ('Michael', 'Mary', 'Steven')]"
     },
     "execution_count": 141,
     "metadata": {},
     "output_type": "execute_result"
    }
   ],
   "source": [
    "import itertools\n",
    "all_data = ['John', 'Emily', 'Michael', 'Mary', 'Steven']\n",
    "_selcted = itertools.combinations(all_data,3)\n",
    "list(_selcted)"
   ],
   "metadata": {
    "collapsed": false,
    "pycharm": {
     "name": "#%%\n"
    }
   }
  },
  {
   "cell_type": "code",
   "execution_count": 5,
   "outputs": [
    {
     "data": {
      "text/plain": "1.23345"
     },
     "execution_count": 5,
     "metadata": {},
     "output_type": "execute_result"
    }
   ],
   "source": [
    "#Error and Excepting Handling\n",
    "def attempt_float(x):\n",
    "    try:\n",
    "        return float(x)\n",
    "    except ValueError:\n",
    "        return x\n",
    "attempt_float('1.23345')"
   ],
   "metadata": {
    "collapsed": false,
    "pycharm": {
     "name": "#%%\n"
    }
   }
  },
  {
   "cell_type": "code",
   "execution_count": 6,
   "outputs": [
    {
     "data": {
      "text/plain": "'Soemthing'"
     },
     "execution_count": 6,
     "metadata": {},
     "output_type": "execute_result"
    }
   ],
   "source": [
    "attempt_float('Soemthing')"
   ],
   "metadata": {
    "collapsed": false,
    "pycharm": {
     "name": "#%%\n"
    }
   }
  },
  {
   "cell_type": "code",
   "execution_count": 8,
   "outputs": [
    {
     "ename": "TypeError",
     "evalue": "float() argument must be a string or a real number, not 'tuple'",
     "output_type": "error",
     "traceback": [
      "\u001B[0;31m---------------------------------------------------------------------------\u001B[0m",
      "\u001B[0;31mTypeError\u001B[0m                                 Traceback (most recent call last)",
      "Input \u001B[0;32mIn [8]\u001B[0m, in \u001B[0;36m<cell line: 1>\u001B[0;34m()\u001B[0m\n\u001B[0;32m----> 1\u001B[0m \u001B[38;5;28;43mfloat\u001B[39;49m\u001B[43m(\u001B[49m\u001B[43m(\u001B[49m\u001B[38;5;241;43m1\u001B[39;49m\u001B[43m,\u001B[49m\u001B[38;5;241;43m2\u001B[39;49m\u001B[43m)\u001B[49m\u001B[43m)\u001B[49m\n",
      "\u001B[0;31mTypeError\u001B[0m: float() argument must be a string or a real number, not 'tuple'"
     ]
    }
   ],
   "source": [
    "float((1,2))"
   ],
   "metadata": {
    "collapsed": false,
    "pycharm": {
     "name": "#%%\n"
    }
   }
  },
  {
   "cell_type": "code",
   "execution_count": 10,
   "outputs": [
    {
     "data": {
      "text/plain": "(1, 2)"
     },
     "execution_count": 10,
     "metadata": {},
     "output_type": "execute_result"
    }
   ],
   "source": [
    "def attempt_float(x):\n",
    "    try:\n",
    "        float(x)\n",
    "    except (ValueError, TypeError): #parentheses are required\n",
    "        return x\n",
    "attempt_float((1,2))"
   ],
   "metadata": {
    "collapsed": false,
    "pycharm": {
     "name": "#%%\n"
    }
   }
  },
  {
   "cell_type": "code",
   "execution_count": 28,
   "outputs": [
    {
     "name": "stdout",
     "output_type": "stream",
     "text": [
      "안녀앟세요\n",
      "\n",
      "김승환입니다.\n",
      "\n",
      "누구세요?\n",
      "\n",
      "응\n",
      "\n",
      "장난 하는 것도 아니구\n",
      "\n",
      "말이야 이거이거이거\n",
      "\n",
      "씨바라마라라라라\n",
      "\n",
      "개짖는 소리 안나게 하라 응?\n",
      "\n",
      "장난하는\n",
      "\n",
      "이런\n",
      "\n"
     ]
    }
   ],
   "source": [
    "#File and Operating System\n",
    "path = 'segismundo.txt'\n",
    "f = open(path)\n",
    "for line in f:\n",
    "    print(line)"
   ],
   "metadata": {
    "collapsed": false,
    "pycharm": {
     "name": "#%%\n"
    }
   }
  },
  {
   "cell_type": "code",
   "execution_count": 29,
   "outputs": [
    {
     "data": {
      "text/plain": "['안녀앟세요',\n '김승환입니다.',\n '누구세요?',\n '응',\n '장난 하는 것도 아니구',\n '말이야 이거이거이거',\n '씨바라마라라라라',\n '개짖는 소리 안나게 하라 응?',\n '장난하는',\n '이런']"
     },
     "execution_count": 29,
     "metadata": {},
     "output_type": "execute_result"
    }
   ],
   "source": [
    "lines = [x.strip() for x in open(path)]\n",
    "lines"
   ],
   "metadata": {
    "collapsed": false,
    "pycharm": {
     "name": "#%%\n"
    }
   }
  },
  {
   "cell_type": "code",
   "execution_count": 34,
   "outputs": [],
   "source": [
    "#It is important to explicitly close the file when you are finished with it\n",
    "f.close()"
   ],
   "metadata": {
    "collapsed": false,
    "pycharm": {
     "name": "#%%\n"
    }
   }
  },
  {
   "cell_type": "code",
   "execution_count": 39,
   "outputs": [
    {
     "data": {
      "text/plain": "['안녀앟세요',\n '김승환입니다.',\n '누구세요?',\n '응',\n '장난 하는 것도 아니구',\n '말이야 이거이거이거',\n '씨바라마라라라라',\n '개짖는 소리 안나게 하라 응?',\n '장난하는',\n '이런']"
     },
     "execution_count": 39,
     "metadata": {},
     "output_type": "execute_result"
    }
   ],
   "source": [
    "#clean up open\n",
    "with open(path) as file:\n",
    "    lines = [x.rstrip() for x in file]\n",
    "#f is automatically closed when exiting the with block\n",
    "lines"
   ],
   "metadata": {
    "collapsed": false,
    "pycharm": {
     "name": "#%%\n"
    }
   }
  },
  {
   "cell_type": "code",
   "execution_count": 42,
   "outputs": [
    {
     "data": {
      "text/plain": "b'\\xec\\x95\\x88\\xeb\\x85\\x80\\xec\\x95\\x9f\\xec'"
     },
     "execution_count": 42,
     "metadata": {},
     "output_type": "execute_result"
    }
   ],
   "source": [
    "#read and seek and tell\n",
    "f = open(path)\n",
    "f.read(10)\n",
    "\n",
    "f2 = open(path, 'rb') #Binary mode\n",
    "f2.read(10)"
   ],
   "metadata": {
    "collapsed": false,
    "pycharm": {
     "name": "#%%\n"
    }
   }
  },
  {
   "cell_type": "code",
   "execution_count": 47,
   "outputs": [
    {
     "name": "stdout",
     "output_type": "stream",
     "text": [
      "28 10\n"
     ]
    }
   ],
   "source": [
    "print(f.tell(),\n",
    "f2.tell())\n",
    "#Even yhough we read 10 characters from th efile, the position i 28\n",
    "# cuz it took that many bytes to decode 10 characters using the default encoding"
   ],
   "metadata": {
    "collapsed": false,
    "pycharm": {
     "name": "#%%\n"
    }
   }
  },
  {
   "cell_type": "code",
   "execution_count": 49,
   "outputs": [
    {
     "data": {
      "text/plain": "'utf-8'"
     },
     "execution_count": 49,
     "metadata": {},
     "output_type": "execute_result"
    }
   ],
   "source": [
    "#You can check the default encoding in the sys module\n",
    "import sys\n",
    "sys.getdefaultencoding()"
   ],
   "metadata": {
    "collapsed": false,
    "pycharm": {
     "name": "#%%\n"
    }
   }
  },
  {
   "cell_type": "code",
   "execution_count": 50,
   "outputs": [
    {
     "data": {
      "text/plain": "'utf-8'"
     },
     "execution_count": 50,
     "metadata": {},
     "output_type": "execute_result"
    }
   ],
   "source": [
    "import sys\n",
    "sys.getdefaultencoding()"
   ],
   "metadata": {
    "collapsed": false,
    "pycharm": {
     "name": "#%%\n"
    }
   }
  },
  {
   "cell_type": "code",
   "execution_count": 55,
   "outputs": [
    {
     "data": {
      "text/plain": "'녀'"
     },
     "execution_count": 55,
     "metadata": {},
     "output_type": "execute_result"
    }
   ],
   "source": [
    "#seek change the file position to the indicated byte in the file\n",
    "f.seek(3)\n",
    "\n",
    "f.read(1)"
   ],
   "metadata": {
    "collapsed": false,
    "pycharm": {
     "name": "#%%\n"
    }
   }
  },
  {
   "cell_type": "code",
   "execution_count": 56,
   "outputs": [],
   "source": [
    "#Don't forget to close the file\n",
    "f.close()\n",
    "f2.close()"
   ],
   "metadata": {
    "collapsed": false,
    "pycharm": {
     "name": "#%%\n"
    }
   }
  },
  {
   "cell_type": "code",
   "execution_count": 58,
   "outputs": [
    {
     "data": {
      "text/plain": "['안녀앟세요\\n',\n '김승환입니다.\\n',\n '누구세요?\\n',\n '응\\n',\n '장난 하는 것도 아니구\\n',\n '말이야 이거이거이거\\n',\n '씨바라마라라라라\\n',\n '개짖는 소리 안나게 하라 응?\\n',\n '장난하는\\n',\n '이런\\n']"
     },
     "execution_count": 58,
     "metadata": {},
     "output_type": "execute_result"
    }
   ],
   "source": [
    "#write file\n",
    "with open('tmp.txt', 'w') as handle:\n",
    "    handle.writelines(x for x in open(path) if len(x) > 1)\n",
    "\n",
    "with open('tmp.txt', 'r') as f:\n",
    "    lines = f.readlines()\n",
    "lines"
   ],
   "metadata": {
    "collapsed": false,
    "pycharm": {
     "name": "#%%\n"
    }
   }
  },
  {
   "cell_type": "code",
   "execution_count": 62,
   "outputs": [
    {
     "name": "stdout",
     "output_type": "stream",
     "text": [
      "28\n"
     ]
    },
    {
     "data": {
      "text/plain": "'안녀앟세요\\n김승환입'"
     },
     "execution_count": 62,
     "metadata": {},
     "output_type": "execute_result"
    }
   ],
   "source": [
    "#Bytes and Unicode with Files\n",
    "with open(path) as f:\n",
    "    chars = f.read(10)\n",
    "    print(f.tell())\n",
    "chars"
   ],
   "metadata": {
    "collapsed": false,
    "pycharm": {
     "name": "#%%\n"
    }
   }
  },
  {
   "cell_type": "code",
   "execution_count": 63,
   "outputs": [
    {
     "name": "stdout",
     "output_type": "stream",
     "text": [
      "10\n"
     ]
    },
    {
     "data": {
      "text/plain": "b'\\xec\\x95\\x88\\xeb\\x85\\x80\\xec\\x95\\x9f\\xec'"
     },
     "execution_count": 63,
     "metadata": {},
     "output_type": "execute_result"
    }
   ],
   "source": [
    "with open(path, 'rb') as f:\n",
    "    data = f.read(10)\n",
    "    print(f.tell())\n",
    "data"
   ],
   "metadata": {
    "collapsed": false,
    "pycharm": {
     "name": "#%%\n"
    }
   }
  },
  {
   "cell_type": "code",
   "execution_count": 70,
   "outputs": [
    {
     "ename": "UnicodeDecodeError",
     "evalue": "'utf-8' codec can't decode byte 0xec in position 9: unexpected end of data",
     "output_type": "error",
     "traceback": [
      "\u001B[0;31m---------------------------------------------------------------------------\u001B[0m",
      "\u001B[0;31mUnicodeDecodeError\u001B[0m                        Traceback (most recent call last)",
      "Input \u001B[0;32mIn [70]\u001B[0m, in \u001B[0;36m<cell line: 3>\u001B[0;34m()\u001B[0m\n\u001B[1;32m      1\u001B[0m \u001B[38;5;66;03m#decode data\u001B[39;00m\n\u001B[1;32m      2\u001B[0m \u001B[38;5;28;01mimport\u001B[39;00m \u001B[38;5;21;01msys\u001B[39;00m\n\u001B[0;32m----> 3\u001B[0m \u001B[43mdata\u001B[49m\u001B[38;5;241;43m.\u001B[39;49m\u001B[43mdecode\u001B[49m\u001B[43m(\u001B[49m\u001B[43msys\u001B[49m\u001B[38;5;241;43m.\u001B[39;49m\u001B[43mgetdefaultencoding\u001B[49m\u001B[43m(\u001B[49m\u001B[43m)\u001B[49m\u001B[43m)\u001B[49m\n",
      "\u001B[0;31mUnicodeDecodeError\u001B[0m: 'utf-8' codec can't decode byte 0xec in position 9: unexpected end of data"
     ]
    }
   ],
   "source": [
    "#decode data\n",
    "import sys\n",
    "data.decode(sys.getdefaultencoding())"
   ],
   "metadata": {
    "collapsed": false,
    "pycharm": {
     "name": "#%%\n"
    }
   }
  },
  {
   "cell_type": "code",
   "execution_count": 76,
   "outputs": [
    {
     "name": "stdout",
     "output_type": "stream",
     "text": [
      "안녀앟세요\n",
      "김승환입\n",
      "25\n"
     ]
    }
   ],
   "source": [
    "sink_path = 'sink.txt'\n",
    "with open(path) as source:\n",
    "    with open(sink_path, 'xt', encoding = 'euc_kr') as sink:\n",
    "        sink.write(source.read())\n",
    "\n",
    "with open(sink_path, encoding = 'euc_kr') as sink:\n",
    "    print(sink.read(10))\n",
    "    print(sink.tell())"
   ],
   "metadata": {
    "collapsed": false,
    "pycharm": {
     "name": "#%%\n"
    }
   }
  },
  {
   "cell_type": "code",
   "execution_count": null,
   "outputs": [],
   "source": [],
   "metadata": {
    "collapsed": false,
    "pycharm": {
     "name": "#%%\n"
    }
   }
  }
 ],
 "metadata": {
  "kernelspec": {
   "display_name": "Python 3",
   "language": "python",
   "name": "python3"
  },
  "language_info": {
   "codemirror_mode": {
    "name": "ipython",
    "version": 2
   },
   "file_extension": ".py",
   "mimetype": "text/x-python",
   "name": "python",
   "nbconvert_exporter": "python",
   "pygments_lexer": "ipython2",
   "version": "2.7.6"
  }
 },
 "nbformat": 4,
 "nbformat_minor": 0
}
{
 "cells": [
  {
   "cell_type": "code",
   "execution_count": 1,
   "metadata": {
    "collapsed": true
   },
   "outputs": [
    {
     "data": {
      "text/plain": "{'foo': 1, 'boo': 2, 'baz': 3}"
     },
     "execution_count": 1,
     "metadata": {},
     "output_type": "execute_result"
    }
   ],
   "source": [
    "key_list = ['foo','boo','baz']\n",
    "value_list = [1,2,3]\n",
    "mapping = {}\n",
    "for key, value in zip(key_list, value_list):\n",
    "    mapping[key] = value\n",
    "mapping"
   ]
  },
  {
   "cell_type": "code",
   "execution_count": 2,
   "outputs": [
    {
     "data": {
      "text/plain": "{0: 4, 1: 3, 2: 2, 3: 1, 4: 0}"
     },
     "execution_count": 2,
     "metadata": {},
     "output_type": "execute_result"
    }
   ],
   "source": [
    "mapping = dict(zip(range(5), reversed(range(5))))\n",
    "mapping"
   ],
   "metadata": {
    "collapsed": false,
    "pycharm": {
     "name": "#%%\n"
    }
   }
  },
  {
   "cell_type": "code",
   "execution_count": 10,
   "outputs": [
    {
     "data": {
      "text/plain": "{'a': ['apple', 'atom'], 'b': ['bat', 'bar', 'book']}"
     },
     "execution_count": 10,
     "metadata": {},
     "output_type": "execute_result"
    }
   ],
   "source": [
    "#Default values\n",
    "words = ['apple','bat', 'bar', 'atom', 'book']\n",
    "by_letter = {}\n",
    "for word in words:\n",
    "    letter = word[0]\n",
    "    if letter not in by_letter:\n",
    "        by_letter[letter] = [word]\n",
    "    else:\n",
    "        by_letter[letter].append(word)\n",
    "by_letter"
   ],
   "metadata": {
    "collapsed": false,
    "pycharm": {
     "name": "#%%\n"
    }
   }
  },
  {
   "cell_type": "code",
   "execution_count": 15,
   "outputs": [
    {
     "data": {
      "text/plain": "{2: [2, 4, 6, 8, 10, 12, 14, 16, 18],\n 3: [3, 6, 9, 12, 15, 18, 21, 24, 27],\n 4: [4, 8, 12, 16, 20, 24, 28, 32, 36],\n 5: [5, 10, 15, 20, 25, 30, 35, 40, 45],\n 6: [6, 12, 18, 24, 30, 36, 42, 48, 54],\n 7: [7, 14, 21, 28, 35, 42, 49, 56, 63],\n 8: [8, 16, 24, 32, 40, 48, 56, 64, 72],\n 9: [9, 18, 27, 36, 45, 54, 63, 72, 81]}"
     },
     "execution_count": 15,
     "metadata": {},
     "output_type": "execute_result"
    }
   ],
   "source": [
    "multies = list(range(2,10))\n",
    "multies_2 = list(range(1,10))\n",
    "by_multi = {}\n",
    "for multi in multies:\n",
    "    for multi_2 in multies_2:\n",
    "        start = multi\n",
    "        if start not in by_multi:\n",
    "            by_multi[start] = [multi*multi_2]\n",
    "        else:\n",
    "            by_multi[start].append(multi*multi_2)\n",
    "by_multi"
   ],
   "metadata": {
    "collapsed": false,
    "pycharm": {
     "name": "#%%\n"
    }
   }
  },
  {
   "cell_type": "code",
   "execution_count": 16,
   "outputs": [
    {
     "data": {
      "text/plain": "{'a': ['apple', 'atom'], 'b': ['bat', 'bar', 'book']}"
     },
     "execution_count": 16,
     "metadata": {},
     "output_type": "execute_result"
    }
   ],
   "source": [
    "#set default\n",
    "by_letter = {}\n",
    "for word in words:\n",
    "    letter = word[0]\n",
    "    by_letter.setdefault(letter, []).append(word)\n",
    "by_letter"
   ],
   "metadata": {
    "collapsed": false,
    "pycharm": {
     "name": "#%%\n"
    }
   }
  },
  {
   "cell_type": "code",
   "execution_count": 106,
   "outputs": [
    {
     "data": {
      "text/plain": "[[2, 4, 6, 8, 10, 12, 14, 16, 18],\n [3, 6, 9, 12, 15, 18, 21, 24, 27],\n [4, 8, 12, 16, 20, 24, 28, 32, 36],\n [5, 10, 15, 20, 25, 30, 35, 40, 45],\n [6, 12, 18, 24, 30, 36, 42, 48, 54],\n [7, 14, 21, 28, 35, 42, 49, 56, 63],\n [8, 16, 24, 32, 40, 48, 56, 64, 72],\n [9, 18, 27, 36, 45, 54, 63, 72, 81]]"
     },
     "execution_count": 106,
     "metadata": {},
     "output_type": "execute_result"
    }
   ],
   "source": [
    "by_multi = {}\n",
    "for multi_1 in range(2,10):\n",
    "    for multi_2 in range(1,10):\n",
    "        by_multi.setdefault(multi_1, []).append(multi_1*multi_2)\n",
    "list(by_multi.values())"
   ],
   "metadata": {
    "collapsed": false,
    "pycharm": {
     "name": "#%%\n"
    }
   }
  },
  {
   "cell_type": "code",
   "execution_count": 18,
   "outputs": [
    {
     "data": {
      "text/plain": "defaultdict(list, {'a': ['apple', 'atom'], 'b': ['bat', 'bar', 'book']})"
     },
     "execution_count": 18,
     "metadata": {},
     "output_type": "execute_result"
    }
   ],
   "source": [
    "#collections moduel default\n",
    "from collections import defaultdict\n",
    "by_letter = defaultdict(list)\n",
    "for word in words:\n",
    "    by_letter[word[0]].append(word)\n",
    "by_letter"
   ],
   "metadata": {
    "collapsed": false,
    "pycharm": {
     "name": "#%%\n"
    }
   }
  },
  {
   "cell_type": "code",
   "execution_count": 1,
   "outputs": [
    {
     "data": {
      "text/plain": "defaultdict(list,\n            {2: [2, 4, 6, 8, 10, 12, 14, 16, 18],\n             3: [3, 6, 9, 12, 15, 18, 21, 24, 27],\n             4: [4, 8, 12, 16, 20, 24, 28, 32, 36],\n             5: [5, 10, 15, 20, 25, 30, 35, 40, 45],\n             6: [6, 12, 18, 24, 30, 36, 42, 48, 54],\n             7: [7, 14, 21, 28, 35, 42, 49, 56, 63],\n             8: [8, 16, 24, 32, 40, 48, 56, 64, 72],\n             9: [9, 18, 27, 36, 45, 54, 63, 72, 81]})"
     },
     "execution_count": 1,
     "metadata": {},
     "output_type": "execute_result"
    }
   ],
   "source": [
    "from collections import defaultdict\n",
    "by_multi = defaultdict(list)\n",
    "for i in range(2,10):\n",
    "    for j in range(1,10):\n",
    "        by_multi[i].append(i*j)\n",
    "by_multi"
   ],
   "metadata": {
    "collapsed": false,
    "pycharm": {
     "name": "#%%\n"
    }
   }
  },
  {
   "cell_type": "code",
   "execution_count": 22,
   "outputs": [
    {
     "data": {
      "text/plain": "5625051295927726901"
     },
     "execution_count": 22,
     "metadata": {},
     "output_type": "execute_result"
    }
   ],
   "source": [
    "#Valid dict key types\n",
    "#dictionary keys must be hashability, which means they should be immutable objects like scalar, int, or tuple\n",
    "#you can check hashiability by hash()\n",
    "hash('string')"
   ],
   "metadata": {
    "collapsed": false,
    "pycharm": {
     "name": "#%%\n"
    }
   }
  },
  {
   "cell_type": "code",
   "execution_count": 23,
   "outputs": [
    {
     "data": {
      "text/plain": "-3550055125485641917"
     },
     "execution_count": 23,
     "metadata": {},
     "output_type": "execute_result"
    }
   ],
   "source": [
    "hash((1,2))"
   ],
   "metadata": {
    "collapsed": false,
    "pycharm": {
     "name": "#%%\n"
    }
   }
  },
  {
   "cell_type": "code",
   "execution_count": 26,
   "outputs": [
    {
     "data": {
      "text/plain": "-3550055125485641917"
     },
     "execution_count": 26,
     "metadata": {},
     "output_type": "execute_result"
    }
   ],
   "source": [
    "hash([1,2])\n",
    "#fail because list is mutable\n",
    "#But you can change list with tuple\n",
    "hash(tuple([1,2]))"
   ],
   "metadata": {
    "collapsed": false,
    "pycharm": {
     "name": "#%%\n"
    }
   }
  },
  {
   "cell_type": "code",
   "execution_count": 27,
   "outputs": [
    {
     "data": {
      "text/plain": "{1, 2, 3, 4, 5}"
     },
     "execution_count": 27,
     "metadata": {},
     "output_type": "execute_result"
    }
   ],
   "source": [
    "#set is like dicts but there are only keys\n",
    "set([1,2,3,4,5])"
   ],
   "metadata": {
    "collapsed": false,
    "pycharm": {
     "name": "#%%\n"
    }
   }
  },
  {
   "cell_type": "code",
   "execution_count": 28,
   "outputs": [
    {
     "data": {
      "text/plain": "{1, 2, 3, 4, 5}"
     },
     "execution_count": 28,
     "metadata": {},
     "output_type": "execute_result"
    }
   ],
   "source": [
    "{1,2,3,4,5}"
   ],
   "metadata": {
    "collapsed": false,
    "pycharm": {
     "name": "#%%\n"
    }
   }
  },
  {
   "cell_type": "code",
   "execution_count": 48,
   "outputs": [
    {
     "data": {
      "text/plain": "False"
     },
     "execution_count": 48,
     "metadata": {},
     "output_type": "execute_result"
    }
   ],
   "source": [
    "#Set support mathematical set oeprations like union, intersection, difference, and symmetric difference\n",
    "a = {1,2,3,4,5}\n",
    "b = {3,4,5,6,7,8}\n",
    "#union\n",
    "a.union(b)\n",
    "a|b\n",
    "#joint\n",
    "a.intersection(b)\n",
    "a&b\n",
    "#difference\n",
    "a.difference(b)\n",
    "a - b\n",
    "#difference update\n",
    "#Set a to the elements in a that are not in b\n",
    "a.difference_update(b)\n",
    "a -= b\n",
    "#symmetric_difference\n",
    "a = {1,2,3,4,5}\n",
    "b = {3,4,5,6,7,8}\n",
    "a.symmetric_difference(b)\n",
    "a ^  b\n",
    "#symmetric_difference_update\n",
    "#Set a to contain the elements in either a or b but not both\n",
    "a.symmetric_difference_update(b)\n",
    "a ^= b\n",
    "#is\n",
    "a = {3,4,5}\n",
    "b = {3,4,5,6,7,8}\n",
    "a.issubset(b)\n",
    "b.issuperset(a)\n",
    "a.isdisjoint(b)"
   ],
   "metadata": {
    "collapsed": false,
    "pycharm": {
     "name": "#%%\n"
    }
   }
  },
  {
   "cell_type": "code",
   "execution_count": 63,
   "outputs": [
    {
     "data": {
      "text/plain": "False"
     },
     "execution_count": 63,
     "metadata": {},
     "output_type": "execute_result"
    }
   ],
   "source": [
    "a = {1,2,3,4,5}\n",
    "b = {3,4,5,6,7,8}\n",
    "#for very large sets, this may be more efficient\n",
    "#union update\n",
    "c  = a.copy()\n",
    "c |= b\n",
    "#intersection update\n",
    "d = a.copy()\n",
    "d &= b\n",
    "d\n",
    "#difference update\n",
    "e = a.copy()\n",
    "e -= b\n",
    "e\n",
    "#Symmetric difference update\n",
    "f = a.copy()\n",
    "f ^= b\n",
    "f\n",
    "#is\n",
    "g = a.copy()\n",
    "h = b.copy()\n",
    "g <= h\n",
    "g >= h\n",
    "g.isdisjoint(h)\n",
    "#Like dicts, set elements generally must be immutable. To have list-like elements, you must convert it to a tuple"
   ],
   "metadata": {
    "collapsed": false,
    "pycharm": {
     "name": "#%%\n"
    }
   }
  },
  {
   "cell_type": "code",
   "execution_count": 64,
   "outputs": [
    {
     "data": {
      "text/plain": "{(1, 2, 3, 4)}"
     },
     "execution_count": 64,
     "metadata": {},
     "output_type": "execute_result"
    }
   ],
   "source": [
    "my_data = [1,2,3,4]\n",
    "my_set = {tuple(my_data)}\n",
    "my_set"
   ],
   "metadata": {
    "collapsed": false,
    "pycharm": {
     "name": "#%%\n"
    }
   }
  },
  {
   "cell_type": "code",
   "execution_count": 72,
   "outputs": [
    {
     "data": {
      "text/plain": "True"
     },
     "execution_count": 72,
     "metadata": {},
     "output_type": "execute_result"
    }
   ],
   "source": [
    "a_set = {1,2,3,4,5}\n",
    "b_set = {1,2,3}\n",
    "b_set.issubset(a_set)"
   ],
   "metadata": {
    "collapsed": false,
    "pycharm": {
     "name": "#%%\n"
    }
   }
  },
  {
   "cell_type": "code",
   "execution_count": 201,
   "outputs": [
    {
     "name": "stdout",
     "output_type": "stream",
     "text": [
      "{1, 2, 3, 4, 6}\n"
     ]
    },
    {
     "data": {
      "text/plain": "{'a': 0, 'as': 1, 'bat': 2, 'car': 3, 'dove': 4, 'python': 5}"
     },
     "execution_count": 201,
     "metadata": {},
     "output_type": "execute_result"
    }
   ],
   "source": [
    "#list dict and set comprehension\n",
    "#list\n",
    "import itertools\n",
    "strings = ['a', 'as', 'bat', 'car', 'dove', 'python']\n",
    "[x.upper() for x in strings if len(x) > 2]\n",
    "#dict\n",
    "unique_lengths = {len(x) for x in strings}\n",
    "unique_lengths\n",
    "#more fucntionally\n",
    "print(set(map(len, strings)))\n",
    "\n",
    "#look up map\n",
    "loc_mapping = {val: index for index, val in enumerate(strings)}\n",
    "loc_mapping"
   ],
   "metadata": {
    "collapsed": false,
    "pycharm": {
     "name": "#%%\n"
    }
   }
  },
  {
   "cell_type": "code",
   "execution_count": 88,
   "outputs": [
    {
     "name": "stdout",
     "output_type": "stream",
     "text": [
      "['Steven'] ['Steven']\n"
     ]
    }
   ],
   "source": [
    "#Nested list comprehension\n",
    "all_data = [['John', 'Emily', 'Michael', 'Mary', 'Steven'],\n",
    "            ['Maria', 'Juan', 'Javier', 'Natalia', 'Pilar']]\n",
    "#genrally\n",
    "names_of_interest = []\n",
    "for names in all_data:\n",
    "    enough_es = [name for name in names if name.count('e') >= 2]\n",
    "    names_of_interest.extend(enough_es)\n",
    "#As same as this\n",
    "result = [name for names in all_data for name in names  if name.count('e') >= 2]\n",
    "print(names_of_interest, result)"
   ],
   "metadata": {
    "collapsed": false,
    "pycharm": {
     "name": "#%%\n"
    }
   }
  },
  {
   "cell_type": "code",
   "execution_count": 99,
   "outputs": [
    {
     "data": {
      "text/plain": "['Emily', 'Maria', 'Javier', 'Natalia']"
     },
     "execution_count": 99,
     "metadata": {},
     "output_type": "execute_result"
    }
   ],
   "source": [
    "#Practice list comprehension\n",
    "all_data = [['John', 'Emily', 'Michael', 'Mary', 'Steven'],\n",
    "            ['Maria', 'Juan', 'Javier', 'Natalia', 'Pilar']]\n",
    "result = [name for names in all_data for name in names if name.count('i') >= 1 and tuple(name)[1] != 'i']\n",
    "result"
   ],
   "metadata": {
    "collapsed": false,
    "pycharm": {
     "name": "#%%\n"
    }
   }
  },
  {
   "cell_type": "code",
   "execution_count": 4,
   "outputs": [
    {
     "data": {
      "text/plain": "[1, 2, 3, 4, 5, 6, 7, 8, 9]"
     },
     "execution_count": 4,
     "metadata": {},
     "output_type": "execute_result"
    }
   ],
   "source": [
    "some_tuples = [(1,2,3), (4,5,6), (7,8,9)]\n",
    "flattend = [x for tup in some_tuples for x in tup]\n",
    "flattend"
   ],
   "metadata": {
    "collapsed": false,
    "pycharm": {
     "name": "#%%\n"
    }
   }
  },
  {
   "cell_type": "code",
   "execution_count": 104,
   "outputs": [
    {
     "data": {
      "text/plain": "[[1, 2, 3], [4, 5, 6], [7, 8, 9]]"
     },
     "execution_count": 104,
     "metadata": {},
     "output_type": "execute_result"
    }
   ],
   "source": [
    "matrix = [[x for x in tup] for tup in some_tuples]\n",
    "matrix"
   ],
   "metadata": {
    "collapsed": false,
    "pycharm": {
     "name": "#%%\n"
    }
   }
  },
  {
   "cell_type": "code",
   "execution_count": 107,
   "outputs": [
    {
     "data": {
      "text/plain": "[[2, 4, 6, 8, 10, 12, 14, 16, 18],\n [3, 6, 9, 12, 15, 18, 21, 24, 27],\n [4, 8, 12, 16, 20, 24, 28, 32, 36],\n [5, 10, 15, 20, 25, 30, 35, 40, 45],\n [6, 12, 18, 24, 30, 36, 42, 48, 54],\n [7, 14, 21, 28, 35, 42, 49, 56, 63],\n [8, 16, 24, 32, 40, 48, 56, 64, 72],\n [9, 18, 27, 36, 45, 54, 63, 72, 81]]"
     },
     "execution_count": 107,
     "metadata": {},
     "output_type": "execute_result"
    }
   ],
   "source": [
    "multi = [[i*j for j in range(1,10)] for i in range(2,10)]\n",
    "multi"
   ],
   "metadata": {
    "collapsed": false,
    "pycharm": {
     "name": "#%%\n"
    }
   }
  },
  {
   "cell_type": "code",
   "execution_count": 119,
   "outputs": [
    {
     "data": {
      "text/plain": "[[2, 4, 6, 8, 10, 12, 14, 16, 18],\n [3, 6, 9, 12, 15, 18, 21, 24, 27],\n [4, 8, 12, 16, 20, 24, 28, 32, 36],\n [5, 10, 15, 20, 25, 30, 35, 40, 45],\n [6, 12, 18, 24, 30, 36, 42, 48, 54],\n [7, 14, 21, 28, 35, 42, 49, 56, 63],\n [8, 16, 24, 32, 40, 48, 56, 64, 72],\n [9, 18, 27, 36, 45, 54, 63, 72, 81]]"
     },
     "execution_count": 119,
     "metadata": {},
     "output_type": "execute_result"
    }
   ],
   "source": [
    "from collections import defaultdict\n",
    "mapping = defaultdict(list)\n",
    "mapping_2 = {}\n",
    "for i in range(2,10):\n",
    "    for j in range(1,10):\n",
    "        mapping[i].append(i*j)\n",
    "        mapping_2.setdefault(i, []).append(i*j)\n",
    "list(mapping.values())"
   ],
   "metadata": {
    "collapsed": false,
    "pycharm": {
     "name": "#%%\n"
    }
   }
  },
  {
   "cell_type": "code",
   "execution_count": 146,
   "outputs": [
    {
     "data": {
      "text/plain": "[0, 1, 2, 3, 4]"
     },
     "execution_count": 146,
     "metadata": {},
     "output_type": "execute_result"
    }
   ],
   "source": [
    "#Namespaces, Scope, and Local Functions\n",
    "#Any variables that are assined within a function by default are assigned to the local namespace\n",
    "#After the function is finished, the local namespace is destroyed\n",
    "def func():\n",
    "    a = [] # in local namespace\n",
    "    for i in range(5):\n",
    "        a.append(i)\n",
    "func()\n",
    "a"
   ],
   "metadata": {
    "collapsed": false,
    "pycharm": {
     "name": "#%%\n"
    }
   }
  },
  {
   "cell_type": "code",
   "execution_count": 150,
   "outputs": [
    {
     "data": {
      "text/plain": "[0, 1, 2, 3, 4, 0, 1, 2, 3, 4, 0, 1, 2, 3, 4]"
     },
     "execution_count": 150,
     "metadata": {},
     "output_type": "execute_result"
    }
   ],
   "source": [
    "a = []\n",
    "def func():\n",
    "    for i in range(5):\n",
    "        a.append(i)\n",
    "func()\n",
    "a\n",
    "func()\n",
    "a\n",
    "func()\n",
    "a"
   ],
   "metadata": {
    "collapsed": false,
    "pycharm": {
     "name": "#%%\n"
    }
   }
  },
  {
   "cell_type": "code",
   "execution_count": 158,
   "outputs": [
    {
     "name": "stdout",
     "output_type": "stream",
     "text": [
      "[]\n"
     ]
    }
   ],
   "source": [
    "a = None\n",
    "def bind_a_variable():\n",
    "    global a\n",
    "    a = []\n",
    "bind_a_variable()\n",
    "print(a)"
   ],
   "metadata": {
    "collapsed": false,
    "pycharm": {
     "name": "#%%\n"
    }
   }
  },
  {
   "cell_type": "code",
   "execution_count": 159,
   "outputs": [
    {
     "data": {
      "text/plain": "{'a': 5, 'b': 3, 'c': 7}"
     },
     "execution_count": 159,
     "metadata": {},
     "output_type": "execute_result"
    }
   ],
   "source": [
    "#returning multiple values\n",
    "def f():\n",
    "    a = 5 ; b = 3 ; c = 7\n",
    "    return {'a': a, 'b': b, 'c': c}\n",
    "f()"
   ],
   "metadata": {
    "collapsed": false,
    "pycharm": {
     "name": "#%%\n"
    }
   }
  },
  {
   "cell_type": "code",
   "execution_count": 7,
   "outputs": [
    {
     "data": {
      "text/plain": "['Alabama',\n 'Georgia',\n 'Georgia',\n 'Georgia',\n 'Florida',\n 'South   Carolina',\n 'West Virginia']"
     },
     "execution_count": 7,
     "metadata": {},
     "output_type": "execute_result"
    }
   ],
   "source": [
    "#Functions are objects\n",
    "states = ['   Alabama', 'Georgia!', 'Georg*ia', 'georgia', 'FlOrida', 'south   carolina##', 'West virginia?']\n",
    "import re\n",
    "def clean_strings(strings):\n",
    "    result = []\n",
    "    for value in strings:\n",
    "        value = value.strip() #remove space\n",
    "        value = re.sub('[!*#?]', '', value) #convert !#? into ''\n",
    "        value = value.title()\n",
    "        result.append(value)\n",
    "    return result\n",
    "cleaned = clean_strings(states)\n",
    "cleaned"
   ],
   "metadata": {
    "collapsed": false,
    "pycharm": {
     "name": "#%%\n"
    }
   }
  },
  {
   "cell_type": "code",
   "execution_count": 10,
   "outputs": [],
   "source": [
    "import re\n",
    "def remove_punctuation(value):\n",
    "    return re.sub('[!#*?]','', value)\n",
    "def remove_space(value):\n",
    "    result = []\n",
    "    value = value.strip()\n",
    "    value_list = list(value)\n",
    "    if value_list.count(' ') >= 2:\n",
    "        while value_list.count(' ') != 1:\n",
    "            value_list.remove(' ')\n",
    "        value_cleaned = ''\n",
    "        for j in value_list:\n",
    "            value_cleaned += j\n",
    "        return value_cleaned\n",
    "    else:\n",
    "        value_cleaned = ''\n",
    "        for j in value_list:\n",
    "            value_cleaned += j\n",
    "        return value_cleaned"
   ],
   "metadata": {
    "collapsed": false,
    "pycharm": {
     "name": "#%%\n"
    }
   }
  },
  {
   "cell_type": "code",
   "execution_count": 11,
   "outputs": [
    {
     "data": {
      "text/plain": "['Alabama',\n 'Georgia',\n 'GeorgIa',\n 'Georgia',\n 'Florida',\n 'South Carolina',\n 'West Virginia']"
     },
     "execution_count": 11,
     "metadata": {},
     "output_type": "execute_result"
    }
   ],
   "source": [
    "#fucntion object\n",
    "clean_ops  =[str.title, remove_punctuation, remove_space]\n",
    "def clean_strings(strings, ops):\n",
    "    result = []\n",
    "    for value in strings:\n",
    "        for function in ops:\n",
    "            value = function(value)\n",
    "        result.append(value)\n",
    "    return result\n",
    "clean_strings(states,clean_ops)"
   ],
   "metadata": {
    "collapsed": false,
    "pycharm": {
     "name": "#%%\n"
    }
   }
  },
  {
   "cell_type": "code",
   "execution_count": 214,
   "outputs": [
    {
     "name": "stdout",
     "output_type": "stream",
     "text": [
      "   Alabama\n",
      "Georgia\n",
      "Georgia\n",
      "georgia\n",
      "FlOrida\n",
      "south   carolina\n",
      "West virginia\n"
     ]
    }
   ],
   "source": [
    "# with map\n",
    "for x in map(remove_punctuation, states):\n",
    "    print(x)"
   ],
   "metadata": {
    "collapsed": false,
    "pycharm": {
     "name": "#%%\n"
    }
   }
  },
  {
   "cell_type": "code",
   "execution_count": 212,
   "outputs": [],
   "source": [
    "#Anonymous(Lambda) Functions\n"
   ],
   "metadata": {
    "collapsed": false,
    "pycharm": {
     "name": "#%%\n"
    }
   }
  },
  {
   "cell_type": "code",
   "execution_count": 17,
   "outputs": [
    {
     "ename": "ValueError",
     "evalue": "The truth value of an array with more than one element is ambiguous. Use a.any() or a.all()",
     "output_type": "error",
     "traceback": [
      "\u001B[0;31m---------------------------------------------------------------------------\u001B[0m",
      "\u001B[0;31mValueError\u001B[0m                                Traceback (most recent call last)",
      "Input \u001B[0;32mIn [17]\u001B[0m, in \u001B[0;36m<cell line: 2>\u001B[0;34m()\u001B[0m\n\u001B[1;32m      4\u001B[0m guess \u001B[38;5;241m=\u001B[39m np\u001B[38;5;241m.\u001B[39mrandom\u001B[38;5;241m.\u001B[39mrandint(\u001B[38;5;241m0\u001B[39m,\u001B[38;5;241m45\u001B[39m, size \u001B[38;5;241m=\u001B[39m \u001B[38;5;241m6\u001B[39m)\n\u001B[1;32m      5\u001B[0m a \u001B[38;5;241m=\u001B[39m (lottery \u001B[38;5;241m==\u001B[39m guess)\n\u001B[0;32m----> 6\u001B[0m \u001B[38;5;28;01mif\u001B[39;00m a \u001B[38;5;241m==\u001B[39m \u001B[38;5;28;01mTrue\u001B[39;00m:\n\u001B[1;32m      7\u001B[0m     \u001B[38;5;28mprint\u001B[39m(guess)\n",
      "\u001B[0;31mValueError\u001B[0m: The truth value of an array with more than one element is ambiguous. Use a.any() or a.all()"
     ]
    }
   ],
   "source": [],
   "metadata": {
    "collapsed": false,
    "pycharm": {
     "name": "#%%\n"
    }
   }
  },
  {
   "cell_type": "code",
   "execution_count": 19,
   "outputs": [
    {
     "data": {
      "text/plain": "array([37, 29, 30,  2, 26, 22])"
     },
     "execution_count": 19,
     "metadata": {},
     "output_type": "execute_result"
    }
   ],
   "source": [
    "import numpy as np\n",
    "np.random.randint(1,46, size = (6))\n"
   ],
   "metadata": {
    "collapsed": false,
    "pycharm": {
     "name": "#%%\n"
    }
   }
  },
  {
   "cell_type": "code",
   "execution_count": 6,
   "outputs": [],
   "source": [
    "np.multiply?"
   ],
   "metadata": {
    "collapsed": false,
    "pycharm": {
     "name": "#%%\n"
    }
   }
  },
  {
   "cell_type": "code",
   "execution_count": null,
   "outputs": [],
   "source": [],
   "metadata": {
    "collapsed": false,
    "pycharm": {
     "name": "#%%\n"
    }
   }
  }
 ],
 "metadata": {
  "kernelspec": {
   "display_name": "Python 3",
   "language": "python",
   "name": "python3"
  },
  "language_info": {
   "codemirror_mode": {
    "name": "ipython",
    "version": 2
   },
   "file_extension": ".py",
   "mimetype": "text/x-python",
   "name": "python",
   "nbconvert_exporter": "python",
   "pygments_lexer": "ipython2",
   "version": "2.7.6"
  }
 },
 "nbformat": 4,
 "nbformat_minor": 0
}
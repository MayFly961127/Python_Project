{
 "cells": [
  {
   "cell_type": "markdown",
   "source": [
    "행이름, null 값 여부 확인"
   ],
   "metadata": {
    "collapsed": false
   }
  },
  {
   "cell_type": "code",
   "execution_count": 2,
   "outputs": [
    {
     "name": "stdout",
     "output_type": "stream",
     "text": [
      "<class 'pandas.core.frame.DataFrame'>\n",
      "RangeIndex: 647511 entries, 0 to 647510\n",
      "Data columns (total 11 columns):\n",
      " #   Column            Non-Null Count   Dtype  \n",
      "---  ------            --------------   -----  \n",
      " 0   Measurement date  647511 non-null  object \n",
      " 1   Station code      647511 non-null  int64  \n",
      " 2   Address           647511 non-null  object \n",
      " 3   Latitude          647511 non-null  float64\n",
      " 4   Longitude         647511 non-null  float64\n",
      " 5   SO2               647511 non-null  float64\n",
      " 6   NO2               647511 non-null  float64\n",
      " 7   O3                647511 non-null  float64\n",
      " 8   CO                647511 non-null  float64\n",
      " 9   PM10              647511 non-null  float64\n",
      " 10  PM2.5             647511 non-null  float64\n",
      "dtypes: float64(8), int64(1), object(2)\n",
      "memory usage: 54.3+ MB\n"
     ]
    }
   ],
   "source": [
    "import pandas as pd\n",
    "df_air = pd.read_csv('Measurement_summary.csv')\n",
    "df_air.info()"
   ],
   "metadata": {
    "collapsed": false,
    "pycharm": {
     "name": "#%%\n"
    }
   }
  },
  {
   "cell_type": "markdown",
   "source": [
    "내가 원하는 이름으로 행 이름을 바꾸고, 기존 행 이름 삭제"
   ],
   "metadata": {
    "collapsed": false
   }
  },
  {
   "cell_type": "code",
   "execution_count": 3,
   "outputs": [
    {
     "name": "stdout",
     "output_type": "stream",
     "text": [
      "<class 'pandas.core.frame.DataFrame'>\n",
      "RangeIndex: 647511 entries, 0 to 647510\n",
      "Data columns (total 11 columns):\n",
      " #   Column        Non-Null Count   Dtype  \n",
      "---  ------        --------------   -----  \n",
      " 0   Date          647511 non-null  object \n",
      " 1   Station_Code  647511 non-null  int64  \n",
      " 2   Location      647511 non-null  object \n",
      " 3   Lat           647511 non-null  float64\n",
      " 4   Lon           647511 non-null  float64\n",
      " 5   SO2           647511 non-null  float64\n",
      " 6   NO2           647511 non-null  float64\n",
      " 7   O3            647511 non-null  float64\n",
      " 8   CO            647511 non-null  float64\n",
      " 9   PM10          647511 non-null  float64\n",
      " 10  PM2_5         647511 non-null  float64\n",
      "dtypes: float64(8), int64(1), object(2)\n",
      "memory usage: 54.3+ MB\n"
     ]
    }
   ],
   "source": [
    "import pandas as pd\n",
    "columns = ['Date', 'Station_Code', 'Location', 'Lat', 'Lon','SO2', 'NO2', 'O3', 'CO', 'PM10', 'PM2_5']\n",
    "df_air = pd.read_csv('Measurement_summary.csv',\n",
    "                     names = columns, skiprows = 1, header = None)\n",
    "df_air.info()"
   ],
   "metadata": {
    "collapsed": false,
    "pycharm": {
     "name": "#%%\n"
    }
   }
  },
  {
   "cell_type": "markdown",
   "source": [
    "Location 행에서 오직 지역구 이름만 추출\n",
    "큰 차이는 없지만 빠른 계산을 위해 collection.deque 사용"
   ],
   "metadata": {
    "collapsed": false
   }
  },
  {
   "cell_type": "code",
   "execution_count": 4,
   "outputs": [],
   "source": [
    "#df_air.Location\n",
    "from collections import deque\n",
    "Location_city = deque()\n",
    "for x in df_air.Location:\n",
    "    x = x.split(',')[2]\n",
    "    x = x.strip()\n",
    "    Location_city.append(x)\n",
    "df_air['Location_City'] = Location_city"
   ],
   "metadata": {
    "collapsed": false,
    "pycharm": {
     "name": "#%%\n"
    }
   }
  },
  {
   "cell_type": "markdown",
   "source": [],
   "metadata": {
    "collapsed": false
   }
  },
  {
   "cell_type": "markdown",
   "source": [],
   "metadata": {
    "collapsed": false
   }
  },
  {
   "cell_type": "code",
   "execution_count": 9,
   "outputs": [
    {
     "name": "stderr",
     "output_type": "stream",
     "text": [
      "/var/folders/l9/glqlxsms6kg26pc8n2s189hw0000gn/T/ipykernel_7786/2595903031.py:1: FutureWarning: Indexing with multiple keys (implicitly converted to a tuple of keys) will be deprecated, use a list instead.\n",
      "  df_air.groupby(['Location_City', 'Date'])['Location_City', 'Date','SO2','NO2', 'O3', 'CO'].filter(lambda x: True)\n"
     ]
    },
    {
     "data": {
      "text/plain": "       Location_City              Date    SO2    NO2     O3   CO\n0          Jongno-gu  2017-01-01 00:00  0.004  0.059  0.002  1.2\n1          Jongno-gu  2017-01-01 01:00  0.004  0.058  0.002  1.2\n2          Jongno-gu  2017-01-01 02:00  0.004  0.056  0.002  1.2\n3          Jongno-gu  2017-01-01 03:00  0.004  0.056  0.002  1.2\n4          Jongno-gu  2017-01-01 04:00  0.003  0.051  0.002  1.2\n...              ...               ...    ...    ...    ...  ...\n647506   Gangdong-gu  2019-12-31 19:00  0.003  0.028  0.013  0.5\n647507   Gangdong-gu  2019-12-31 20:00  0.003  0.025  0.015  0.4\n647508   Gangdong-gu  2019-12-31 21:00  0.003  0.023  0.015  0.4\n647509   Gangdong-gu  2019-12-31 22:00  0.003  0.040  0.004  0.5\n647510   Gangdong-gu  2019-12-31 23:00  0.003  0.037  0.005  0.5\n\n[647511 rows x 6 columns]",
      "text/html": "<div>\n<style scoped>\n    .dataframe tbody tr th:only-of-type {\n        vertical-align: middle;\n    }\n\n    .dataframe tbody tr th {\n        vertical-align: top;\n    }\n\n    .dataframe thead th {\n        text-align: right;\n    }\n</style>\n<table border=\"1\" class=\"dataframe\">\n  <thead>\n    <tr style=\"text-align: right;\">\n      <th></th>\n      <th>Location_City</th>\n      <th>Date</th>\n      <th>SO2</th>\n      <th>NO2</th>\n      <th>O3</th>\n      <th>CO</th>\n    </tr>\n  </thead>\n  <tbody>\n    <tr>\n      <th>0</th>\n      <td>Jongno-gu</td>\n      <td>2017-01-01 00:00</td>\n      <td>0.004</td>\n      <td>0.059</td>\n      <td>0.002</td>\n      <td>1.2</td>\n    </tr>\n    <tr>\n      <th>1</th>\n      <td>Jongno-gu</td>\n      <td>2017-01-01 01:00</td>\n      <td>0.004</td>\n      <td>0.058</td>\n      <td>0.002</td>\n      <td>1.2</td>\n    </tr>\n    <tr>\n      <th>2</th>\n      <td>Jongno-gu</td>\n      <td>2017-01-01 02:00</td>\n      <td>0.004</td>\n      <td>0.056</td>\n      <td>0.002</td>\n      <td>1.2</td>\n    </tr>\n    <tr>\n      <th>3</th>\n      <td>Jongno-gu</td>\n      <td>2017-01-01 03:00</td>\n      <td>0.004</td>\n      <td>0.056</td>\n      <td>0.002</td>\n      <td>1.2</td>\n    </tr>\n    <tr>\n      <th>4</th>\n      <td>Jongno-gu</td>\n      <td>2017-01-01 04:00</td>\n      <td>0.003</td>\n      <td>0.051</td>\n      <td>0.002</td>\n      <td>1.2</td>\n    </tr>\n    <tr>\n      <th>...</th>\n      <td>...</td>\n      <td>...</td>\n      <td>...</td>\n      <td>...</td>\n      <td>...</td>\n      <td>...</td>\n    </tr>\n    <tr>\n      <th>647506</th>\n      <td>Gangdong-gu</td>\n      <td>2019-12-31 19:00</td>\n      <td>0.003</td>\n      <td>0.028</td>\n      <td>0.013</td>\n      <td>0.5</td>\n    </tr>\n    <tr>\n      <th>647507</th>\n      <td>Gangdong-gu</td>\n      <td>2019-12-31 20:00</td>\n      <td>0.003</td>\n      <td>0.025</td>\n      <td>0.015</td>\n      <td>0.4</td>\n    </tr>\n    <tr>\n      <th>647508</th>\n      <td>Gangdong-gu</td>\n      <td>2019-12-31 21:00</td>\n      <td>0.003</td>\n      <td>0.023</td>\n      <td>0.015</td>\n      <td>0.4</td>\n    </tr>\n    <tr>\n      <th>647509</th>\n      <td>Gangdong-gu</td>\n      <td>2019-12-31 22:00</td>\n      <td>0.003</td>\n      <td>0.040</td>\n      <td>0.004</td>\n      <td>0.5</td>\n    </tr>\n    <tr>\n      <th>647510</th>\n      <td>Gangdong-gu</td>\n      <td>2019-12-31 23:00</td>\n      <td>0.003</td>\n      <td>0.037</td>\n      <td>0.005</td>\n      <td>0.5</td>\n    </tr>\n  </tbody>\n</table>\n<p>647511 rows × 6 columns</p>\n</div>"
     },
     "execution_count": 9,
     "metadata": {},
     "output_type": "execute_result"
    }
   ],
   "source": [
    "df_air = df_air.groupby(['Location_City', 'Date'])['Location_City', 'Date','SO2','NO2', 'O3', 'CO'].filter(lambda x: True)"
   ],
   "metadata": {
    "collapsed": false,
    "pycharm": {
     "name": "#%%\n"
    }
   }
  },
  {
   "cell_type": "code",
   "execution_count": null,
   "outputs": [],
   "source": [],
   "metadata": {
    "collapsed": false,
    "pycharm": {
     "name": "#%%\n"
    }
   }
  }
 ],
 "metadata": {
  "kernelspec": {
   "name": "python3",
   "language": "python",
   "display_name": "Python 3 (ipykernel)"
  },
  "language_info": {
   "codemirror_mode": {
    "name": "ipython",
    "version": 2
   },
   "file_extension": ".py",
   "mimetype": "text/x-python",
   "name": "python",
   "nbconvert_exporter": "python",
   "pygments_lexer": "ipython2",
   "version": "2.7.6"
  }
 },
 "nbformat": 4,
 "nbformat_minor": 0
}
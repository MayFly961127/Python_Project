{
 "cells": [
  {
   "cell_type": "code",
   "execution_count": 1,
   "outputs": [
    {
     "name": "stdout",
     "output_type": "stream",
     "text": [
      "h\n"
     ]
    }
   ],
   "source": [
    "print('h')"
   ],
   "metadata": {
    "collapsed": false,
    "pycharm": {
     "name": "#%%\n"
    }
   }
  },
  {
   "cell_type": "code",
   "execution_count": 2,
   "metadata": {
    "collapsed": true
   },
   "outputs": [
    {
     "data": {
      "text/plain": "'{ \"a\": \"Mozilla\\\\/5.0 (Windows NT 6.1; WOW64) AppleWebKit\\\\/535.11 (KHTML, like Gecko) Chrome\\\\/17.0.963.78 Safari\\\\/535.11\", \"c\": \"US\", \"nk\": 1, \"tz\": \"America\\\\/New_York\", \"gr\": \"MA\", \"g\": \"A6qOVH\", \"h\": \"wfLQtf\", \"l\": \"orofrog\", \"al\": \"en-US,en;q=0.8\", \"hh\": \"1.usa.gov\", \"r\": \"http:\\\\/\\\\/www.facebook.com\\\\/l\\\\/7AQEFzjSi\\\\/1.usa.gov\\\\/wfLQtf\", \"u\": \"http:\\\\/\\\\/www.ncbi.nlm.nih.gov\\\\/pubmed\\\\/22415991\", \"t\": 1331923247, \"hc\": 1331822918, \"cy\": \"Danvers\", \"ll\": [ 42.576698, -70.954903 ] }\\n'"
     },
     "execution_count": 2,
     "metadata": {},
     "output_type": "execute_result"
    }
   ],
   "source": [
    "# path = 'example.txt'\n",
    "# open(path).readline()\n",
    "path = 'example.txt'\n",
    "open(path).readline()"
   ]
  },
  {
   "cell_type": "markdown",
   "source": [
    "each line in each file contains a common form of web data known as JSON(JavaScript Object Notation)"
   ],
   "metadata": {
    "collapsed": false
   }
  },
  {
   "cell_type": "code",
   "execution_count": 7,
   "outputs": [
    {
     "data": {
      "text/plain": "{'a': 'Mozilla/5.0 (Windows NT 6.1; WOW64) AppleWebKit/535.11 (KHTML, like Gecko) Chrome/17.0.963.78 Safari/535.11',\n 'c': 'US',\n 'nk': 1,\n 'tz': 'America/New_York',\n 'gr': 'MA',\n 'g': 'A6qOVH',\n 'h': 'wfLQtf',\n 'l': 'orofrog',\n 'al': 'en-US,en;q=0.8',\n 'hh': '1.usa.gov',\n 'r': 'http://www.facebook.com/l/7AQEFzjSi/1.usa.gov/wfLQtf',\n 'u': 'http://www.ncbi.nlm.nih.gov/pubmed/22415991',\n 't': 1331923247,\n 'hc': 1331822918,\n 'cy': 'Danvers',\n 'll': [42.576698, -70.954903]}"
     },
     "execution_count": 7,
     "metadata": {},
     "output_type": "execute_result"
    }
   ],
   "source": [
    "# import json\n",
    "# path = 'example.txt'\n",
    "# records = [json.loads(line) for line in open(path)]\n",
    "# records[0]\n",
    "\n",
    "import json\n",
    "path = 'example.txt'\n",
    "records = [json.loads(line) for line in open(path)]\n",
    "records[0]"
   ],
   "metadata": {
    "collapsed": false,
    "pycharm": {
     "name": "#%%\n"
    }
   }
  },
  {
   "cell_type": "markdown",
   "source": [
    "Counting Time Zones in Pure Python"
   ],
   "metadata": {
    "collapsed": false
   }
  },
  {
   "cell_type": "code",
   "execution_count": 5,
   "outputs": [
    {
     "ename": "KeyError",
     "evalue": "'tx'",
     "output_type": "error",
     "traceback": [
      "\u001B[0;31m---------------------------------------------------------------------------\u001B[0m",
      "\u001B[0;31mKeyError\u001B[0m                                  Traceback (most recent call last)",
      "Input \u001B[0;32mIn [5]\u001B[0m, in \u001B[0;36m<cell line: 1>\u001B[0;34m()\u001B[0m\n\u001B[0;32m----> 1\u001B[0m time_zones \u001B[38;5;241m=\u001B[39m [rec[\u001B[38;5;124m'\u001B[39m\u001B[38;5;124mtx\u001B[39m\u001B[38;5;124m'\u001B[39m] \u001B[38;5;28;01mfor\u001B[39;00m rec \u001B[38;5;129;01min\u001B[39;00m records]\n",
      "Input \u001B[0;32mIn [5]\u001B[0m, in \u001B[0;36m<listcomp>\u001B[0;34m(.0)\u001B[0m\n\u001B[0;32m----> 1\u001B[0m time_zones \u001B[38;5;241m=\u001B[39m [\u001B[43mrec\u001B[49m\u001B[43m[\u001B[49m\u001B[38;5;124;43m'\u001B[39;49m\u001B[38;5;124;43mtx\u001B[39;49m\u001B[38;5;124;43m'\u001B[39;49m\u001B[43m]\u001B[49m \u001B[38;5;28;01mfor\u001B[39;00m rec \u001B[38;5;129;01min\u001B[39;00m records]\n",
      "\u001B[0;31mKeyError\u001B[0m: 'tx'"
     ]
    }
   ],
   "source": [
    "time_zones = [rec['tx'] for rec in records]\n",
    "#um...it turns out that not all of the records have a time zone field."
   ],
   "metadata": {
    "collapsed": false,
    "pycharm": {
     "name": "#%%\n"
    }
   }
  },
  {
   "cell_type": "code",
   "execution_count": 8,
   "outputs": [
    {
     "data": {
      "text/plain": "['America/New_York',\n 'America/Denver',\n 'America/New_York',\n 'America/Sao_Paulo',\n 'America/New_York',\n 'America/New_York',\n 'Europe/Warsaw',\n '',\n '',\n '']"
     },
     "execution_count": 8,
     "metadata": {},
     "output_type": "execute_result"
    }
   ],
   "source": [
    "#then\n",
    "time_zones = [rec['tz'] for rec in records if 'tz' in rec]\n",
    "time_zones[:10]\n",
    "#There are some NA values but for now leave them"
   ],
   "metadata": {
    "collapsed": false,
    "pycharm": {
     "name": "#%%\n"
    }
   }
  },
  {
   "cell_type": "code",
   "execution_count": 9,
   "outputs": [],
   "source": [
    "#produce counts by time zone\n",
    "#Harder way\n",
    "\n",
    "def get_counts(sequence):\n",
    "    counts = {}\n",
    "    for x in sequence:\n",
    "        if x in counts:\n",
    "          counts[x] += 1\n",
    "        else:\n",
    "            counts[x] = 1\n",
    "    return counts"
   ],
   "metadata": {
    "collapsed": false,
    "pycharm": {
     "name": "#%%\n"
    }
   }
  },
  {
   "cell_type": "code",
   "execution_count": 10,
   "outputs": [],
   "source": [
    "#Easier way\n",
    "from collections import defaultdict\n",
    "def get_counts2(sequnece):\n",
    "    counts_2 = defaultdict(int)\n",
    "    for x in sequnece:\n",
    "        counts[x] += 1\n",
    "    return counts"
   ],
   "metadata": {
    "collapsed": false,
    "pycharm": {
     "name": "#%%\n"
    }
   }
  },
  {
   "cell_type": "code",
   "execution_count": 25,
   "outputs": [],
   "source": [
    "counts.clear()\n",
    "counts_2.clear()"
   ],
   "metadata": {
    "collapsed": false,
    "pycharm": {
     "name": "#%%\n"
    }
   }
  },
  {
   "cell_type": "code",
   "execution_count": 12,
   "outputs": [
    {
     "name": "stdout",
     "output_type": "stream",
     "text": [
      "2502 2502\n"
     ]
    }
   ],
   "source": [
    "counts = get_counts(time_zones)\n",
    "counts_2 = get_counts2(time_zones)\n",
    "\n",
    "print(counts['America/New_York'],\n",
    "      counts_2['America/New_York'])"
   ],
   "metadata": {
    "collapsed": false,
    "pycharm": {
     "name": "#%%\n"
    }
   }
  },
  {
   "cell_type": "code",
   "execution_count": 13,
   "outputs": [],
   "source": [
    "#Top 10 time zones\n",
    "def top_counts(count_dict, n = 10):\n",
    "    value_key_paris = [(count, tz) for tz, count in count_dict.items()]\n",
    "    value_key_paris.sort()\n",
    "    return value_key_paris[-n:]"
   ],
   "metadata": {
    "collapsed": false,
    "pycharm": {
     "name": "#%%\n"
    }
   }
  },
  {
   "cell_type": "code",
   "execution_count": 14,
   "outputs": [
    {
     "data": {
      "text/plain": "[(66, 'America/Sao_Paulo'),\n (70, 'Europe/Madrid'),\n (72, 'Pacific/Honolulu'),\n (74, 'Asia/Tokyo'),\n (148, 'Europe/London'),\n (382, 'America/Denver'),\n (764, 'America/Los_Angeles'),\n (800, 'America/Chicago'),\n (1042, ''),\n (2502, 'America/New_York')]"
     },
     "execution_count": 14,
     "metadata": {},
     "output_type": "execute_result"
    }
   ],
   "source": [
    "top_counts(counts)"
   ],
   "metadata": {
    "collapsed": false,
    "pycharm": {
     "name": "#%%\n"
    }
   }
  },
  {
   "cell_type": "code",
   "execution_count": 15,
   "outputs": [
    {
     "data": {
      "text/plain": "[('America/New_York', 1251),\n ('', 521),\n ('America/Chicago', 400),\n ('America/Los_Angeles', 382),\n ('America/Denver', 191),\n ('Europe/London', 74),\n ('Asia/Tokyo', 37),\n ('Pacific/Honolulu', 36),\n ('Europe/Madrid', 35),\n ('America/Sao_Paulo', 33)]"
     },
     "execution_count": 15,
     "metadata": {},
     "output_type": "execute_result"
    }
   ],
   "source": [
    "#Essier top 10\n",
    "from collections import Counter\n",
    "counts = Counter(time_zones)\n",
    "counts.most_common(10)"
   ],
   "metadata": {
    "collapsed": false,
    "pycharm": {
     "name": "#%%\n"
    }
   }
  },
  {
   "cell_type": "code",
   "execution_count": 16,
   "outputs": [
    {
     "name": "stdout",
     "output_type": "stream",
     "text": [
      "<class 'pandas.core.frame.DataFrame'>\n",
      "RangeIndex: 3560 entries, 0 to 3559\n",
      "Data columns (total 18 columns):\n",
      " #   Column       Non-Null Count  Dtype  \n",
      "---  ------       --------------  -----  \n",
      " 0   a            3440 non-null   object \n",
      " 1   c            2919 non-null   object \n",
      " 2   nk           3440 non-null   float64\n",
      " 3   tz           3440 non-null   object \n",
      " 4   gr           2919 non-null   object \n",
      " 5   g            3440 non-null   object \n",
      " 6   h            3440 non-null   object \n",
      " 7   l            3440 non-null   object \n",
      " 8   al           3094 non-null   object \n",
      " 9   hh           3440 non-null   object \n",
      " 10  r            3440 non-null   object \n",
      " 11  u            3440 non-null   object \n",
      " 12  t            3440 non-null   float64\n",
      " 13  hc           3440 non-null   float64\n",
      " 14  cy           2919 non-null   object \n",
      " 15  ll           2919 non-null   object \n",
      " 16  _heartbeat_  120 non-null    float64\n",
      " 17  kw           93 non-null     object \n",
      "dtypes: float64(4), object(14)\n",
      "memory usage: 500.8+ KB\n"
     ]
    }
   ],
   "source": [
    "#Counting Time Zones with pandas\n",
    "import pandas as pd\n",
    "frame = pd.DataFrame(records)\n",
    "frame.info()"
   ],
   "metadata": {
    "collapsed": false,
    "pycharm": {
     "name": "#%%\n"
    }
   }
  },
  {
   "cell_type": "code",
   "execution_count": 18,
   "outputs": [
    {
     "data": {
      "text/plain": "0     America/New_York\n1       America/Denver\n2     America/New_York\n3    America/Sao_Paulo\n4     America/New_York\n5     America/New_York\n6        Europe/Warsaw\n7                     \n8                     \n9                     \nName: tz, dtype: object"
     },
     "execution_count": 18,
     "metadata": {},
     "output_type": "execute_result"
    }
   ],
   "source": [
    "frame['tz'][:10]"
   ],
   "metadata": {
    "collapsed": false,
    "pycharm": {
     "name": "#%%\n"
    }
   }
  },
  {
   "cell_type": "code",
   "execution_count": 19,
   "outputs": [
    {
     "data": {
      "text/plain": "America/New_York       1251\n                        521\nAmerica/Chicago         400\nAmerica/Los_Angeles     382\nAmerica/Denver          191\nEurope/London            74\nAsia/Tokyo               37\nPacific/Honolulu         36\nEurope/Madrid            35\nAmerica/Sao_Paulo        33\nName: tz, dtype: int64"
     },
     "execution_count": 19,
     "metadata": {},
     "output_type": "execute_result"
    }
   ],
   "source": [
    "#Value ccounts()\n",
    "tz_counts = frame['tz'].value_counts()\n",
    "tz_counts[:10]"
   ],
   "metadata": {
    "collapsed": false,
    "pycharm": {
     "name": "#%%\n"
    }
   }
  },
  {
   "cell_type": "code",
   "execution_count": 25,
   "outputs": [
    {
     "data": {
      "text/plain": "America/New_York       1251\nUnknown                 521\nAmerica/Chicago         400\nAmerica/Los_Angeles     382\nAmerica/Denver          191\nMissing                 120\nEurope/London            74\nAsia/Tokyo               37\nPacific/Honolulu         36\nEurope/Madrid            35\nName: tz, dtype: int64"
     },
     "execution_count": 25,
     "metadata": {},
     "output_type": "execute_result"
    }
   ],
   "source": [
    "#Before visualizing it, we should fill null values\n",
    "clean_tz = frame['tz'].fillna('Missing')\n",
    "clean_tz[clean_tz == ''] = 'Unknown'\n",
    "tz_counts = clean_tz.value_counts()\n",
    "tz_counts[:10]"
   ],
   "metadata": {
    "collapsed": false,
    "pycharm": {
     "name": "#%%\n"
    }
   }
  },
  {
   "cell_type": "code",
   "execution_count": 29,
   "outputs": [
    {
     "data": {
      "text/plain": "<AxesSubplot:>"
     },
     "execution_count": 29,
     "metadata": {},
     "output_type": "execute_result"
    },
    {
     "data": {
      "text/plain": "<Figure size 432x288 with 1 Axes>",
      "image/png": "[encoded data removed]"
     },
     "metadata": {
      "needs_background": "light"
     },
     "output_type": "display_data"
    }
   ],
   "source": [
    "import seaborn as sns\n",
    "subset = tz_counts[:10]\n",
    "sns.barplot(x = subset.values, y = subset.index)"
   ],
   "metadata": {
    "collapsed": false,
    "pycharm": {
     "name": "#%%\n"
    }
   }
  },
  {
   "cell_type": "code",
   "execution_count": 2,
   "outputs": [
    {
     "ename": "NameError",
     "evalue": "name 'frame' is not defined",
     "output_type": "error",
     "traceback": [
      "\u001B[0;31m---------------------------------------------------------------------------\u001B[0m",
      "\u001B[0;31mNameError\u001B[0m                                 Traceback (most recent call last)",
      "Input \u001B[0;32mIn [2]\u001B[0m, in \u001B[0;36m<cell line: 2>\u001B[0;34m()\u001B[0m\n\u001B[1;32m      1\u001B[0m \u001B[38;5;66;03m#The a field contains information about the browser, device, or application used to perform the URL shortening\u001B[39;00m\n\u001B[0;32m----> 2\u001B[0m \u001B[43mframe\u001B[49m[\u001B[38;5;124m'\u001B[39m\u001B[38;5;124ma\u001B[39m\u001B[38;5;124m'\u001B[39m][\u001B[38;5;241m0\u001B[39m]\n",
      "\u001B[0;31mNameError\u001B[0m: name 'frame' is not defined"
     ]
    }
   ],
   "source": [
    "#The a field contains information about the browser, device, or application used to perform the URL shortening\n",
    "frame['a'][0]\n",
    "frame['a'][50]"
   ],
   "metadata": {
    "collapsed": false,
    "pycharm": {
     "name": "#%%\n"
    }
   }
  },
  {
   "cell_type": "code",
   "execution_count": 40,
   "outputs": [
    {
     "data": {
      "text/plain": "['Mozilla/5.0', '(Windows', 'NT', '6.1;', 'rv:9.0.1)', 'Gecko/20100']"
     },
     "execution_count": 40,
     "metadata": {},
     "output_type": "execute_result"
    }
   ],
   "source": [
    "import numpy as np\n",
    "frame['a'][np.random.choice(np.arange(50))][:50].split()"
   ],
   "metadata": {
    "collapsed": false,
    "pycharm": {
     "name": "#%%\n"
    }
   }
  },
  {
   "cell_type": "code",
   "execution_count": 41,
   "outputs": [
    {
     "data": {
      "text/plain": "0               Mozilla/5.0\n1    GoogleMaps/RochesterNY\n2               Mozilla/4.0\n3               Mozilla/5.0\n4               Mozilla/5.0\ndtype: object"
     },
     "execution_count": 41,
     "metadata": {},
     "output_type": "execute_result"
    }
   ],
   "source": [
    "results = pd.Series([x.split()[0] for x in frame.a.dropna()])\n",
    "results[:5]"
   ],
   "metadata": {
    "collapsed": false,
    "pycharm": {
     "name": "#%%\n"
    }
   }
  },
  {
   "cell_type": "code",
   "execution_count": 42,
   "outputs": [
    {
     "data": {
      "text/plain": "Mozilla/5.0                 2594\nMozilla/4.0                  601\nGoogleMaps/RochesterNY       121\nOpera/9.80                    34\nTEST_INTERNET_AGENT           24\nGoogleProducer                21\nMozilla/6.0                    5\nBlackBerry8520/5.0.0.681       4\ndtype: int64"
     },
     "execution_count": 42,
     "metadata": {},
     "output_type": "execute_result"
    }
   ],
   "source": [
    "results.value_counts()[:8]"
   ],
   "metadata": {
    "collapsed": false,
    "pycharm": {
     "name": "#%%\n"
    }
   }
  },
  {
   "cell_type": "code",
   "execution_count": 53,
   "outputs": [
    {
     "name": "stderr",
     "output_type": "stream",
     "text": [
      "/var/folders/l9/glqlxsms6kg26pc8n2s189hw0000gn/T/ipykernel_1259/699143635.py:4: SettingWithCopyWarning: \n",
      "A value is trying to be set on a copy of a slice from a DataFrame.\n",
      "Try using .loc[row_indexer,col_indexer] = value instead\n",
      "\n",
      "See the caveats in the documentation: https://pandas.pydata.org/pandas-docs/stable/user_guide/indexing.html#returning-a-view-versus-a-copy\n",
      "  cframe['os'] = np.where(cframe['a'].str.contains('Windows'), 'Windows', 'Not Windows')\n",
      "/var/folders/l9/glqlxsms6kg26pc8n2s189hw0000gn/T/ipykernel_1259/699143635.py:9: SettingWithCopyWarning: \n",
      "A value is trying to be set on a copy of a slice from a DataFrame.\n",
      "Try using .loc[row_indexer,col_indexer] = value instead\n",
      "\n",
      "See the caveats in the documentation: https://pandas.pydata.org/pandas-docs/stable/user_guide/indexing.html#returning-a-view-versus-a-copy\n",
      "  cframe['os'] = np.where(cframe['a'].str.contains('Windows'), 'Windows', 'Not Windows')\n"
     ]
    }
   ],
   "source": [
    "#Decompose the top time zones in to Windows and non-Windows users.\n",
    "import numpy as np\n",
    "cframe = frame[frame.a.notnull()]\n",
    "cframe['os'] = np.where(cframe['a'].str.contains('Windows'), 'Windows', 'Not Windows')\n",
    "cframe['os'][:5]\n",
    "\n",
    "import numpy as np\n",
    "cframe = frame[frame.a.notnull()]\n",
    "cframe['os'] = np.where(cframe['a'].str.contains('Windows'), 'Windows', 'Not Windows')"
   ],
   "metadata": {
    "collapsed": false,
    "pycharm": {
     "name": "#%%\n"
    }
   }
  },
  {
   "cell_type": "code",
   "execution_count": 55,
   "outputs": [],
   "source": [
    "by_tz_os = cframe.groupby(['tz', 'os'])\n",
    "#I want to reshape it into a tablt with unstack"
   ],
   "metadata": {
    "collapsed": false,
    "pycharm": {
     "name": "#%%\n"
    }
   }
  },
  {
   "cell_type": "code",
   "execution_count": 56,
   "outputs": [
    {
     "data": {
      "text/plain": "os                   Not Windows  Windows\ntz                                       \n                           245.0    276.0\nAfrica/Cairo                 0.0      3.0\nAfrica/Casablanca            0.0      1.0\nAfrica/Ceuta                 0.0      2.0\nAfrica/Johannesburg          0.0      1.0\n...                          ...      ...\nEurope/Volgograd             0.0      1.0\nEurope/Warsaw                1.0     15.0\nEurope/Zurich                4.0      0.0\nPacific/Auckland             3.0      8.0\nPacific/Honolulu             0.0     36.0\n\n[97 rows x 2 columns]",
      "text/html": "<div>\n<style scoped>\n    .dataframe tbody tr th:only-of-type {\n        vertical-align: middle;\n    }\n\n    .dataframe tbody tr th {\n        vertical-align: top;\n    }\n\n    .dataframe thead th {\n        text-align: right;\n    }\n</style>\n<table border=\"1\" class=\"dataframe\">\n  <thead>\n    <tr style=\"text-align: right;\">\n      <th>os</th>\n      <th>Not Windows</th>\n      <th>Windows</th>\n    </tr>\n    <tr>\n      <th>tz</th>\n      <th></th>\n      <th></th>\n    </tr>\n  </thead>\n  <tbody>\n    <tr>\n      <th></th>\n      <td>245.0</td>\n      <td>276.0</td>\n    </tr>\n    <tr>\n      <th>Africa/Cairo</th>\n      <td>0.0</td>\n      <td>3.0</td>\n    </tr>\n    <tr>\n      <th>Africa/Casablanca</th>\n      <td>0.0</td>\n      <td>1.0</td>\n    </tr>\n    <tr>\n      <th>Africa/Ceuta</th>\n      <td>0.0</td>\n      <td>2.0</td>\n    </tr>\n    <tr>\n      <th>Africa/Johannesburg</th>\n      <td>0.0</td>\n      <td>1.0</td>\n    </tr>\n    <tr>\n      <th>...</th>\n      <td>...</td>\n      <td>...</td>\n    </tr>\n    <tr>\n      <th>Europe/Volgograd</th>\n      <td>0.0</td>\n      <td>1.0</td>\n    </tr>\n    <tr>\n      <th>Europe/Warsaw</th>\n      <td>1.0</td>\n      <td>15.0</td>\n    </tr>\n    <tr>\n      <th>Europe/Zurich</th>\n      <td>4.0</td>\n      <td>0.0</td>\n    </tr>\n    <tr>\n      <th>Pacific/Auckland</th>\n      <td>3.0</td>\n      <td>8.0</td>\n    </tr>\n    <tr>\n      <th>Pacific/Honolulu</th>\n      <td>0.0</td>\n      <td>36.0</td>\n    </tr>\n  </tbody>\n</table>\n<p>97 rows × 2 columns</p>\n</div>"
     },
     "execution_count": 56,
     "metadata": {},
     "output_type": "execute_result"
    }
   ],
   "source": [
    "agg_counts = by_tz_os.size().unstack().fillna(0)\n",
    "agg_counts"
   ],
   "metadata": {
    "collapsed": false,
    "pycharm": {
     "name": "#%%\n"
    }
   }
  },
  {
   "cell_type": "code",
   "execution_count": 81,
   "outputs": [
    {
     "data": {
      "text/plain": "tz\n                       24\nAfrica/Cairo           20\nAfrica/Casablanca      21\nAfrica/Ceuta           92\nAfrica/Johannesburg    87\n                       ..\nEurope/Volgograd       15\nEurope/Warsaw          22\nEurope/Zurich          12\nPacific/Auckland        0\nPacific/Honolulu       29\nLength: 97, dtype: int64"
     },
     "execution_count": 81,
     "metadata": {},
     "output_type": "execute_result"
    }
   ],
   "source": [
    "#Finally select the top overall time zones\n",
    "indexer = agg_counts.sum(1).argsort()\n",
    "indexer"
   ],
   "metadata": {
    "collapsed": false,
    "pycharm": {
     "name": "#%%\n"
    }
   }
  },
  {
   "cell_type": "code",
   "execution_count": 88,
   "outputs": [
    {
     "data": {
      "text/plain": "os                   Not Windows  Windows\ntz                                       \nAmerica/Sao_Paulo           13.0     20.0\nEurope/Madrid               16.0     19.0\nPacific/Honolulu             0.0     36.0\nAsia/Tokyo                   2.0     35.0\nEurope/London               43.0     31.0\nAmerica/Denver             132.0     59.0\nAmerica/Los_Angeles        130.0    252.0\nAmerica/Chicago            115.0    285.0\n                           245.0    276.0\nAmerica/New_York           339.0    912.0",
      "text/html": "<div>\n<style scoped>\n    .dataframe tbody tr th:only-of-type {\n        vertical-align: middle;\n    }\n\n    .dataframe tbody tr th {\n        vertical-align: top;\n    }\n\n    .dataframe thead th {\n        text-align: right;\n    }\n</style>\n<table border=\"1\" class=\"dataframe\">\n  <thead>\n    <tr style=\"text-align: right;\">\n      <th>os</th>\n      <th>Not Windows</th>\n      <th>Windows</th>\n    </tr>\n    <tr>\n      <th>tz</th>\n      <th></th>\n      <th></th>\n    </tr>\n  </thead>\n  <tbody>\n    <tr>\n      <th>America/Sao_Paulo</th>\n      <td>13.0</td>\n      <td>20.0</td>\n    </tr>\n    <tr>\n      <th>Europe/Madrid</th>\n      <td>16.0</td>\n      <td>19.0</td>\n    </tr>\n    <tr>\n      <th>Pacific/Honolulu</th>\n      <td>0.0</td>\n      <td>36.0</td>\n    </tr>\n    <tr>\n      <th>Asia/Tokyo</th>\n      <td>2.0</td>\n      <td>35.0</td>\n    </tr>\n    <tr>\n      <th>Europe/London</th>\n      <td>43.0</td>\n      <td>31.0</td>\n    </tr>\n    <tr>\n      <th>America/Denver</th>\n      <td>132.0</td>\n      <td>59.0</td>\n    </tr>\n    <tr>\n      <th>America/Los_Angeles</th>\n      <td>130.0</td>\n      <td>252.0</td>\n    </tr>\n    <tr>\n      <th>America/Chicago</th>\n      <td>115.0</td>\n      <td>285.0</td>\n    </tr>\n    <tr>\n      <th></th>\n      <td>245.0</td>\n      <td>276.0</td>\n    </tr>\n    <tr>\n      <th>America/New_York</th>\n      <td>339.0</td>\n      <td>912.0</td>\n    </tr>\n  </tbody>\n</table>\n</div>"
     },
     "execution_count": 88,
     "metadata": {},
     "output_type": "execute_result"
    }
   ],
   "source": [
    "#I use take to select the rows in that order, then slice off the last 10 rows(largest values)\n",
    "count_subset = agg_counts.take(indexer[-10:])\n",
    "count_subset"
   ],
   "metadata": {
    "collapsed": false,
    "pycharm": {
     "name": "#%%\n"
    }
   }
  },
  {
   "cell_type": "code",
   "execution_count": 85,
   "outputs": [
    {
     "data": {
      "text/plain": "tz\nAmerica/New_York       1251.0\n                        521.0\nAmerica/Chicago         400.0\nAmerica/Los_Angeles     382.0\nAmerica/Denver          191.0\nEurope/London            74.0\nAsia/Tokyo               37.0\nPacific/Honolulu         36.0\nEurope/Madrid            35.0\nAmerica/Sao_Paulo        33.0\ndtype: float64"
     },
     "execution_count": 85,
     "metadata": {},
     "output_type": "execute_result"
    }
   ],
   "source": [
    "#pandas has a convenience method called nlargest that does the same thing:\n",
    "indexer_2 = agg_counts.sum(1).nlargest(10)\n",
    "indexer_2"
   ],
   "metadata": {
    "collapsed": false,
    "pycharm": {
     "name": "#%%\n"
    }
   }
  },
  {
   "cell_type": "code",
   "execution_count": 89,
   "outputs": [
    {
     "data": {
      "text/plain": "                     tz           os  total\n0     America/Sao_Paulo  Not Windows   13.0\n1     America/Sao_Paulo      Windows   20.0\n2         Europe/Madrid  Not Windows   16.0\n3         Europe/Madrid      Windows   19.0\n4      Pacific/Honolulu  Not Windows    0.0\n5      Pacific/Honolulu      Windows   36.0\n6            Asia/Tokyo  Not Windows    2.0\n7            Asia/Tokyo      Windows   35.0\n8         Europe/London  Not Windows   43.0\n9         Europe/London      Windows   31.0\n10       America/Denver  Not Windows  132.0\n11       America/Denver      Windows   59.0\n12  America/Los_Angeles  Not Windows  130.0\n13  America/Los_Angeles      Windows  252.0\n14      America/Chicago  Not Windows  115.0\n15      America/Chicago      Windows  285.0\n16                       Not Windows  245.0\n17                           Windows  276.0\n18     America/New_York  Not Windows  339.0\n19     America/New_York      Windows  912.0",
      "text/html": "<div>\n<style scoped>\n    .dataframe tbody tr th:only-of-type {\n        vertical-align: middle;\n    }\n\n    .dataframe tbody tr th {\n        vertical-align: top;\n    }\n\n    .dataframe thead th {\n        text-align: right;\n    }\n</style>\n<table border=\"1\" class=\"dataframe\">\n  <thead>\n    <tr style=\"text-align: right;\">\n      <th></th>\n      <th>tz</th>\n      <th>os</th>\n      <th>total</th>\n    </tr>\n  </thead>\n  <tbody>\n    <tr>\n      <th>0</th>\n      <td>America/Sao_Paulo</td>\n      <td>Not Windows</td>\n      <td>13.0</td>\n    </tr>\n    <tr>\n      <th>1</th>\n      <td>America/Sao_Paulo</td>\n      <td>Windows</td>\n      <td>20.0</td>\n    </tr>\n    <tr>\n      <th>2</th>\n      <td>Europe/Madrid</td>\n      <td>Not Windows</td>\n      <td>16.0</td>\n    </tr>\n    <tr>\n      <th>3</th>\n      <td>Europe/Madrid</td>\n      <td>Windows</td>\n      <td>19.0</td>\n    </tr>\n    <tr>\n      <th>4</th>\n      <td>Pacific/Honolulu</td>\n      <td>Not Windows</td>\n      <td>0.0</td>\n    </tr>\n    <tr>\n      <th>5</th>\n      <td>Pacific/Honolulu</td>\n      <td>Windows</td>\n      <td>36.0</td>\n    </tr>\n    <tr>\n      <th>6</th>\n      <td>Asia/Tokyo</td>\n      <td>Not Windows</td>\n      <td>2.0</td>\n    </tr>\n    <tr>\n      <th>7</th>\n      <td>Asia/Tokyo</td>\n      <td>Windows</td>\n      <td>35.0</td>\n    </tr>\n    <tr>\n      <th>8</th>\n      <td>Europe/London</td>\n      <td>Not Windows</td>\n      <td>43.0</td>\n    </tr>\n    <tr>\n      <th>9</th>\n      <td>Europe/London</td>\n      <td>Windows</td>\n      <td>31.0</td>\n    </tr>\n    <tr>\n      <th>10</th>\n      <td>America/Denver</td>\n      <td>Not Windows</td>\n      <td>132.0</td>\n    </tr>\n    <tr>\n      <th>11</th>\n      <td>America/Denver</td>\n      <td>Windows</td>\n      <td>59.0</td>\n    </tr>\n    <tr>\n      <th>12</th>\n      <td>America/Los_Angeles</td>\n      <td>Not Windows</td>\n      <td>130.0</td>\n    </tr>\n    <tr>\n      <th>13</th>\n      <td>America/Los_Angeles</td>\n      <td>Windows</td>\n      <td>252.0</td>\n    </tr>\n    <tr>\n      <th>14</th>\n      <td>America/Chicago</td>\n      <td>Not Windows</td>\n      <td>115.0</td>\n    </tr>\n    <tr>\n      <th>15</th>\n      <td>America/Chicago</td>\n      <td>Windows</td>\n      <td>285.0</td>\n    </tr>\n    <tr>\n      <th>16</th>\n      <td></td>\n      <td>Not Windows</td>\n      <td>245.0</td>\n    </tr>\n    <tr>\n      <th>17</th>\n      <td></td>\n      <td>Windows</td>\n      <td>276.0</td>\n    </tr>\n    <tr>\n      <th>18</th>\n      <td>America/New_York</td>\n      <td>Not Windows</td>\n      <td>339.0</td>\n    </tr>\n    <tr>\n      <th>19</th>\n      <td>America/New_York</td>\n      <td>Windows</td>\n      <td>912.0</td>\n    </tr>\n  </tbody>\n</table>\n</div>"
     },
     "execution_count": 89,
     "metadata": {},
     "output_type": "execute_result"
    }
   ],
   "source": [
    "#Rearrange the data for plotting\n",
    "count_subset = count_subset.stack()\n",
    "count_subset.name = 'total'\n",
    "count_subset = count_subset.reset_index()\n",
    "count_subset"
   ],
   "metadata": {
    "collapsed": false,
    "pycharm": {
     "name": "#%%\n"
    }
   }
  },
  {
   "cell_type": "code",
   "execution_count": 90,
   "outputs": [
    {
     "data": {
      "text/plain": "<AxesSubplot:xlabel='total', ylabel='tz'>"
     },
     "execution_count": 90,
     "metadata": {},
     "output_type": "execute_result"
    },
    {
     "data": {
      "text/plain": "<Figure size 432x288 with 1 Axes>",
      "image/png": "[encoded data removed]"
     },
     "metadata": {
      "needs_background": "light"
     },
     "output_type": "display_data"
    }
   ],
   "source": [
    "import seaborn as sns\n",
    "sns.barplot(x = 'total', y = 'tz', hue = 'os', data = count_subset)"
   ],
   "metadata": {
    "collapsed": false,
    "pycharm": {
     "name": "#%%\n"
    }
   }
  },
  {
   "cell_type": "code",
   "execution_count": 91,
   "outputs": [
    {
     "data": {
      "text/plain": "                     tz           os  total  normed_total\n0     America/Sao_Paulo  Not Windows   13.0      0.393939\n1     America/Sao_Paulo      Windows   20.0      0.606061\n2         Europe/Madrid  Not Windows   16.0      0.457143\n3         Europe/Madrid      Windows   19.0      0.542857\n4      Pacific/Honolulu  Not Windows    0.0      0.000000\n5      Pacific/Honolulu      Windows   36.0      1.000000\n6            Asia/Tokyo  Not Windows    2.0      0.054054\n7            Asia/Tokyo      Windows   35.0      0.945946\n8         Europe/London  Not Windows   43.0      0.581081\n9         Europe/London      Windows   31.0      0.418919\n10       America/Denver  Not Windows  132.0      0.691099\n11       America/Denver      Windows   59.0      0.308901\n12  America/Los_Angeles  Not Windows  130.0      0.340314\n13  America/Los_Angeles      Windows  252.0      0.659686\n14      America/Chicago  Not Windows  115.0      0.287500\n15      America/Chicago      Windows  285.0      0.712500\n16                       Not Windows  245.0      0.470250\n17                           Windows  276.0      0.529750\n18     America/New_York  Not Windows  339.0      0.270983\n19     America/New_York      Windows  912.0      0.729017",
      "text/html": "<div>\n<style scoped>\n    .dataframe tbody tr th:only-of-type {\n        vertical-align: middle;\n    }\n\n    .dataframe tbody tr th {\n        vertical-align: top;\n    }\n\n    .dataframe thead th {\n        text-align: right;\n    }\n</style>\n<table border=\"1\" class=\"dataframe\">\n  <thead>\n    <tr style=\"text-align: right;\">\n      <th></th>\n      <th>tz</th>\n      <th>os</th>\n      <th>total</th>\n      <th>normed_total</th>\n    </tr>\n  </thead>\n  <tbody>\n    <tr>\n      <th>0</th>\n      <td>America/Sao_Paulo</td>\n      <td>Not Windows</td>\n      <td>13.0</td>\n      <td>0.393939</td>\n    </tr>\n    <tr>\n      <th>1</th>\n      <td>America/Sao_Paulo</td>\n      <td>Windows</td>\n      <td>20.0</td>\n      <td>0.606061</td>\n    </tr>\n    <tr>\n      <th>2</th>\n      <td>Europe/Madrid</td>\n      <td>Not Windows</td>\n      <td>16.0</td>\n      <td>0.457143</td>\n    </tr>\n    <tr>\n      <th>3</th>\n      <td>Europe/Madrid</td>\n      <td>Windows</td>\n      <td>19.0</td>\n      <td>0.542857</td>\n    </tr>\n    <tr>\n      <th>4</th>\n      <td>Pacific/Honolulu</td>\n      <td>Not Windows</td>\n      <td>0.0</td>\n      <td>0.000000</td>\n    </tr>\n    <tr>\n      <th>5</th>\n      <td>Pacific/Honolulu</td>\n      <td>Windows</td>\n      <td>36.0</td>\n      <td>1.000000</td>\n    </tr>\n    <tr>\n      <th>6</th>\n      <td>Asia/Tokyo</td>\n      <td>Not Windows</td>\n      <td>2.0</td>\n      <td>0.054054</td>\n    </tr>\n    <tr>\n      <th>7</th>\n      <td>Asia/Tokyo</td>\n      <td>Windows</td>\n      <td>35.0</td>\n      <td>0.945946</td>\n    </tr>\n    <tr>\n      <th>8</th>\n      <td>Europe/London</td>\n      <td>Not Windows</td>\n      <td>43.0</td>\n      <td>0.581081</td>\n    </tr>\n    <tr>\n      <th>9</th>\n      <td>Europe/London</td>\n      <td>Windows</td>\n      <td>31.0</td>\n      <td>0.418919</td>\n    </tr>\n    <tr>\n      <th>10</th>\n      <td>America/Denver</td>\n      <td>Not Windows</td>\n      <td>132.0</td>\n      <td>0.691099</td>\n    </tr>\n    <tr>\n      <th>11</th>\n      <td>America/Denver</td>\n      <td>Windows</td>\n      <td>59.0</td>\n      <td>0.308901</td>\n    </tr>\n    <tr>\n      <th>12</th>\n      <td>America/Los_Angeles</td>\n      <td>Not Windows</td>\n      <td>130.0</td>\n      <td>0.340314</td>\n    </tr>\n    <tr>\n      <th>13</th>\n      <td>America/Los_Angeles</td>\n      <td>Windows</td>\n      <td>252.0</td>\n      <td>0.659686</td>\n    </tr>\n    <tr>\n      <th>14</th>\n      <td>America/Chicago</td>\n      <td>Not Windows</td>\n      <td>115.0</td>\n      <td>0.287500</td>\n    </tr>\n    <tr>\n      <th>15</th>\n      <td>America/Chicago</td>\n      <td>Windows</td>\n      <td>285.0</td>\n      <td>0.712500</td>\n    </tr>\n    <tr>\n      <th>16</th>\n      <td></td>\n      <td>Not Windows</td>\n      <td>245.0</td>\n      <td>0.470250</td>\n    </tr>\n    <tr>\n      <th>17</th>\n      <td></td>\n      <td>Windows</td>\n      <td>276.0</td>\n      <td>0.529750</td>\n    </tr>\n    <tr>\n      <th>18</th>\n      <td>America/New_York</td>\n      <td>Not Windows</td>\n      <td>339.0</td>\n      <td>0.270983</td>\n    </tr>\n    <tr>\n      <th>19</th>\n      <td>America/New_York</td>\n      <td>Windows</td>\n      <td>912.0</td>\n      <td>0.729017</td>\n    </tr>\n  </tbody>\n</table>\n</div>"
     },
     "metadata": {},
     "output_type": "display_data"
    },
    {
     "data": {
      "text/plain": "<AxesSubplot:xlabel='normed_total', ylabel='tz'>"
     },
     "execution_count": 91,
     "metadata": {},
     "output_type": "execute_result"
    },
    {
     "data": {
      "text/plain": "<Figure size 432x288 with 1 Axes>",
      "image/png": "[encoded data removed]"
     },
     "metadata": {
      "needs_background": "light"
     },
     "output_type": "display_data"
    }
   ],
   "source": [
    "#The plot doesn't make it easy to see the relative percentage of windows users\n",
    "\n",
    "def norm_total(group):\n",
    "    group['normed_total'] = group.total / group.total.sum()\n",
    "    return group\n",
    "\n",
    "results = count_subset.groupby('tz').apply(norm_total)\n",
    "display(results)\n",
    "sns.barplot(x = 'normed_total', y = 'tz', hue = 'os', data = results)"
   ],
   "metadata": {
    "collapsed": false,
    "pycharm": {
     "name": "#%%\n"
    }
   }
  },
  {
   "cell_type": "code",
   "execution_count": 112,
   "outputs": [
    {
     "data": {
      "text/plain": "<AxesSubplot:xlabel='Normed_total', ylabel='tz'>"
     },
     "execution_count": 112,
     "metadata": {},
     "output_type": "execute_result"
    },
    {
     "data": {
      "text/plain": "<Figure size 432x288 with 1 Axes>",
      "image/png": "[encoded data removed]"
     },
     "metadata": {
      "needs_background": "light"
     },
     "output_type": "display_data"
    }
   ],
   "source": [
    "# We can do it more easily with transform\n",
    "import seaborn as sns\n",
    "g = count_subset.groupby('tz')\n",
    "result2 = count_subset.total/g.total.transform('sum')\n",
    "count_subset['Normed_total'] = result2\n",
    "sns.barplot(x = 'Normed_total', y = 'tz', hue = 'os', data = count_subset)"
   ],
   "metadata": {
    "collapsed": false,
    "pycharm": {
     "name": "#%%\n"
    }
   }
  },
  {
   "cell_type": "code",
   "execution_count": null,
   "outputs": [],
   "source": [],
   "metadata": {
    "collapsed": false,
    "pycharm": {
     "name": "#%%\n"
    }
   }
  }
 ],
 "metadata": {
  "kernelspec": {
   "name": "python3",
   "language": "python",
   "display_name": "Python 3 (ipykernel)"
  },
  "language_info": {
   "codemirror_mode": {
    "name": "ipython",
    "version": 2
   },
   "file_extension": ".py",
   "mimetype": "text/x-python",
   "name": "python",
   "nbconvert_exporter": "python",
   "pygments_lexer": "ipython2",
   "version": "2.7.6"
  }
 },
 "nbformat": 4,
 "nbformat_minor": 0
}
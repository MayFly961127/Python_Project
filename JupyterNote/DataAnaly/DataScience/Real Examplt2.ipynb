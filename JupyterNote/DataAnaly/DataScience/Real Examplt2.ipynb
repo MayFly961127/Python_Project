{
 "cells": [
  {
   "cell_type": "markdown",
   "source": [
    "14.2 MovieLens 1M Dataset"
   ],
   "metadata": {
    "collapsed": false
   }
  },
  {
   "cell_type": "code",
   "execution_count": 1,
   "metadata": {
    "collapsed": true
   },
   "outputs": [],
   "source": [
    "import pandas as pd\n",
    "#Make display smaller\n",
    "pd.options.display.max_rows = 10"
   ]
  },
  {
   "cell_type": "code",
   "execution_count": 25,
   "outputs": [
    {
     "name": "stderr",
     "output_type": "stream",
     "text": [
      "/var/folders/l9/glqlxsms6kg26pc8n2s189hw0000gn/T/ipykernel_1886/246258255.py:2: ParserWarning: Falling back to the 'python' engine because the 'c' engine does not support regex separators (separators > 1 char and different from '\\s+' are interpreted as regex); you can avoid this warning by specifying engine='python'.\n",
      "  users = pd.read_table('https://raw.githubusercontent.com/wesm/pydata-book/2nd-edition/datasets/movielens/users.dat',\n",
      "/var/folders/l9/glqlxsms6kg26pc8n2s189hw0000gn/T/ipykernel_1886/246258255.py:6: ParserWarning: Falling back to the 'python' engine because the 'c' engine does not support regex separators (separators > 1 char and different from '\\s+' are interpreted as regex); you can avoid this warning by specifying engine='python'.\n",
      "  ratings = pd.read_table('https://raw.githubusercontent.com/wesm/pydata-book/2nd-edition/datasets/movielens/ratings.dat',\n",
      "/var/folders/l9/glqlxsms6kg26pc8n2s189hw0000gn/T/ipykernel_1886/246258255.py:10: ParserWarning: Falling back to the 'python' engine because the 'c' engine does not support regex separators (separators > 1 char and different from '\\s+' are interpreted as regex); you can avoid this warning by specifying engine='python'.\n",
      "  movies = pd.read_table('https://raw.githubusercontent.com/wesm/pydata-book/2nd-edition/datasets/movielens/movies.dat',\n"
     ]
    },
    {
     "data": {
      "text/plain": "   movie_id                               title                        genres\n0         1                    Toy Story (1995)   Animation|Children's|Comedy\n1         2                      Jumanji (1995)  Adventure|Children's|Fantasy\n2         3             Grumpier Old Men (1995)                Comedy|Romance\n3         4            Waiting to Exhale (1995)                  Comedy|Drama\n4         5  Father of the Bride Part II (1995)                        Comedy",
      "text/html": "<div>\n<style scoped>\n    .dataframe tbody tr th:only-of-type {\n        vertical-align: middle;\n    }\n\n    .dataframe tbody tr th {\n        vertical-align: top;\n    }\n\n    .dataframe thead th {\n        text-align: right;\n    }\n</style>\n<table border=\"1\" class=\"dataframe\">\n  <thead>\n    <tr style=\"text-align: right;\">\n      <th></th>\n      <th>movie_id</th>\n      <th>title</th>\n      <th>genres</th>\n    </tr>\n  </thead>\n  <tbody>\n    <tr>\n      <th>0</th>\n      <td>1</td>\n      <td>Toy Story (1995)</td>\n      <td>Animation|Children's|Comedy</td>\n    </tr>\n    <tr>\n      <th>1</th>\n      <td>2</td>\n      <td>Jumanji (1995)</td>\n      <td>Adventure|Children's|Fantasy</td>\n    </tr>\n    <tr>\n      <th>2</th>\n      <td>3</td>\n      <td>Grumpier Old Men (1995)</td>\n      <td>Comedy|Romance</td>\n    </tr>\n    <tr>\n      <th>3</th>\n      <td>4</td>\n      <td>Waiting to Exhale (1995)</td>\n      <td>Comedy|Drama</td>\n    </tr>\n    <tr>\n      <th>4</th>\n      <td>5</td>\n      <td>Father of the Bride Part II (1995)</td>\n      <td>Comedy</td>\n    </tr>\n  </tbody>\n</table>\n</div>"
     },
     "execution_count": 25,
     "metadata": {},
     "output_type": "execute_result"
    }
   ],
   "source": [
    "unames = ['user_id', 'gender', 'age', 'occupation', 'zip']\n",
    "users = pd.read_table('https://raw.githubusercontent.com/wesm/pydata-book/2nd-edition/datasets/movielens/users.dat',\n",
    "                     sep = '::', header = None, names = unames) #sep is split operator\n",
    "\n",
    "rnames = ['user_id', 'movie_id', 'rating', 'timestamp']\n",
    "ratings = pd.read_table('https://raw.githubusercontent.com/wesm/pydata-book/2nd-edition/datasets/movielens/ratings.dat',\n",
    "                        sep = '::', header = None, names = rnames)\n",
    "\n",
    "mnames = ['movie_id', 'title', 'genres']\n",
    "movies = pd.read_table('https://raw.githubusercontent.com/wesm/pydata-book/2nd-edition/datasets/movielens/movies.dat',\n",
    "                       sep = '::', header = None, names = mnames)\n",
    "\n",
    "movies.head()"
   ],
   "metadata": {
    "collapsed": false,
    "pycharm": {
     "name": "#%%\n"
    }
   }
  },
  {
   "cell_type": "code",
   "execution_count": 26,
   "outputs": [
    {
     "data": {
      "text/plain": "   user_id gender  age  occupation    zip\n0        1      F    1          10  48067\n1        2      M   56          16  70072\n2        3      M   25          15  55117\n3        4      M   45           7  02460\n4        5      M   25          20  55455",
      "text/html": "<div>\n<style scoped>\n    .dataframe tbody tr th:only-of-type {\n        vertical-align: middle;\n    }\n\n    .dataframe tbody tr th {\n        vertical-align: top;\n    }\n\n    .dataframe thead th {\n        text-align: right;\n    }\n</style>\n<table border=\"1\" class=\"dataframe\">\n  <thead>\n    <tr style=\"text-align: right;\">\n      <th></th>\n      <th>user_id</th>\n      <th>gender</th>\n      <th>age</th>\n      <th>occupation</th>\n      <th>zip</th>\n    </tr>\n  </thead>\n  <tbody>\n    <tr>\n      <th>0</th>\n      <td>1</td>\n      <td>F</td>\n      <td>1</td>\n      <td>10</td>\n      <td>48067</td>\n    </tr>\n    <tr>\n      <th>1</th>\n      <td>2</td>\n      <td>M</td>\n      <td>56</td>\n      <td>16</td>\n      <td>70072</td>\n    </tr>\n    <tr>\n      <th>2</th>\n      <td>3</td>\n      <td>M</td>\n      <td>25</td>\n      <td>15</td>\n      <td>55117</td>\n    </tr>\n    <tr>\n      <th>3</th>\n      <td>4</td>\n      <td>M</td>\n      <td>45</td>\n      <td>7</td>\n      <td>02460</td>\n    </tr>\n    <tr>\n      <th>4</th>\n      <td>5</td>\n      <td>M</td>\n      <td>25</td>\n      <td>20</td>\n      <td>55455</td>\n    </tr>\n  </tbody>\n</table>\n</div>"
     },
     "execution_count": 26,
     "metadata": {},
     "output_type": "execute_result"
    }
   ],
   "source": [
    "users[:5]"
   ],
   "metadata": {
    "collapsed": false,
    "pycharm": {
     "name": "#%%\n"
    }
   }
  },
  {
   "cell_type": "code",
   "execution_count": 15,
   "outputs": [
    {
     "data": {
      "text/plain": "   user_id  movie_id  rating  timestamp\n0        1      1193       5  978300760\n1        1       661       3  978302109\n2        1       914       3  978301968\n3        1      3408       4  978300275\n4        1      2355       5  978824291",
      "text/html": "<div>\n<style scoped>\n    .dataframe tbody tr th:only-of-type {\n        vertical-align: middle;\n    }\n\n    .dataframe tbody tr th {\n        vertical-align: top;\n    }\n\n    .dataframe thead th {\n        text-align: right;\n    }\n</style>\n<table border=\"1\" class=\"dataframe\">\n  <thead>\n    <tr style=\"text-align: right;\">\n      <th></th>\n      <th>user_id</th>\n      <th>movie_id</th>\n      <th>rating</th>\n      <th>timestamp</th>\n    </tr>\n  </thead>\n  <tbody>\n    <tr>\n      <th>0</th>\n      <td>1</td>\n      <td>1193</td>\n      <td>5</td>\n      <td>978300760</td>\n    </tr>\n    <tr>\n      <th>1</th>\n      <td>1</td>\n      <td>661</td>\n      <td>3</td>\n      <td>978302109</td>\n    </tr>\n    <tr>\n      <th>2</th>\n      <td>1</td>\n      <td>914</td>\n      <td>3</td>\n      <td>978301968</td>\n    </tr>\n    <tr>\n      <th>3</th>\n      <td>1</td>\n      <td>3408</td>\n      <td>4</td>\n      <td>978300275</td>\n    </tr>\n    <tr>\n      <th>4</th>\n      <td>1</td>\n      <td>2355</td>\n      <td>5</td>\n      <td>978824291</td>\n    </tr>\n  </tbody>\n</table>\n</div>"
     },
     "execution_count": 15,
     "metadata": {},
     "output_type": "execute_result"
    }
   ],
   "source": [
    "ratings[:5]"
   ],
   "metadata": {
    "collapsed": false,
    "pycharm": {
     "name": "#%%\n"
    }
   }
  },
  {
   "cell_type": "code",
   "execution_count": 1,
   "outputs": [
    {
     "ename": "NameError",
     "evalue": "name 'pd' is not defined",
     "output_type": "error",
     "traceback": [
      "\u001B[0;31m---------------------------------------------------------------------------\u001B[0m",
      "\u001B[0;31mNameError\u001B[0m                                 Traceback (most recent call last)",
      "Input \u001B[0;32mIn [1]\u001B[0m, in \u001B[0;36m<cell line: 2>\u001B[0;34m()\u001B[0m\n\u001B[1;32m      1\u001B[0m \u001B[38;5;66;03m#pandas infers which columns to use as the merge (or join) keys based on overlapping names:\u001B[39;00m\n\u001B[0;32m----> 2\u001B[0m data \u001B[38;5;241m=\u001B[39m \u001B[43mpd\u001B[49m\u001B[38;5;241m.\u001B[39mjoin(pd\u001B[38;5;241m.\u001B[39mmerge(ratings, users), movies)\n\u001B[1;32m      3\u001B[0m data\n",
      "\u001B[0;31mNameError\u001B[0m: name 'pd' is not defined"
     ]
    }
   ],
   "source": [
    "#pandas infers which columns to use as the merge (or join) keys based on overlapping names:\n",
    "data = pd.join(pd.merge(ratings, users), movies)\n",
    "data"
   ],
   "metadata": {
    "collapsed": false,
    "pycharm": {
     "name": "#%%\n"
    }
   }
  },
  {
   "cell_type": "code",
   "execution_count": 28,
   "outputs": [
    {
     "data": {
      "text/plain": "user_id                                            1\nmovie_id                                        1193\nrating                                             5\ntimestamp                                  978300760\ngender                                             F\nage                                                1\noccupation                                        10\nzip                                            48067\ntitle         One Flew Over the Cuckoo's Nest (1975)\ngenres                                         Drama\nName: 0, dtype: object"
     },
     "execution_count": 28,
     "metadata": {},
     "output_type": "execute_result"
    }
   ],
   "source": [
    "data.iloc[0]"
   ],
   "metadata": {
    "collapsed": false,
    "pycharm": {
     "name": "#%%\n"
    }
   }
  },
  {
   "cell_type": "code",
   "execution_count": 29,
   "outputs": [
    {
     "data": {
      "text/plain": "gender                                             F         M\ntitle                                                         \n$1,000,000 Duck (1971)                      3.375000  2.761905\n'Night Mother (1986)                        3.388889  3.352941\n'Til There Was You (1997)                   2.675676  2.733333\n'burbs, The (1989)                          2.793478  2.962085\n...And Justice for All (1979)               3.828571  3.689024\n...                                              ...       ...\nZed & Two Noughts, A (1985)                 3.500000  3.380952\nZero Effect (1998)                          3.864407  3.723140\nZero Kelvin (Kjærlighetens kjøtere) (1995)       NaN  3.500000\nZeus and Roxanne (1997)                     2.777778  2.357143\neXistenZ (1999)                             3.098592  3.289086\n\n[3706 rows x 2 columns]",
      "text/html": "<div>\n<style scoped>\n    .dataframe tbody tr th:only-of-type {\n        vertical-align: middle;\n    }\n\n    .dataframe tbody tr th {\n        vertical-align: top;\n    }\n\n    .dataframe thead th {\n        text-align: right;\n    }\n</style>\n<table border=\"1\" class=\"dataframe\">\n  <thead>\n    <tr style=\"text-align: right;\">\n      <th>gender</th>\n      <th>F</th>\n      <th>M</th>\n    </tr>\n    <tr>\n      <th>title</th>\n      <th></th>\n      <th></th>\n    </tr>\n  </thead>\n  <tbody>\n    <tr>\n      <th>$1,000,000 Duck (1971)</th>\n      <td>3.375000</td>\n      <td>2.761905</td>\n    </tr>\n    <tr>\n      <th>'Night Mother (1986)</th>\n      <td>3.388889</td>\n      <td>3.352941</td>\n    </tr>\n    <tr>\n      <th>'Til There Was You (1997)</th>\n      <td>2.675676</td>\n      <td>2.733333</td>\n    </tr>\n    <tr>\n      <th>'burbs, The (1989)</th>\n      <td>2.793478</td>\n      <td>2.962085</td>\n    </tr>\n    <tr>\n      <th>...And Justice for All (1979)</th>\n      <td>3.828571</td>\n      <td>3.689024</td>\n    </tr>\n    <tr>\n      <th>...</th>\n      <td>...</td>\n      <td>...</td>\n    </tr>\n    <tr>\n      <th>Zed &amp; Two Noughts, A (1985)</th>\n      <td>3.500000</td>\n      <td>3.380952</td>\n    </tr>\n    <tr>\n      <th>Zero Effect (1998)</th>\n      <td>3.864407</td>\n      <td>3.723140</td>\n    </tr>\n    <tr>\n      <th>Zero Kelvin (Kjærlighetens kjøtere) (1995)</th>\n      <td>NaN</td>\n      <td>3.500000</td>\n    </tr>\n    <tr>\n      <th>Zeus and Roxanne (1997)</th>\n      <td>2.777778</td>\n      <td>2.357143</td>\n    </tr>\n    <tr>\n      <th>eXistenZ (1999)</th>\n      <td>3.098592</td>\n      <td>3.289086</td>\n    </tr>\n  </tbody>\n</table>\n<p>3706 rows × 2 columns</p>\n</div>"
     },
     "execution_count": 29,
     "metadata": {},
     "output_type": "execute_result"
    }
   ],
   "source": [
    "mean_ratings = data.pivot_table('rating', index = 'title',\n",
    "                                columns = 'gender', aggfunc = 'mean')\n",
    "mean_ratings"
   ],
   "metadata": {
    "collapsed": false,
    "pycharm": {
     "name": "#%%\n"
    }
   }
  },
  {
   "cell_type": "code",
   "execution_count": 30,
   "outputs": [
    {
     "data": {
      "text/plain": "title\n$1,000,000 Duck (1971)            37\n'Night Mother (1986)              70\n'Til There Was You (1997)         52\n'burbs, The (1989)               303\n...And Justice for All (1979)    199\ndtype: int64"
     },
     "execution_count": 30,
     "metadata": {},
     "output_type": "execute_result"
    }
   ],
   "source": [
    "ratings_by_title = data.groupby('title').size()\n",
    "ratings_by_title[:5]"
   ],
   "metadata": {
    "collapsed": false,
    "pycharm": {
     "name": "#%%\n"
    }
   }
  },
  {
   "cell_type": "code",
   "execution_count": 41,
   "outputs": [
    {
     "data": {
      "text/plain": "a\n0     1\n1     1\n2     1\n3     1\n4     1\n     ..\n95    1\n96    1\n97    1\n98    1\n99    1\nLength: 100, dtype: int64"
     },
     "execution_count": 41,
     "metadata": {},
     "output_type": "execute_result"
    }
   ],
   "source": [
    "import numpy as np\n",
    "import pandas as pd\n",
    "a = np.arange(100)\n",
    "b = a.copy()\n",
    "c = a.copy()\n",
    "df = pd.DataFrame({'a': a, 'b': b, 'c': c})\n",
    "df.groupby('a').size()"
   ],
   "metadata": {
    "collapsed": false,
    "pycharm": {
     "name": "#%%\n"
    }
   }
  },
  {
   "cell_type": "code",
   "execution_count": 31,
   "outputs": [
    {
     "data": {
      "text/plain": "Index([''burbs, The (1989)', '10 Things I Hate About You (1999)',\n       '101 Dalmatians (1961)', '101 Dalmatians (1996)', '12 Angry Men (1957)',\n       '13th Warrior, The (1999)', '2 Days in the Valley (1996)',\n       '20,000 Leagues Under the Sea (1954)', '2001: A Space Odyssey (1968)',\n       '2010 (1984)',\n       ...\n       'X-Men (2000)', 'Year of Living Dangerously (1982)',\n       'Yellow Submarine (1968)', 'You've Got Mail (1998)',\n       'Young Frankenstein (1974)', 'Young Guns (1988)',\n       'Young Guns II (1990)', 'Young Sherlock Holmes (1985)',\n       'Zero Effect (1998)', 'eXistenZ (1999)'],\n      dtype='object', name='title', length=1216)"
     },
     "execution_count": 31,
     "metadata": {},
     "output_type": "execute_result"
    }
   ],
   "source": [
    "active_titles = ratings_by_title.index[ratings_by_title >= 250]\n",
    "active_titles\n",
    "\n",
    "#The index of titles receiving at least 250 ratings can then be used to select rows from mean_ratings:"
   ],
   "metadata": {
    "collapsed": false,
    "pycharm": {
     "name": "#%%\n"
    }
   }
  },
  {
   "cell_type": "code",
   "execution_count": 42,
   "outputs": [
    {
     "data": {
      "text/plain": "gender                                    F         M\ntitle                                                \n'burbs, The (1989)                 2.793478  2.962085\n10 Things I Hate About You (1999)  3.646552  3.311966\n101 Dalmatians (1961)              3.791444  3.500000\n101 Dalmatians (1996)              3.240000  2.911215\n12 Angry Men (1957)                4.184397  4.328421\n...                                     ...       ...\nYoung Guns (1988)                  3.371795  3.425620\nYoung Guns II (1990)               2.934783  2.904025\nYoung Sherlock Holmes (1985)       3.514706  3.363344\nZero Effect (1998)                 3.864407  3.723140\neXistenZ (1999)                    3.098592  3.289086\n\n[1216 rows x 2 columns]",
      "text/html": "<div>\n<style scoped>\n    .dataframe tbody tr th:only-of-type {\n        vertical-align: middle;\n    }\n\n    .dataframe tbody tr th {\n        vertical-align: top;\n    }\n\n    .dataframe thead th {\n        text-align: right;\n    }\n</style>\n<table border=\"1\" class=\"dataframe\">\n  <thead>\n    <tr style=\"text-align: right;\">\n      <th>gender</th>\n      <th>F</th>\n      <th>M</th>\n    </tr>\n    <tr>\n      <th>title</th>\n      <th></th>\n      <th></th>\n    </tr>\n  </thead>\n  <tbody>\n    <tr>\n      <th>'burbs, The (1989)</th>\n      <td>2.793478</td>\n      <td>2.962085</td>\n    </tr>\n    <tr>\n      <th>10 Things I Hate About You (1999)</th>\n      <td>3.646552</td>\n      <td>3.311966</td>\n    </tr>\n    <tr>\n      <th>101 Dalmatians (1961)</th>\n      <td>3.791444</td>\n      <td>3.500000</td>\n    </tr>\n    <tr>\n      <th>101 Dalmatians (1996)</th>\n      <td>3.240000</td>\n      <td>2.911215</td>\n    </tr>\n    <tr>\n      <th>12 Angry Men (1957)</th>\n      <td>4.184397</td>\n      <td>4.328421</td>\n    </tr>\n    <tr>\n      <th>...</th>\n      <td>...</td>\n      <td>...</td>\n    </tr>\n    <tr>\n      <th>Young Guns (1988)</th>\n      <td>3.371795</td>\n      <td>3.425620</td>\n    </tr>\n    <tr>\n      <th>Young Guns II (1990)</th>\n      <td>2.934783</td>\n      <td>2.904025</td>\n    </tr>\n    <tr>\n      <th>Young Sherlock Holmes (1985)</th>\n      <td>3.514706</td>\n      <td>3.363344</td>\n    </tr>\n    <tr>\n      <th>Zero Effect (1998)</th>\n      <td>3.864407</td>\n      <td>3.723140</td>\n    </tr>\n    <tr>\n      <th>eXistenZ (1999)</th>\n      <td>3.098592</td>\n      <td>3.289086</td>\n    </tr>\n  </tbody>\n</table>\n<p>1216 rows × 2 columns</p>\n</div>"
     },
     "execution_count": 42,
     "metadata": {},
     "output_type": "execute_result"
    }
   ],
   "source": [
    "#select rows on the iindex\n",
    "mean_ratings = mean_ratings.loc[active_titles]\n",
    "mean_ratings"
   ],
   "metadata": {
    "collapsed": false,
    "pycharm": {
     "name": "#%%\n"
    }
   }
  },
  {
   "cell_type": "code",
   "execution_count": 43,
   "outputs": [
    {
     "data": {
      "text/plain": "gender                                                     F         M\ntitle                                                                 \nClose Shave, A (1995)                               4.644444  4.473795\nWrong Trousers, The (1993)                          4.588235  4.478261\nSunset Blvd. (a.k.a. Sunset Boulevard) (1950)       4.572650  4.464589\nWallace & Gromit: The Best of Aardman Animation...  4.563107  4.385075\nSchindler's List (1993)                             4.562602  4.491415\nShawshank Redemption, The (1994)                    4.539075  4.560625\nGrand Day Out, A (1992)                             4.537879  4.293255\nTo Kill a Mockingbird (1962)                        4.536667  4.372611\nCreature Comforts (1990)                            4.513889  4.272277\nUsual Suspects, The (1995)                          4.513317  4.518248",
      "text/html": "<div>\n<style scoped>\n    .dataframe tbody tr th:only-of-type {\n        vertical-align: middle;\n    }\n\n    .dataframe tbody tr th {\n        vertical-align: top;\n    }\n\n    .dataframe thead th {\n        text-align: right;\n    }\n</style>\n<table border=\"1\" class=\"dataframe\">\n  <thead>\n    <tr style=\"text-align: right;\">\n      <th>gender</th>\n      <th>F</th>\n      <th>M</th>\n    </tr>\n    <tr>\n      <th>title</th>\n      <th></th>\n      <th></th>\n    </tr>\n  </thead>\n  <tbody>\n    <tr>\n      <th>Close Shave, A (1995)</th>\n      <td>4.644444</td>\n      <td>4.473795</td>\n    </tr>\n    <tr>\n      <th>Wrong Trousers, The (1993)</th>\n      <td>4.588235</td>\n      <td>4.478261</td>\n    </tr>\n    <tr>\n      <th>Sunset Blvd. (a.k.a. Sunset Boulevard) (1950)</th>\n      <td>4.572650</td>\n      <td>4.464589</td>\n    </tr>\n    <tr>\n      <th>Wallace &amp; Gromit: The Best of Aardman Animation (1996)</th>\n      <td>4.563107</td>\n      <td>4.385075</td>\n    </tr>\n    <tr>\n      <th>Schindler's List (1993)</th>\n      <td>4.562602</td>\n      <td>4.491415</td>\n    </tr>\n    <tr>\n      <th>Shawshank Redemption, The (1994)</th>\n      <td>4.539075</td>\n      <td>4.560625</td>\n    </tr>\n    <tr>\n      <th>Grand Day Out, A (1992)</th>\n      <td>4.537879</td>\n      <td>4.293255</td>\n    </tr>\n    <tr>\n      <th>To Kill a Mockingbird (1962)</th>\n      <td>4.536667</td>\n      <td>4.372611</td>\n    </tr>\n    <tr>\n      <th>Creature Comforts (1990)</th>\n      <td>4.513889</td>\n      <td>4.272277</td>\n    </tr>\n    <tr>\n      <th>Usual Suspects, The (1995)</th>\n      <td>4.513317</td>\n      <td>4.518248</td>\n    </tr>\n  </tbody>\n</table>\n</div>"
     },
     "execution_count": 43,
     "metadata": {},
     "output_type": "execute_result"
    }
   ],
   "source": [
    "top_female_tarings = mean_ratings.sort_values(by = 'F', ascending = False)\n",
    "top_female_tarings[:10]"
   ],
   "metadata": {
    "collapsed": false,
    "pycharm": {
     "name": "#%%\n"
    }
   }
  },
  {
   "cell_type": "markdown",
   "source": [
    "Measuring Ratings Disagreement"
   ],
   "metadata": {
    "collapsed": false
   }
  },
  {
   "cell_type": "code",
   "execution_count": 44,
   "outputs": [
    {
     "data": {
      "text/plain": "gender                                        F         M      diff\ntitle                                                              \nDirty Dancing (1987)                   3.790378  2.959596 -0.830782\nJumpin' Jack Flash (1986)              3.254717  2.578358 -0.676359\nGrease (1978)                          3.975265  3.367041 -0.608224\nLittle Women (1994)                    3.870588  3.321739 -0.548849\nSteel Magnolias (1989)                 3.901734  3.365957 -0.535777\nAnastasia (1997)                       3.800000  3.281609 -0.518391\nRocky Horror Picture Show, The (1975)  3.673016  3.160131 -0.512885\nColor Purple, The (1985)               4.158192  3.659341 -0.498851\nAge of Innocence, The (1993)           3.827068  3.339506 -0.487561\nFree Willy (1993)                      2.921348  2.438776 -0.482573",
      "text/html": "<div>\n<style scoped>\n    .dataframe tbody tr th:only-of-type {\n        vertical-align: middle;\n    }\n\n    .dataframe tbody tr th {\n        vertical-align: top;\n    }\n\n    .dataframe thead th {\n        text-align: right;\n    }\n</style>\n<table border=\"1\" class=\"dataframe\">\n  <thead>\n    <tr style=\"text-align: right;\">\n      <th>gender</th>\n      <th>F</th>\n      <th>M</th>\n      <th>diff</th>\n    </tr>\n    <tr>\n      <th>title</th>\n      <th></th>\n      <th></th>\n      <th></th>\n    </tr>\n  </thead>\n  <tbody>\n    <tr>\n      <th>Dirty Dancing (1987)</th>\n      <td>3.790378</td>\n      <td>2.959596</td>\n      <td>-0.830782</td>\n    </tr>\n    <tr>\n      <th>Jumpin' Jack Flash (1986)</th>\n      <td>3.254717</td>\n      <td>2.578358</td>\n      <td>-0.676359</td>\n    </tr>\n    <tr>\n      <th>Grease (1978)</th>\n      <td>3.975265</td>\n      <td>3.367041</td>\n      <td>-0.608224</td>\n    </tr>\n    <tr>\n      <th>Little Women (1994)</th>\n      <td>3.870588</td>\n      <td>3.321739</td>\n      <td>-0.548849</td>\n    </tr>\n    <tr>\n      <th>Steel Magnolias (1989)</th>\n      <td>3.901734</td>\n      <td>3.365957</td>\n      <td>-0.535777</td>\n    </tr>\n    <tr>\n      <th>Anastasia (1997)</th>\n      <td>3.800000</td>\n      <td>3.281609</td>\n      <td>-0.518391</td>\n    </tr>\n    <tr>\n      <th>Rocky Horror Picture Show, The (1975)</th>\n      <td>3.673016</td>\n      <td>3.160131</td>\n      <td>-0.512885</td>\n    </tr>\n    <tr>\n      <th>Color Purple, The (1985)</th>\n      <td>4.158192</td>\n      <td>3.659341</td>\n      <td>-0.498851</td>\n    </tr>\n    <tr>\n      <th>Age of Innocence, The (1993)</th>\n      <td>3.827068</td>\n      <td>3.339506</td>\n      <td>-0.487561</td>\n    </tr>\n    <tr>\n      <th>Free Willy (1993)</th>\n      <td>2.921348</td>\n      <td>2.438776</td>\n      <td>-0.482573</td>\n    </tr>\n  </tbody>\n</table>\n</div>"
     },
     "execution_count": 44,
     "metadata": {},
     "output_type": "execute_result"
    }
   ],
   "source": [
    "mean_ratings['diff'] = mean_ratings['M'] - mean_ratings['F']\n",
    "sorted_by_diff = mean_ratings.sort_values(by = 'diff')\n",
    "sorted_by_diff[:10]"
   ],
   "metadata": {
    "collapsed": false,
    "pycharm": {
     "name": "#%%\n"
    }
   }
  },
  {
   "cell_type": "markdown",
   "source": [
    "Reversing the order of the rows to get the movies preferred by men that women didn't rate as highly"
   ],
   "metadata": {
    "collapsed": false
   }
  },
  {
   "cell_type": "code",
   "execution_count": 54,
   "outputs": [
    {
     "data": {
      "text/plain": "gender                                         F         M      diff\ntitle                                                               \nGood, The Bad and The Ugly, The (1966)  3.494949  4.221300  0.726351\nKentucky Fried Movie, The (1977)        2.878788  3.555147  0.676359\nDumb & Dumber (1994)                    2.697987  3.336595  0.638608\nLongest Day, The (1962)                 3.411765  4.031447  0.619682\nCable Guy, The (1996)                   2.250000  2.863787  0.613787\nEvil Dead II (Dead By Dawn) (1987)      3.297297  3.909283  0.611985\nHidden, The (1987)                      3.137931  3.745098  0.607167\nRocky III (1982)                        2.361702  2.943503  0.581801\nCaddyshack (1980)                       3.396135  3.969737  0.573602\nFor a Few Dollars More (1965)           3.409091  3.953795  0.544704",
      "text/html": "<div>\n<style scoped>\n    .dataframe tbody tr th:only-of-type {\n        vertical-align: middle;\n    }\n\n    .dataframe tbody tr th {\n        vertical-align: top;\n    }\n\n    .dataframe thead th {\n        text-align: right;\n    }\n</style>\n<table border=\"1\" class=\"dataframe\">\n  <thead>\n    <tr style=\"text-align: right;\">\n      <th>gender</th>\n      <th>F</th>\n      <th>M</th>\n      <th>diff</th>\n    </tr>\n    <tr>\n      <th>title</th>\n      <th></th>\n      <th></th>\n      <th></th>\n    </tr>\n  </thead>\n  <tbody>\n    <tr>\n      <th>Good, The Bad and The Ugly, The (1966)</th>\n      <td>3.494949</td>\n      <td>4.221300</td>\n      <td>0.726351</td>\n    </tr>\n    <tr>\n      <th>Kentucky Fried Movie, The (1977)</th>\n      <td>2.878788</td>\n      <td>3.555147</td>\n      <td>0.676359</td>\n    </tr>\n    <tr>\n      <th>Dumb &amp; Dumber (1994)</th>\n      <td>2.697987</td>\n      <td>3.336595</td>\n      <td>0.638608</td>\n    </tr>\n    <tr>\n      <th>Longest Day, The (1962)</th>\n      <td>3.411765</td>\n      <td>4.031447</td>\n      <td>0.619682</td>\n    </tr>\n    <tr>\n      <th>Cable Guy, The (1996)</th>\n      <td>2.250000</td>\n      <td>2.863787</td>\n      <td>0.613787</td>\n    </tr>\n    <tr>\n      <th>Evil Dead II (Dead By Dawn) (1987)</th>\n      <td>3.297297</td>\n      <td>3.909283</td>\n      <td>0.611985</td>\n    </tr>\n    <tr>\n      <th>Hidden, The (1987)</th>\n      <td>3.137931</td>\n      <td>3.745098</td>\n      <td>0.607167</td>\n    </tr>\n    <tr>\n      <th>Rocky III (1982)</th>\n      <td>2.361702</td>\n      <td>2.943503</td>\n      <td>0.581801</td>\n    </tr>\n    <tr>\n      <th>Caddyshack (1980)</th>\n      <td>3.396135</td>\n      <td>3.969737</td>\n      <td>0.573602</td>\n    </tr>\n    <tr>\n      <th>For a Few Dollars More (1965)</th>\n      <td>3.409091</td>\n      <td>3.953795</td>\n      <td>0.544704</td>\n    </tr>\n  </tbody>\n</table>\n</div>"
     },
     "execution_count": 54,
     "metadata": {},
     "output_type": "execute_result"
    }
   ],
   "source": [
    "sorted_by_diff[::-1][:10]"
   ],
   "metadata": {
    "collapsed": false,
    "pycharm": {
     "name": "#%%\n"
    }
   }
  },
  {
   "cell_type": "markdown",
   "source": [
    "Disagreement can be measured by the variance or standard deviation of the ratings"
   ],
   "metadata": {
    "collapsed": false
   }
  },
  {
   "cell_type": "code",
   "execution_count": 60,
   "outputs": [
    {
     "data": {
      "text/plain": "title\nDumb & Dumber (1994)                     1.321333\nBlair Witch Project, The (1999)          1.316368\nNatural Born Killers (1994)              1.307198\nTank Girl (1995)                         1.277695\nRocky Horror Picture Show, The (1975)    1.260177\nEyes Wide Shut (1999)                    1.259624\nEvita (1996)                             1.253631\nBilly Madison (1995)                     1.249970\nFear and Loathing in Las Vegas (1998)    1.246408\nBicentennial Man (1999)                  1.245533\nName: rating, dtype: float64"
     },
     "execution_count": 60,
     "metadata": {},
     "output_type": "execute_result"
    }
   ],
   "source": [
    "# Standard deviation of rating grouped by title\n",
    "rating_std_by_title = data.groupby('title')['rating'].std()\n",
    "\n",
    "#Filter down to active_titles\n",
    "rating_std_by_title = rating_std_by_title.loc[active_titles]\n",
    "\n",
    "#Order Series by value in descending order\n",
    "rating_std_by_title.sort_values(ascending = False)[:10]"
   ],
   "metadata": {
    "collapsed": false,
    "pycharm": {
     "name": "#%%\n"
    }
   }
  },
  {
   "cell_type": "code",
   "execution_count": null,
   "outputs": [],
   "source": [],
   "metadata": {
    "collapsed": false,
    "pycharm": {
     "name": "#%%\n"
    }
   }
  }
 ],
 "metadata": {
  "kernelspec": {
   "name": "python3",
   "language": "python",
   "display_name": "Python 3 (ipykernel)"
  },
  "language_info": {
   "codemirror_mode": {
    "name": "ipython",
    "version": 2
   },
   "file_extension": ".py",
   "mimetype": "text/x-python",
   "name": "python",
   "nbconvert_exporter": "python",
   "pygments_lexer": "ipython2",
   "version": "2.7.6"
  }
 },
 "nbformat": 4,
 "nbformat_minor": 0
}
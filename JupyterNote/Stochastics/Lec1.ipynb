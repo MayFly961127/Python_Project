{
 "cells": [
  {
   "cell_type": "code",
   "execution_count": 4,
   "metadata": {
    "collapsed": true
   },
   "outputs": [],
   "source": [
    "import random\n",
    "def rollDie():\n",
    "    return random.choice([1,2,3,4,5,6])\n",
    "def testRoll(n = 10):\n",
    "    result = ''\n",
    "    for i in range(n):\n",
    "        result  = result + str(rollDie())\n",
    "    print(result)"
   ]
  },
  {
   "cell_type": "code",
   "execution_count": 6,
   "outputs": [
    {
     "name": "stdout",
     "output_type": "stream",
     "text": [
      "61646\n"
     ]
    },
    {
     "data": {
      "text/plain": "0.0001286008230452675"
     },
     "execution_count": 6,
     "metadata": {},
     "output_type": "execute_result"
    }
   ],
   "source": [
    "testRoll(n = 5)\n",
    "#Porbabilit of 11111\n",
    "1/(6**5) #highly unlikely"
   ],
   "metadata": {
    "collapsed": false,
    "pycharm": {
     "name": "#%%\n"
    }
   }
  },
  {
   "cell_type": "code",
   "execution_count": 13,
   "outputs": [
    {
     "name": "stdout",
     "output_type": "stream",
     "text": [
      "Actual probability of 11111 = 0.0001286\n",
      "Estimated Probability of txt = 0.000129\n"
     ]
    }
   ],
   "source": [
    "def runSim(goal, numtrials, txt):\n",
    "    total = 0\n",
    "    for i in range(numtrials):\n",
    "        result = ''\n",
    "        for j in range(len(goal)):\n",
    "            result += str(rollDie())\n",
    "        if result == goal:\n",
    "            total +=1\n",
    "    print('Actual probability of', txt, '=', round(1/(6**len(goal)),8))\n",
    "    estProbability = round(total/numtrials,8)\n",
    "    print('Estimated Probability of', 'txt', '=', estProbability)\n",
    "runSim('11111',1000000,'11111')"
   ],
   "metadata": {
    "collapsed": false,
    "pycharm": {
     "name": "#%%\n"
    }
   }
  },
  {
   "cell_type": "code",
   "execution_count": 29,
   "outputs": [
    {
     "name": "stdout",
     "output_type": "stream",
     "text": [
      "For 10 est. prob. of a shared birthday is 0.0\n",
      "Actual prob. for N = 100=  0.1166454118039999\n",
      "For 20 est. prob. of a shared birthday is 0.0\n",
      "Actual prob. for N = 100=  0.4105696370550831\n",
      "For 40 est. prob. of a shared birthday is 0.0\n",
      "Actual prob. for N = 100=  0.89054476188945\n",
      "For 100 est. prob. of a shared birthday is 0.0\n",
      "Actual prob. for N = 100=  0.9999996784357714\n"
     ]
    }
   ],
   "source": [
    "\n",
    "def sameDate(numPeople, numSame):\n",
    "    possilbeDaes = 4*list(range(0, 57)) \\\n",
    "                   + [58] + \\\n",
    "                   4*list(range(59,366)) + \\\n",
    "                   4*list(range(180,270))\n",
    "    birthdays = [0]*366\n",
    "\n",
    "    # possibleDates = range(366)\n",
    "    # birthdays = [0]*366\n",
    "    # for p in range(numPeople):\n",
    "    #     birthDate = random.choice(possibleDates)\n",
    "    #     birthdays[birthDate] += 1\n",
    "    # return max(birthdays) >= numSame\n",
    "\n",
    "def birthdayProb(numPeople, numSame, numTrials):\n",
    "    numHits = 0\n",
    "    for t in range(numTrials):\n",
    "        if sameDate(numPeople, numSame):\n",
    "            numHits += 1\n",
    "    return numHits/numTrials\n",
    "import math\n",
    "for numPeople in [10, 20, 40, 100]:\n",
    "    print('For', numPeople, 'est. prob. of a shared birthday is',\n",
    "          birthdayProb(numPeople, 3, 10000))\n",
    "    numerator = math.factorial(366)\n",
    "    denom = (366**numPeople)*math.factorial(366 - numPeople)\n",
    "    print('Actual prob. for N = 100= ', 1- numerator/denom)"
   ],
   "metadata": {
    "collapsed": false,
    "pycharm": {
     "name": "#%%\n"
    }
   }
  },
  {
   "cell_type": "code",
   "execution_count": 20,
   "outputs": [],
   "source": [
    "def sameDate(numPeople, numSame):\n",
    "    possilbeDaes = 4*list(range(0, 57) + [58] \\\n",
    "                          + 4*list(range(59,366))\n",
    "                          + 4*list(range(180,270)))\n",
    "    birthdays = [0]*366\n",
    "    for p in range(numPeople):\n",
    "        birthDate = random.choice(possilbeDaes)\n",
    "        birthdays[birthDate] += 1\n",
    "    return max(birthdays) >= numSame"
   ],
   "metadata": {
    "collapsed": false,
    "pycharm": {
     "name": "#%%\n"
    }
   }
  },
  {
   "cell_type": "code",
   "execution_count": 1,
   "outputs": [
    {
     "name": "stdout",
     "output_type": "stream",
     "text": [
      "hi\n"
     ]
    }
   ],
   "source": [
    "print('hi')"
   ],
   "metadata": {
    "collapsed": false,
    "pycharm": {
     "name": "#%%\n"
    }
   }
  },
  {
   "cell_type": "code",
   "execution_count": null,
   "outputs": [],
   "source": [],
   "metadata": {
    "collapsed": false,
    "pycharm": {
     "name": "#%%\n"
    }
   }
  }
 ],
 "metadata": {
  "kernelspec": {
   "display_name": "Python 3",
   "language": "python",
   "name": "python3"
  },
  "language_info": {
   "codemirror_mode": {
    "name": "ipython",
    "version": 2
   },
   "file_extension": ".py",
   "mimetype": "text/x-python",
   "name": "python",
   "nbconvert_exporter": "python",
   "pygments_lexer": "ipython2",
   "version": "2.7.6"
  }
 },
 "nbformat": 4,
 "nbformat_minor": 0
}
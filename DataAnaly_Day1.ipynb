{
 "cells": [
  {
   "cell_type": "code",
   "execution_count": 1,
   "metadata": {
    "collapsed": true
   },
   "outputs": [],
   "source": [
    "%quickref"
   ]
  },
  {
   "cell_type": "code",
   "execution_count": 3,
   "outputs": [
    {
     "name": "stdout",
     "output_type": "stream",
     "text": [
      "[ 0.          1.11111111  2.22222222  3.33333333  4.44444444  5.55555556\n",
      "  6.66666667  7.77777778  8.88888889 10.        ]\n"
     ]
    }
   ],
   "source": [
    "import numpy as np\n",
    "a = np.linspace(0,10,10)\n",
    "print(a)"
   ],
   "metadata": {
    "collapsed": false,
    "pycharm": {
     "name": "#%%\n"
    }
   }
  },
  {
   "cell_type": "code",
   "execution_count": 8,
   "outputs": [],
   "source": [
    "%quickref #Display the Ipython Quick Ref Card"
   ],
   "metadata": {
    "collapsed": false,
    "pycharm": {
     "name": "#%%\n"
    }
   }
  },
  {
   "cell_type": "code",
   "execution_count": 5,
   "outputs": [
    {
     "data": {
      "text/plain": "'C:\\\\Users\\\\김승환'"
     },
     "execution_count": 5,
     "metadata": {},
     "output_type": "execute_result"
    }
   ],
   "source": [
    "foo = %pwd #my current location\n",
    "foo"
   ],
   "metadata": {
    "collapsed": false,
    "pycharm": {
     "name": "#%%\n"
    }
   }
  },
  {
   "cell_type": "code",
   "execution_count": 6,
   "outputs": [],
   "source": [
    "%magic #Diaplay Ditailed discription of magic commands"
   ],
   "metadata": {
    "collapsed": false,
    "pycharm": {
     "name": "#%%\n"
    }
   }
  },
  {
   "cell_type": "code",
   "execution_count": 7,
   "outputs": [
    {
     "name": "stdout",
     "output_type": "stream",
     "text": [
      "%quickref\n",
      "import numpy as np\n",
      "a = np.linspace(0,10,1)\n",
      "print(a)\n",
      "import numpy as np\n",
      "a = np.linspace(0,10,10)\n",
      "print(a)\n",
      "%quickref\n",
      "foo = %pwd\n",
      "foo\n",
      "%magic #Diaplay Ditailed discription of magic commands\n",
      "%hist\n"
     ]
    }
   ],
   "source": [
    "%hist"
   ],
   "metadata": {
    "collapsed": false,
    "pycharm": {
     "name": "#%%\n"
    }
   }
  },
  {
   "cell_type": "code",
   "execution_count": 11,
   "outputs": [
    {
     "data": {
      "text/plain": "{5: 'C:\\\\Users\\\\김승환'}"
     },
     "execution_count": 11,
     "metadata": {},
     "output_type": "execute_result"
    }
   ],
   "source": [
    "_oh #Output History"
   ],
   "metadata": {
    "collapsed": false,
    "pycharm": {
     "name": "#%%\n"
    }
   }
  },
  {
   "cell_type": "code",
   "execution_count": 12,
   "outputs": [
    {
     "name": "stderr",
     "output_type": "stream",
     "text": [
      "UsageError: Line magic function `%paste` not found.\n"
     ]
    }
   ],
   "source": [
    "%paste"
   ],
   "metadata": {
    "collapsed": false,
    "pycharm": {
     "name": "#%%\n"
    }
   }
  },
  {
   "cell_type": "code",
   "execution_count": 13,
   "outputs": [],
   "source": [
    "%reset #Delete all vrialbes"
   ],
   "metadata": {
    "collapsed": false,
    "pycharm": {
     "name": "#%%\n"
    }
   }
  },
  {
   "cell_type": "code",
   "execution_count": 14,
   "outputs": [
    {
     "ename": "NameError",
     "evalue": "name 'a' is not defined",
     "output_type": "error",
     "traceback": [
      "\u001B[1;31m---------------------------------------------------------------------------\u001B[0m",
      "\u001B[1;31mNameError\u001B[0m                                 Traceback (most recent call last)",
      "\u001B[1;32m<ipython-input-14-3f786850e387>\u001B[0m in \u001B[0;36m<module>\u001B[1;34m\u001B[0m\n\u001B[1;32m----> 1\u001B[1;33m \u001B[0ma\u001B[0m\u001B[1;33m\u001B[0m\u001B[1;33m\u001B[0m\u001B[0m\n\u001B[0m",
      "\u001B[1;31mNameError\u001B[0m: name 'a' is not defined"
     ]
    }
   ],
   "source": [
    "a"
   ],
   "metadata": {
    "collapsed": false,
    "pycharm": {
     "name": "#%%\n"
    }
   }
  },
  {
   "cell_type": "code",
   "execution_count": 23,
   "outputs": [],
   "source": [
    "import numpy as np\n",
    "a = np.random.rand(10)\n",
    "len(a)\n",
    "%page a"
   ],
   "metadata": {
    "collapsed": false,
    "pycharm": {
     "name": "#%%\n"
    }
   }
  },
  {
   "cell_type": "code",
   "execution_count": 24,
   "outputs": [
    {
     "data": {
      "text/plain": "array([0.18762642, 0.07309049, 0.05589129, 0.47441999, 0.69070888,\n       0.26556532, 0.96591174, 0.47666357, 0.3750884 , 0.64950542])"
     },
     "execution_count": 24,
     "metadata": {},
     "output_type": "execute_result"
    }
   ],
   "source": [
    "a"
   ],
   "metadata": {
    "collapsed": false,
    "pycharm": {
     "name": "#%%\n"
    }
   }
  },
  {
   "cell_type": "code",
   "execution_count": 25,
   "outputs": [
    {
     "data": {
      "text/plain": "2"
     },
     "execution_count": 25,
     "metadata": {},
     "output_type": "execute_result"
    }
   ],
   "source": [
    "1+1"
   ],
   "metadata": {
    "collapsed": false,
    "pycharm": {
     "name": "#%%\n"
    }
   }
  },
  {
   "cell_type": "code",
   "execution_count": 27,
   "outputs": [
    {
     "name": "stdout",
     "output_type": "stream",
     "text": [
      "1.44 µs ± 133 ns per loop (mean ± std. dev. of 7 runs, 1000000 loops each)\n",
      "Wall time: 0 ns\n"
     ]
    },
    {
     "data": {
      "text/plain": "array([[0.54194232, 0.98790968, 1.64261078, 1.53261008, 1.36387335],\n       [0.53527121, 1.37778463, 1.44613959, 1.61430669, 1.04840321],\n       [1.27644473, 1.39690758, 2.23076872, 2.46066155, 2.05548554],\n       [1.032055  , 1.14391735, 1.41053301, 2.05607383, 1.37477361],\n       [0.76323474, 0.92496464, 1.64134384, 1.56803966, 1.09041763]])"
     },
     "execution_count": 27,
     "metadata": {},
     "output_type": "execute_result"
    }
   ],
   "source": [
    "b = np.random.rand(5,5)\n",
    "%timeit np.dot(b,b) #average excution time"
   ],
   "metadata": {
    "collapsed": false,
    "pycharm": {
     "name": "#%%\n"
    }
   }
  },
  {
   "cell_type": "code",
   "execution_count": 30,
   "outputs": [
    {
     "name": "stdout",
     "output_type": "stream",
     "text": [
      "Wall time: 0 ns\n"
     ]
    }
   ],
   "source": [
    "%time np.dot(b,b) #Single excution time\n",
    "k = np.dot(b,b)\n",
    "%page k"
   ],
   "metadata": {
    "collapsed": false,
    "pycharm": {
     "name": "#%%\n"
    }
   }
  },
  {
   "cell_type": "code",
   "execution_count": 31,
   "outputs": [
    {
     "name": "stdout",
     "output_type": "stream",
     "text": [
      "DataFrame\t MultiIndex\t a\t b\t k\t np\t pd\t print_columns\t pydev_jupyter_vars\t \n",
      "remove_imported_pydev_package\t sys\t \n"
     ]
    }
   ],
   "source": [
    "%who #Diaply varialbes defined in interative namespace"
   ],
   "metadata": {
    "collapsed": false,
    "pycharm": {
     "name": "#%%\n"
    }
   }
  },
  {
   "cell_type": "code",
   "execution_count": 32,
   "outputs": [
    {
     "data": {
      "text/plain": "['DataFrame',\n 'MultiIndex',\n 'a',\n 'b',\n 'k',\n 'np',\n 'pd',\n 'print_columns',\n 'pydev_jupyter_vars',\n 'remove_imported_pydev_package',\n 'sys']"
     },
     "execution_count": 32,
     "metadata": {},
     "output_type": "execute_result"
    }
   ],
   "source": [
    "%who_ls"
   ],
   "metadata": {
    "collapsed": false,
    "pycharm": {
     "name": "#%%\n"
    }
   }
  },
  {
   "cell_type": "code",
   "execution_count": 33,
   "outputs": [
    {
     "name": "stdout",
     "output_type": "stream",
     "text": [
      "Variable                        Type        Data/Info\n",
      "-----------------------------------------------------\n",
      "DataFrame                       type        <class 'pandas.core.frame.DataFrame'>\n",
      "MultiIndex                      type        <class 'pandas.core.indexes.multi.MultiIndex'>\n",
      "a                               ndarray     10: 10 elems, type `float64`, 80 bytes\n",
      "b                               ndarray     5x5: 25 elems, type `float64`, 200 bytes\n",
      "k                               ndarray     5x5: 25 elems, type `float64`, 200 bytes\n",
      "np                              module      <module 'numpy' from 'C:\\<...>ges\\\\numpy\\\\__init__.py'>\n",
      "pd                              module      <module 'pandas' from 'C:<...>es\\\\pandas\\\\__init__.py'>\n",
      "print_columns                   function    <function print_columns at 0x0000016D1EE79CA8>\n",
      "pydev_jupyter_vars              module      <module 'pydev_jupyter_va<...>\\\\pydev_jupyter_vars.py'>\n",
      "remove_imported_pydev_package   function    <function remove_imported<...>ge at 0x0000016D1C95F288>\n",
      "sys                             module      <module 'sys' (built-in)>\n"
     ]
    }
   ],
   "source": [
    "%whos"
   ],
   "metadata": {
    "collapsed": false,
    "pycharm": {
     "name": "#%%\n"
    }
   }
  },
  {
   "cell_type": "code",
   "execution_count": 34,
   "outputs": [
    {
     "name": "stdout",
     "output_type": "stream",
     "text": [
      "Variable                        Type        Data/Info\n",
      "-----------------------------------------------------\n",
      "DataFrame                       type        <class 'pandas.core.frame.DataFrame'>\n",
      "MultiIndex                      type        <class 'pandas.core.indexes.multi.MultiIndex'>\n",
      "a                               ndarray     10: 10 elems, type `float64`, 80 bytes\n",
      "k                               ndarray     5x5: 25 elems, type `float64`, 200 bytes\n",
      "np                              module      <module 'numpy' from 'C:\\<...>ges\\\\numpy\\\\__init__.py'>\n",
      "pd                              module      <module 'pandas' from 'C:<...>es\\\\pandas\\\\__init__.py'>\n",
      "print_columns                   function    <function print_columns at 0x0000016D1EE79CA8>\n",
      "pydev_jupyter_vars              module      <module 'pydev_jupyter_va<...>\\\\pydev_jupyter_vars.py'>\n",
      "remove_imported_pydev_package   function    <function remove_imported<...>ge at 0x0000016D1C95F288>\n",
      "sys                             module      <module 'sys' (built-in)>\n"
     ]
    }
   ],
   "source": [
    "%xdel b\n",
    "%whos"
   ],
   "metadata": {
    "collapsed": false,
    "pycharm": {
     "name": "#%%\n"
    }
   }
  },
  {
   "cell_type": "code",
   "execution_count": 36,
   "outputs": [
    {
     "name": "stdout",
     "output_type": "stream",
     "text": [
      "Variable                        Type        Data/Info\n",
      "-----------------------------------------------------\n",
      "DataFrame                       type        <class 'pandas.core.frame.DataFrame'>\n",
      "MultiIndex                      type        <class 'pandas.core.indexes.multi.MultiIndex'>\n",
      "a                               ndarray     10: 10 elems, type `float64`, 80 bytes\n",
      "k                               ndarray     5x5: 25 elems, type `float64`, 200 bytes\n",
      "np                              module      <module 'numpy' from 'C:\\<...>ges\\\\numpy\\\\__init__.py'>\n",
      "pd                              module      <module 'pandas' from 'C:<...>es\\\\pandas\\\\__init__.py'>\n",
      "print_columns                   function    <function print_columns at 0x0000016D1EE798B8>\n",
      "pydev_jupyter_vars              module      <module 'pydev_jupyter_va<...>\\\\pydev_jupyter_vars.py'>\n",
      "remove_imported_pydev_package   function    <function remove_imported<...>ge at 0x0000016D1C95F288>\n",
      "show                            NoneType    None\n",
      "sys                             module      <module 'sys' (built-in)>\n"
     ]
    }
   ],
   "source": [
    "show = %whos\n",
    "%page %whos"
   ],
   "metadata": {
    "collapsed": false,
    "pycharm": {
     "name": "#%%\n"
    }
   }
  },
  {
   "cell_type": "code",
   "execution_count": 37,
   "outputs": [
    {
     "name": "stdout",
     "output_type": "stream",
     "text": [
      "Automatic pdb calling has been turned ON\n"
     ]
    }
   ],
   "source": [
    "%pdb"
   ],
   "metadata": {
    "collapsed": false,
    "pycharm": {
     "name": "#%%\n"
    }
   }
  },
  {
   "cell_type": "code",
   "execution_count": 49,
   "outputs": [],
   "source": [
    "data = [1,2,3]\n",
    "data.append(4)\n",
    "%page data"
   ],
   "metadata": {
    "collapsed": false,
    "pycharm": {
     "name": "#%%\n"
    }
   }
  },
  {
   "cell_type": "code",
   "execution_count": 44,
   "outputs": [
    {
     "name": "stdout",
     "output_type": "stream",
     "text": [
      "Variable                        Type        Data/Info\n",
      "-----------------------------------------------------\n",
      "DataFrame                       type        <class 'pandas.core.frame.DataFrame'>\n",
      "MultiIndex                      type        <class 'pandas.core.indexes.multi.MultiIndex'>\n",
      "a                               ndarray     10: 10 elems, type `float64`, 80 bytes\n",
      "data                            NoneType    None\n",
      "k                               ndarray     5x5: 25 elems, type `float64`, 200 bytes\n",
      "np                              module      <module 'numpy' from 'C:\\<...>ges\\\\numpy\\\\__init__.py'>\n",
      "pd                              module      <module 'pandas' from 'C:<...>es\\\\pandas\\\\__init__.py'>\n",
      "print_columns                   function    <function print_columns at 0x0000016D1EEA2438>\n",
      "pydev_jupyter_vars              module      <module 'pydev_jupyter_va<...>\\\\pydev_jupyter_vars.py'>\n",
      "remove_imported_pydev_package   function    <function remove_imported<...>ge at 0x0000016D1C95F288>\n",
      "show                            NoneType    None\n",
      "sys                             module      <module 'sys' (built-in)>\n"
     ]
    }
   ],
   "source": [
    "%whos"
   ],
   "metadata": {
    "collapsed": false,
    "pycharm": {
     "name": "#%%\n"
    }
   }
  },
  {
   "cell_type": "code",
   "execution_count": 52,
   "outputs": [
    {
     "data": {
      "text/plain": "[1, 2, 3, 4]"
     },
     "execution_count": 52,
     "metadata": {},
     "output_type": "execute_result"
    }
   ],
   "source": [
    "data_1 = data.copy()\n",
    "data_1.append(5)\n",
    "data"
   ],
   "metadata": {
    "collapsed": false,
    "pycharm": {
     "name": "#%%\n"
    }
   }
  },
  {
   "cell_type": "code",
   "execution_count": 64,
   "outputs": [
    {
     "data": {
      "text/plain": "[1, 2, 3, 4, 5, 4]"
     },
     "execution_count": 64,
     "metadata": {},
     "output_type": "execute_result"
    }
   ],
   "source": [
    "def append_element(some_list, element):\n",
    "    return some_list.append(element)\n",
    "data = [1,2,3,4,5]\n",
    "append_element(data,4)\n",
    "data_copy = data.copy()"
   ],
   "metadata": {
    "collapsed": false,
    "pycharm": {
     "name": "#%%\n"
    }
   }
  },
  {
   "cell_type": "code",
   "execution_count": 65,
   "outputs": [
    {
     "name": "stdout",
     "output_type": "stream",
     "text": [
      "<class 'int'>\n",
      "<class 'str'>\n"
     ]
    }
   ],
   "source": [
    "a = 5\n",
    "print(type(a))\n",
    "\n",
    "a = 'foo'\n",
    "print(type(a))"
   ],
   "metadata": {
    "collapsed": false,
    "pycharm": {
     "name": "#%%\n"
    }
   }
  },
  {
   "cell_type": "code",
   "execution_count": 68,
   "outputs": [
    {
     "name": "stdout",
     "output_type": "stream",
     "text": [
      "Automatic pdb calling has been turned OFF\n"
     ]
    }
   ],
   "source": [
    "%pdb"
   ],
   "metadata": {
    "collapsed": false,
    "pycharm": {
     "name": "#%%\n"
    }
   }
  },
  {
   "cell_type": "code",
   "execution_count": 69,
   "outputs": [
    {
     "ename": "TypeError",
     "evalue": "unsupported operand type(s) for +: 'int' and 'str'",
     "output_type": "error",
     "traceback": [
      "\u001B[1;31m---------------------------------------------------------------------------\u001B[0m",
      "\u001B[1;31mTypeError\u001B[0m                                 Traceback (most recent call last)",
      "\u001B[1;32m<ipython-input-69-9291ecb20d5e>\u001B[0m in \u001B[0;36m<module>\u001B[1;34m\u001B[0m\n\u001B[1;32m----> 1\u001B[1;33m \u001B[1;36m5\u001B[0m \u001B[1;33m+\u001B[0m \u001B[1;34m'5'\u001B[0m\u001B[1;33m\u001B[0m\u001B[1;33m\u001B[0m\u001B[0m\n\u001B[0m\u001B[0;32m      2\u001B[0m \u001B[0mprint\u001B[0m\u001B[1;33m(\u001B[0m\u001B[1;34m\"In python, every object has a specific type (or class) \"\u001B[0m\u001B[1;33m)\u001B[0m\u001B[1;33m\u001B[0m\u001B[1;33m\u001B[0m\u001B[0m\n",
      "\u001B[1;31mTypeError\u001B[0m: unsupported operand type(s) for +: 'int' and 'str'"
     ]
    }
   ],
   "source": [
    "5 + '5'\n",
    "print(\"In python, every object has a specific type (or class) \")"
   ],
   "metadata": {
    "collapsed": false,
    "pycharm": {
     "name": "#%%\n"
    }
   }
  },
  {
   "cell_type": "code",
   "execution_count": 71,
   "outputs": [
    {
     "data": {
      "text/plain": "True"
     },
     "execution_count": 71,
     "metadata": {},
     "output_type": "execute_result"
    }
   ],
   "source": [
    "a = 5\n",
    "isinstance(a, int) #it tells me the object is in the class"
   ],
   "metadata": {
    "collapsed": false,
    "pycharm": {
     "name": "#%%\n"
    }
   }
  },
  {
   "cell_type": "code",
   "execution_count": 73,
   "outputs": [
    {
     "name": "stdout",
     "output_type": "stream",
     "text": [
      "True True\n"
     ]
    }
   ],
   "source": [
    "a = 5 ; b = 3.1231\n",
    "print(isinstance(a, int),\n",
    "isinstance(b, float))"
   ],
   "metadata": {
    "collapsed": false,
    "pycharm": {
     "name": "#%%\n"
    }
   }
  },
  {
   "cell_type": "code",
   "execution_count": 75,
   "outputs": [
    {
     "data": {
      "text/plain": "<function str.split(sep=None, maxsplit=-1)>"
     },
     "execution_count": 75,
     "metadata": {},
     "output_type": "execute_result"
    }
   ],
   "source": [
    "a = 'foo'\n",
    "getattr(a, 'split')"
   ],
   "metadata": {
    "collapsed": false,
    "pycharm": {
     "name": "#%%\n"
    }
   }
  },
  {
   "cell_type": "code",
   "execution_count": 80,
   "outputs": [
    {
     "data": {
      "text/plain": "'FOO'"
     },
     "execution_count": 80,
     "metadata": {},
     "output_type": "execute_result"
    }
   ],
   "source": [
    "a.upper()"
   ],
   "metadata": {
    "collapsed": false,
    "pycharm": {
     "name": "#%%\n"
    }
   }
  },
  {
   "cell_type": "code",
   "execution_count": 82,
   "outputs": [
    {
     "name": "stdout",
     "output_type": "stream",
     "text": [
      "True True False False\n"
     ]
    }
   ],
   "source": [
    "def isiterable(obj):\n",
    "    try:\n",
    "        iter(obj)\n",
    "        return True\n",
    "    except TypeError:\n",
    "        return False\n",
    "\n",
    "print(isiterable('a string'),\n",
    "      isiterable(([1,2,3])),\n",
    "      isiterable(3),\n",
    "      isiterable(3.3))"
   ],
   "metadata": {
    "collapsed": false,
    "pycharm": {
     "name": "#%%\n"
    }
   }
  },
  {
   "cell_type": "code",
   "execution_count": 90,
   "outputs": [
    {
     "name": "stdout",
     "output_type": "stream",
     "text": [
      "['d']\n"
     ]
    }
   ],
   "source": [
    "x = 'd'\n",
    "if not isinstance(x, list) and isiterable(x):\n",
    "    x = list(x)\n",
    "    print(x)"
   ],
   "metadata": {
    "collapsed": false,
    "pycharm": {
     "name": "#%%\n"
    }
   }
  },
  {
   "cell_type": "code",
   "execution_count": 87,
   "outputs": [
    {
     "ename": "TypeError",
     "evalue": "'int' object is not iterable",
     "output_type": "error",
     "traceback": [
      "\u001B[1;31m---------------------------------------------------------------------------\u001B[0m",
      "\u001B[1;31mTypeError\u001B[0m                                 Traceback (most recent call last)",
      "\u001B[1;32m<ipython-input-87-45b3106cf9e7>\u001B[0m in \u001B[0;36m<module>\u001B[1;34m\u001B[0m\n\u001B[0;32m      1\u001B[0m \u001B[0mx\u001B[0m \u001B[1;33m=\u001B[0m \u001B[1;36m3\u001B[0m\u001B[1;33m\u001B[0m\u001B[1;33m\u001B[0m\u001B[0m\n\u001B[1;32m----> 2\u001B[1;33m \u001B[0mlist\u001B[0m\u001B[1;33m(\u001B[0m\u001B[0mx\u001B[0m\u001B[1;33m)\u001B[0m\u001B[1;33m\u001B[0m\u001B[1;33m\u001B[0m\u001B[0m\n\u001B[0m",
      "\u001B[1;31mTypeError\u001B[0m: 'int' object is not iterable"
     ]
    }
   ],
   "source": [
    "x = 3\n",
    "list(x)"
   ],
   "metadata": {
    "collapsed": false,
    "pycharm": {
     "name": "#%%\n"
    }
   }
  },
  {
   "cell_type": "code",
   "execution_count": 94,
   "outputs": [
    {
     "data": {
      "text/plain": "'C:\\\\Users\\\\김승환'"
     },
     "execution_count": 94,
     "metadata": {},
     "output_type": "execute_result"
    }
   ],
   "source": [
    "%pwd"
   ],
   "metadata": {
    "collapsed": false,
    "pycharm": {
     "name": "#%%\n"
    }
   }
  },
  {
   "cell_type": "code",
   "execution_count": null,
   "outputs": [],
   "source": [],
   "metadata": {
    "collapsed": false,
    "pycharm": {
     "name": "#%%\n"
    }
   }
  }
 ],
 "metadata": {
  "kernelspec": {
   "display_name": "Python 3",
   "language": "python",
   "name": "python3"
  },
  "language_info": {
   "codemirror_mode": {
    "name": "ipython",
    "version": 2
   },
   "file_extension": ".py",
   "mimetype": "text/x-python",
   "name": "python",
   "nbconvert_exporter": "python",
   "pygments_lexer": "ipython2",
   "version": "2.7.6"
  }
 },
 "nbformat": 4,
 "nbformat_minor": 0
}